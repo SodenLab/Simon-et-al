{
 "cells": [
  {
   "cell_type": "markdown",
   "id": "f28b856a",
   "metadata": {},
   "source": [
    "All copy number thresholds are 3 for ths dataset"
   ]
  },
  {
   "cell_type": "markdown",
   "id": "90eb1e51",
   "metadata": {},
   "source": [
    "### loading libraries and defining functions"
   ]
  },
  {
   "cell_type": "code",
   "execution_count": 1,
   "id": "9739b835",
   "metadata": {
    "collapsed": true
   },
   "outputs": [
    {
     "name": "stderr",
     "output_type": "stream",
     "text": [
      "Warning message:\n",
      "\"package 'ggplot2' was built under R version 4.1.3\"\n",
      "Warning message:\n",
      "\"package 'xlsx' was built under R version 4.1.3\"\n",
      "Warning message:\n",
      "\"package 'eulerr' was built under R version 4.1.3\"\n",
      "Warning message:\n",
      "\"package 'dplyr' was built under R version 4.1.3\"\n",
      "\n",
      "Attaching package: 'dplyr'\n",
      "\n",
      "\n",
      "The following objects are masked from 'package:stats':\n",
      "\n",
      "    filter, lag\n",
      "\n",
      "\n",
      "The following objects are masked from 'package:base':\n",
      "\n",
      "    intersect, setdiff, setequal, union\n",
      "\n",
      "\n",
      "Warning message:\n",
      "\"package 'scales' was built under R version 4.1.3\"\n",
      "Warning message:\n",
      "\"package 'reshape2' was built under R version 4.1.3\"\n"
     ]
    }
   ],
   "source": [
    "library(ggplot2)\n",
    "library(xlsx)\n",
    "library(eulerr)\n",
    "library(dplyr)\n",
    "library(scales)\n",
    "library(reshape2)\n",
    "\n"
   ]
  },
  {
   "cell_type": "markdown",
   "id": "d1ccd044",
   "metadata": {},
   "source": [
    "### defining functions for isolating cells"
   ]
  },
  {
   "cell_type": "code",
   "execution_count": 2,
   "id": "cf07a0a5",
   "metadata": {},
   "outputs": [],
   "source": [
    "#Define a function for subsetting cells positive for a gene\n",
    "#copynum is minimum copies for a cell to be considered positive; default is 3\n",
    "\n",
    "pos_cells <- function(data, gene, copynum = 3){\n",
    "\n",
    "    data[ data[paste0(gene,\".Copies\")] >= copynum, ]\n",
    "    \n",
    "}\n",
    "\n",
    "#Define a function for subsetting cells negative for a gene\n",
    "#copynum is minimum copies for a cell to be considered positive; default is 3\n",
    "\n",
    "neg_cells <- function(data, gene, copynum = 3){\n",
    "\n",
    "    data[ data[paste0(gene,\".Copies\")] < copynum, ]\n",
    "}\n",
    "\n",
    "#Define a function, posOR_cells for subsetting cells positive for either of two genes\n",
    "#copynum is minimum copies for a cell to be considered positive; default is 3\n",
    "\n",
    "posOR_cells <- function(data, gene1, gene2, copynum1 = 3, copynum2 = 3){\n",
    "\n",
    "    data[ (data[paste0(gene1,\".Copies\")] >= copynum1) | (data[paste0(gene2,\".Copies\")] >= copynum2), ]\n",
    "}"
   ]
  },
  {
   "cell_type": "code",
   "execution_count": 3,
   "id": "c6ead0a1",
   "metadata": {},
   "outputs": [],
   "source": [
    "#Define a function for subsetting cells to be used in Euler plot calculations, for 3 genes\n",
    "#outputs the number of cells\n",
    "#This function is used as a subfunction in 'euler_values'\n",
    "\n",
    "euler_cells <- function(data, gene1, gene2, gene3, copynum1=3, copynum2=3, copynum3=3, \n",
    "                        gene1posneg, gene2posneg, gene3posneg){\n",
    "    \n",
    "    if(gene1posneg=='pos'){\n",
    "        sub1<-data[ data[paste0(gene1,\".Copies\")] >= copynum1, ]\n",
    "        } else {\n",
    "            sub1<-data[ data[paste0(gene1,\".Copies\")] < copynum1, ]\n",
    "            }\n",
    "    \n",
    "    if(gene2posneg=='pos'){\n",
    "        sub2<-sub1[ sub1[paste0(gene2,\".Copies\")] >= copynum2, ]\n",
    "        } else {\n",
    "            sub2<-sub1[ sub1[paste0(gene2,\".Copies\")] < copynum2, ]\n",
    "            }\n",
    "    \n",
    "    if(gene3posneg=='pos'){\n",
    "        sub3<-sub2[ sub2[paste0(gene3,\".Copies\")] >= copynum3, ]\n",
    "        } else {\n",
    "            sub3<-sub2[ sub2[paste0(gene3,\".Copies\")] < copynum3, ]\n",
    "            }\n",
    "    nrow(sub3)\n",
    "}"
   ]
  },
  {
   "cell_type": "code",
   "execution_count": 4,
   "id": "ea232472",
   "metadata": {},
   "outputs": [],
   "source": [
    "#Define a function for subsetting cells to be used in Euler plot calculations, for 4 genes\n",
    "#outputs the number of cells\n",
    "#This function is used as a subfunction in 'euler_values'\n",
    "\n",
    "euler_cells4 <- function(data, gene1, gene2, gene3, gene4, copynum1=3, copynum2=3, copynum3=3, copynum4=3, \n",
    "                        gene1posneg, gene2posneg, gene3posneg, gene4posneg){\n",
    "    \n",
    "    if(gene1posneg=='pos'){\n",
    "        sub1<-data[ data[paste0(gene1,\".Copies\")] >= copynum1, ]\n",
    "        } else {\n",
    "            sub1<-data[ data[paste0(gene1,\".Copies\")] < copynum1, ]\n",
    "            }\n",
    "    \n",
    "    if(gene2posneg=='pos'){\n",
    "        sub2<-sub1[ sub1[paste0(gene2,\".Copies\")] >= copynum2, ]\n",
    "        } else {\n",
    "            sub2<-sub1[ sub1[paste0(gene2,\".Copies\")] < copynum2, ]\n",
    "            }\n",
    "    \n",
    "    if(gene3posneg=='pos'){\n",
    "        sub3<-sub2[ sub2[paste0(gene3,\".Copies\")] >= copynum3, ]\n",
    "        } else {\n",
    "            sub3<-sub2[ sub2[paste0(gene3,\".Copies\")] < copynum3, ]\n",
    "            }\n",
    "    \n",
    "    if(gene4posneg=='pos'){\n",
    "        sub4<-sub3[ sub3[paste0(gene4,\".Copies\")] >= copynum4, ]\n",
    "        } else {\n",
    "            sub4<-sub3[ sub3[paste0(gene4,\".Copies\")] < copynum4, ]\n",
    "            }\n",
    "    \n",
    "    nrow(sub4)\n",
    "}"
   ]
  },
  {
   "cell_type": "code",
   "execution_count": 5,
   "id": "6838032c",
   "metadata": {},
   "outputs": [],
   "source": [
    "#Define a function for tabulating values for Euler plots, for 3 genes\n",
    "#Generates a list of number of cells in each category\n",
    "#This version all copynum=3\n",
    "\n",
    "euler_values<-function(data){\n",
    "Acells <- euler_cells(data, sub_gene1, sub_gene2, sub_gene3,  \n",
    "                        copynum1=3, copynum2=3, copynum3=3,\n",
    "                        gene1posneg='pos', gene2posneg='neg', gene3posneg='neg')\n",
    "Bcells <- euler_cells(data, sub_gene1, sub_gene2, sub_gene3, \n",
    "                        copynum1=3, copynum2=3, copynum3=3,\n",
    "                        gene1posneg='neg', gene2posneg='pos', gene3posneg='neg')\n",
    "Ccells <- euler_cells(data, sub_gene1, sub_gene2, sub_gene3, \n",
    "                        copynum1=3, copynum2=3, copynum3=3,\n",
    "                        gene1posneg='neg', gene2posneg='neg', gene3posneg='pos') \n",
    "ABcells<- euler_cells(data, sub_gene1, sub_gene2, sub_gene3, \n",
    "                        copynum1=3, copynum2=3, copynum3=3,\n",
    "                        gene1posneg='pos', gene2posneg='pos', gene3posneg='neg') \n",
    "ACcells<- euler_cells(data, sub_gene1, sub_gene2, sub_gene3, \n",
    "                        copynum1=3, copynum2=3, copynum3=3,\n",
    "                        gene1posneg='pos', gene2posneg='neg', gene3posneg='pos') \n",
    "BCcells<- euler_cells(data, sub_gene1, sub_gene2, sub_gene3, \n",
    "                       copynum1=3, copynum2=3, copynum3=3,\n",
    "                        gene1posneg='neg', gene2posneg='pos', gene3posneg='pos') \n",
    "ABCcells<- euler_cells(data, sub_gene1, sub_gene2, sub_gene3, \n",
    "                       copynum1=3, copynum2=3, copynum3=3,\n",
    "                        gene1posneg='pos', gene2posneg='pos', gene3posneg='pos') \n",
    "    \n",
    "c(Acells, Bcells, Ccells, ABcells, ACcells, BCcells, ABCcells)\n",
    "}"
   ]
  },
  {
   "cell_type": "code",
   "execution_count": 6,
   "id": "f9d27363",
   "metadata": {},
   "outputs": [],
   "source": [
    "#Define a function for tabulating values for Euler plots, for 4 genes\n",
    "#Generates a list of number of cells in each category\n",
    "#This version all copynum=3\n",
    "\n",
    "euler_values4<-function(data){\n",
    "Acells <- euler_cells4(data, sub_gene1, sub_gene2, sub_gene3, sub_gene4, \n",
    "                        copynum1=3, copynum2=3, copynum3=3, copynum4=3,\n",
    "                        gene1posneg='pos', gene2posneg='neg', gene3posneg='neg', gene4posneg='neg')\n",
    "Bcells <- euler_cells4(data, sub_gene1, sub_gene2, sub_gene3, sub_gene4, \n",
    "                        copynum1=3, copynum2=3, copynum3=3, copynum4=3,\n",
    "                        gene1posneg='neg', gene2posneg='pos', gene3posneg='neg', gene4posneg='neg')\n",
    "Ccells <- euler_cells4(data, sub_gene1, sub_gene2, sub_gene3, sub_gene4, \n",
    "                        copynum1=3, copynum2=3, copynum3=3, copynum4=3,\n",
    "                        gene1posneg='neg', gene2posneg='neg', gene3posneg='pos', gene4posneg='neg') \n",
    "Dcells <- euler_cells4(data, sub_gene1, sub_gene2, sub_gene3, sub_gene4, \n",
    "                        copynum1=3, copynum2=3, copynum3=3, copynum4=3,\n",
    "                        gene1posneg='neg', gene2posneg='neg', gene3posneg='neg', gene4posneg='pos') \n",
    "    \n",
    "ABcells<- euler_cells4(data, sub_gene1, sub_gene2, sub_gene3, sub_gene4, \n",
    "                        copynum1=3, copynum2=3, copynum3=3, copynum4=3,\n",
    "                        gene1posneg='pos', gene2posneg='pos', gene3posneg='neg',  gene4posneg='neg') \n",
    "ACcells<- euler_cells4(data, sub_gene1, sub_gene2, sub_gene3, sub_gene4, \n",
    "                        copynum1=3, copynum2=3, copynum3=3, copynum4=3,\n",
    "                        gene1posneg='pos', gene2posneg='neg', gene3posneg='pos', gene4posneg='neg') \n",
    "ADcells<- euler_cells4(data, sub_gene1, sub_gene2, sub_gene3, sub_gene4, \n",
    "                        copynum1=3, copynum2=3, copynum3=3, copynum4=3,\n",
    "                        gene1posneg='pos', gene2posneg='neg', gene3posneg='neg', gene4posneg='pos') \n",
    "    \n",
    "BCcells<- euler_cells4(data, sub_gene1, sub_gene2, sub_gene3,sub_gene4, \n",
    "                       copynum1=3, copynum2=3, copynum3=3, copynum4=3,\n",
    "                        gene1posneg='neg', gene2posneg='pos', gene3posneg='pos', gene4posneg='neg') \n",
    "BDcells<- euler_cells4(data, sub_gene1, sub_gene2, sub_gene3,sub_gene4, \n",
    "                       copynum1=3, copynum2=3, copynum3=3, copynum4=3,\n",
    "                        gene1posneg='neg', gene2posneg='pos', gene3posneg='neg', gene4posneg='pos') \n",
    "\n",
    "CDcells<- euler_cells4(data, sub_gene1, sub_gene2, sub_gene3,sub_gene4, \n",
    "                       copynum1=3, copynum2=3, copynum3=3, copynum4=3,\n",
    "                        gene1posneg='neg', gene2posneg='neg', gene3posneg='pos', gene4posneg='pos') \n",
    "    \n",
    "    \n",
    "ABCcells<- euler_cells4(data, sub_gene1, sub_gene2, sub_gene3, sub_gene4, \n",
    "                       copynum1=3, copynum2=3, copynum3=3,copynum4=3,\n",
    "                        gene1posneg='pos', gene2posneg='pos', gene3posneg='pos', gene4posneg='neg') \n",
    "ABDcells<- euler_cells4(data, sub_gene1, sub_gene2, sub_gene3, sub_gene4, \n",
    "                       copynum1=3, copynum2=3, copynum3=3,copynum4=3,\n",
    "                        gene1posneg='pos', gene2posneg='pos', gene3posneg='neg', gene4posneg='pos') \n",
    "ACDcells<- euler_cells4(data, sub_gene1, sub_gene2, sub_gene3, sub_gene4, \n",
    "                       copynum1=3, copynum2=3, copynum3=3,copynum4=3,\n",
    "                        gene1posneg='pos', gene2posneg='neg', gene3posneg='pos', gene4posneg='pos') \n",
    "BCDcells<- euler_cells4(data, sub_gene1, sub_gene2, sub_gene3, sub_gene4, \n",
    "                       copynum1=3, copynum2=3, copynum3=3,copynum4=3,\n",
    "                        gene1posneg='neg', gene2posneg='pos', gene3posneg='pos', gene4posneg='pos') \n",
    "\n",
    "ABCDcells<-euler_cells4(data, sub_gene1, sub_gene2, sub_gene3, sub_gene4, \n",
    "                       copynum1=3, copynum2=3, copynum3=3,copynum4=3,\n",
    "                        gene1posneg='pos', gene2posneg='pos', gene3posneg='pos', gene4posneg='pos') \n",
    "\n",
    "    \n",
    "c(Acells, Bcells, Ccells, Dcells, ABcells, ACcells, ADcells, BCcells, BDcells, CDcells, \n",
    "  ABCcells, ABDcells, ACDcells, BCDcells, ABCDcells)\n",
    "}"
   ]
  },
  {
   "cell_type": "code",
   "execution_count": null,
   "id": "014e143c",
   "metadata": {},
   "outputs": [],
   "source": []
  },
  {
   "cell_type": "markdown",
   "id": "b9caa520",
   "metadata": {},
   "source": [
    "### importing data"
   ]
  },
  {
   "cell_type": "code",
   "execution_count": 7,
   "id": "caf9ff25",
   "metadata": {},
   "outputs": [],
   "source": [
    "#enter list of mouse IDs. Data should be organized as 1 folder per mouse, containing 1 csv per section for each mouse\n",
    "\n",
    "mouseIDs <- c('6453YFP','6550YFP','7540YFP','7544YFP','6455PFC','6723PFC','8790PFC','8791PFC','7543NAc','7550NAc','8786NAc','8787NAc','7541LH','7542LH','7547LH','7549LH')"
   ]
  },
  {
   "cell_type": "code",
   "execution_count": 8,
   "id": "8f689a31",
   "metadata": {},
   "outputs": [],
   "source": [
    "#Import data files into dataframes. Change filepath to match directory containing mouse folders \n",
    "#imported files will have name format like: F1_1data\n",
    "#also generates a combined data frame called all_data\n",
    "\n",
    "filepath <-\"./\"\n",
    "\n",
    "all_data <- data.frame()\n",
    "\n",
    "for(mouse in mouseIDs) {\n",
    "    file_list <- list.files(path = paste0(filepath, mouse), \n",
    "               pattern = mouse)\n",
    "    \n",
    "    sectionnumber <- 1\n",
    "    \n",
    "    for(section in file_list) {\n",
    "        data <- assign(paste0(mouse, \"_\", sectionnumber, \"data\"), \n",
    "               read.csv(paste0(filepath, mouse, '/', section)))\n",
    "        \n",
    "        all_data <- rbind(all_data, data)\n",
    "        \n",
    "        sectionnumber <- sectionnumber + 1\n",
    "    } \n",
    "    \n",
    "}"
   ]
  },
  {
   "cell_type": "code",
   "execution_count": 9,
   "id": "98116724",
   "metadata": {},
   "outputs": [],
   "source": [
    "#Optional\n",
    "#remove cells that express most or all genes (junk)\n",
    "\n",
    "all_data_sums <- all_data %>%\n",
    "          mutate(NumGenes = rowSums(all_data[ , c('Egr1','Fos','Gad2','Glra2','Grp','Homer1','Ndnf','Slc17a6','Th')]))\n",
    "\n",
    "\n",
    "all_data<-all_data_sums[all_data_sums$NumGenes<7, ]"
   ]
  },
  {
   "cell_type": "code",
   "execution_count": null,
   "id": "4cffd95d",
   "metadata": {},
   "outputs": [],
   "source": []
  },
  {
   "cell_type": "markdown",
   "id": "8eec0557",
   "metadata": {},
   "source": [
    "### Making plots: one gene with shading based on intensity"
   ]
  },
  {
   "cell_type": "code",
   "execution_count": 10,
   "id": "526770c4",
   "metadata": {},
   "outputs": [],
   "source": [
    "#define a function to normalize cell intensity \n",
    "#x=data to be normalized, normfactor=max percentile for normalization, default = 95\n",
    "\n",
    "normalize <- function(x, normfactor=0.95){\n",
    " (x-min(x)) / ((quantile(x, c(normfactor)))-min(x))\n",
    "    }"
   ]
  },
  {
   "cell_type": "code",
   "execution_count": 11,
   "id": "681e7a75",
   "metadata": {},
   "outputs": [
    {
     "data": {
      "image/png": "[encoded data removed]",
      "text/plain": [
       "plot without title"
      ]
     },
     "metadata": {
      "image/png": {
       "height": 420,
       "width": 420
      }
     },
     "output_type": "display_data"
    },
    {
     "data": {
      "image/png": "[encoded data removed]",
      "text/plain": [
       "plot without title"
      ]
     },
     "metadata": {
      "image/png": {
       "height": 420,
       "width": 420
      }
     },
     "output_type": "display_data"
    },
    {
     "data": {
      "image/png": "[encoded data removed]",
      "text/plain": [
       "plot without title"
      ]
     },
     "metadata": {
      "image/png": {
       "height": 420,
       "width": 420
      }
     },
     "output_type": "display_data"
    },
    {
     "data": {
      "image/png": "[encoded data removed]",
      "text/plain": [
       "plot without title"
      ]
     },
     "metadata": {
      "image/png": {
       "height": 420,
       "width": 420
      }
     },
     "output_type": "display_data"
    }
   ],
   "source": [
    "#Plot a single gene across all sections for one animal, using 'Cell Intensity' to shade dots.\n",
    "#Adjust normfactor for normalization of cell intensities to indicated percentile to exclude outliers\n",
    "\n",
    "mouse <- '7541LH'\n",
    "num_sections <- 4\n",
    "gene <- 'Egr1'\n",
    "copynum <- 3\n",
    "normfactor <- 0.95\n",
    "filepath <- './Spatial Plots/'\n",
    "\n",
    "norm_data<-all_data\n",
    "norm_data['Gene.Cell.Intensity']<- lapply(norm_data[paste0(gene, '.Cell.Intensity')], normalize, normfactor=normfactor)\n",
    "\n",
    "mouseonly <- norm_data[grep(mouse, norm_data$ï..Image.File.Name), ]\n",
    "\n",
    "sectionnumber <- 1\n",
    "\n",
    "for(section in c(1:num_sections)) {\n",
    "    seconly <- mouseonly[grep(paste0('_', section), mouseonly$ï..Image.File.Name), ]\n",
    "    secname <- paste0(mouse, '_', sectionnumber, '_', gene)\n",
    "    cells <- pos_cells(data=seconly, gene=gene, copynum=copynum)\n",
    "    \n",
    "     print(ggplot (cells, aes(x=XMin, y=YMin, color=Gene.Cell.Intensity)) + \n",
    "        geom_point() +\n",
    "        theme(legend.position ='bottom', panel.grid.major = element_blank(), panel.grid.minor = element_blank())+\n",
    "        xlim(0,8000) + ylim(4000,0) + coord_fixed() +\n",
    "        scale_colour_gradient(low = \"lightcyan\", high = \"darkcyan\", limits=c(0, 5),oob = scales::squish) +\n",
    "        ggtitle(secname))\n",
    "\n",
    "#        ggsave(file=paste0(filepath, secname, '_intensity.pdf'), width=8,height=4)\n",
    "            \n",
    "        sectionnumber <- sectionnumber + 1\n",
    "\n",
    "}\n",
    "\n",
    "#color scales used:\n",
    "#lightcyan to darkcyan\n",
    "#khaki1 to darkorange2\n",
    "#plum1 to darkmagenta\n"
   ]
  },
  {
   "cell_type": "markdown",
   "id": "5368275f",
   "metadata": {},
   "source": [
    "### Euler plot"
   ]
  },
  {
   "cell_type": "code",
   "execution_count": 12,
   "id": "eaa1fd8b",
   "metadata": {},
   "outputs": [
    {
     "data": {
      "image/png": "[encoded data removed]",
      "text/plain": [
       "plot without title"
      ]
     },
     "metadata": {
      "image/png": {
       "height": 420,
       "width": 420
      }
     },
     "output_type": "display_data"
    }
   ],
   "source": [
    "#Making Euler plots, 4 genes.\n",
    "#Subsetting cells from all mice\n",
    "\n",
    "#Set shape to 'ellipse' or 'circle'\n",
    "\n",
    "#Manually subsets Th cells only \n",
    "\n",
    "sub_gene1 <- 'Th'\n",
    "sub_gene2 <- 'Ndnf'\n",
    "sub_gene3 <- 'Glra2'\n",
    "sub_gene4 <- 'Grp'\n",
    "color1 <- 'lightgray'\n",
    "color2 <-'darkcyan'\n",
    "color3 <-'darkorange2'\n",
    "color4 <-'darkmagenta'\n",
    "shape <- 'circle'\n",
    "\n",
    "filepath <- './Euler Plots/'\n",
    "\n",
    "cell_counts<-data.frame()\n",
    "\n",
    "\n",
    "for (mouse in mouseIDs) {\n",
    "    mouseonly <- all_data[grep(mouse, all_data$ï..Image.File.Name), ]\n",
    "    \n",
    "#Manually subsetting Th cells only\n",
    "    mouseonly<-pos_cells(mouseonly, gene='Th')\n",
    "\n",
    "    counts<-euler_values4(mouseonly)\n",
    "    cell_counts<-rbind(cell_counts, counts)\n",
    "  \n",
    "}\n",
    "rownames(cell_counts)<-mouseIDs\n",
    "colnames(cell_counts)<-c('A','B','C','D','A&B','A&C','A&D','B&C','B&D','C&D','A&B&C','A&B&D','A&C&D','B&C&D','A&B&C&D')\n",
    "\n",
    "totals<-colSums(cell_counts)\n",
    "fit1 <- euler(totals, shape= shape)\n",
    "rownames(fit1$ellipses) <- c(sub_gene1, sub_gene2, sub_gene3, sub_gene4)\n",
    "\n",
    "plot(fit1, alpha = 0.4,\n",
    " fill = c(toString(color1), toString(color2), toString(color3), toString(color4)))\n",
    "\n",
    "#pdf(file=paste0(filepath, sub_gene1, '_', sub_gene2, '_', sub_gene3, 'euler.pdf' ))\n",
    "#plot(fit1, alpha = 0.4,\n",
    "#    fill = c(toString(color1), toString(color2), toString(color3)))\n",
    "#dev.off()"
   ]
  },
  {
   "cell_type": "markdown",
   "id": "59f9fe02",
   "metadata": {},
   "source": [
    "## Fiber variability"
   ]
  },
  {
   "cell_type": "code",
   "execution_count": 13,
   "id": "162de797",
   "metadata": {},
   "outputs": [],
   "source": [
    "#determining variability of fiber innervation by mouse\n",
    "\n",
    "filepath <- './'\n",
    "num_sections <-4\n",
    "output <- data.frame(matrix(ncol=1, nrow=length(mouseIDs)))\n",
    "rownames(output)<-c(mouseIDs)\n",
    "colnames(output)<-c(\"variance\")\n",
    "\n",
    "for(mouse in mouseIDs) {\n",
    "    \n",
    "    mouseonly <- all_data[grep(mouse, all_data$ï..Image.File.Name), ]\n",
    "    variance <- sd(mouseonly$YFP.Cytoplasm.Intensity)/mean(mouseonly$YFP.Cytoplasm.Intensity)\n",
    "    varlist <-c()\n",
    "    varlist <-append(varlist, variance)\n",
    "        \n",
    "    output[mouse, ]<-varlist\n",
    "    }\n",
    "\n",
    "#write.xlsx2(output,file=paste0(filepath, \"ChR2fibervariancebymouse.xlsx\"))"
   ]
  },
  {
   "cell_type": "markdown",
   "id": "8e33478c",
   "metadata": {},
   "source": [
    "## YFP intensity and x/y coordinate for all cells"
   ]
  },
  {
   "cell_type": "code",
   "execution_count": 15,
   "id": "e85e49b0",
   "metadata": {},
   "outputs": [],
   "source": [
    "mouseIDs <- c('6453YFP','6550YFP','7540YFP','7544YFP','6455PFC','6723PFC','8790PFC','8791PFC','7543NAc','7550NAc','8786NAc','8787NAc','7541LH','7542LH','7547LH','7549LH')"
   ]
  },
  {
   "cell_type": "code",
   "execution_count": 16,
   "id": "4cec58d5",
   "metadata": {},
   "outputs": [],
   "source": [
    "#read in files containing x and y coordinates of point to normalize to\n",
    "x_coord <- read.xlsx('./bottom center point coordinates.xlsx', 'x_coord', row.names = 1, header= TRUE)\n",
    "y_coord <- read.xlsx('./bottom center point coordinates.xlsx', 'y_coord', row.names = 1, header= TRUE)"
   ]
  },
  {
   "cell_type": "code",
   "execution_count": 17,
   "id": "0ec2a630",
   "metadata": {},
   "outputs": [],
   "source": [
    "# Adjust Xmin and Ymin coordinates to normalize\n",
    "\n",
    "num_sections <- 4\n",
    "\n",
    "x_coord_vec<-c()\n",
    "y_coord_vec<-c()\n",
    "\n",
    "for(mouse in mouseIDs) {\n",
    "    mouseonly <- all_data[grep(mouse, all_data$ï..Image.File.Name), ]\n",
    "\n",
    "    midpoints <- c()\n",
    "    for(section in c(1:num_sections)) {\n",
    "        seconly <- mouseonly[grep(paste0('_', section), mouseonly$ï..Image.File.Name), ]           \n",
    "        x1<-rep(x_coord[mouse,section], each=nrow(seconly))\n",
    "        y1<-rep(y_coord[mouse,section], each=nrow(seconly))\n",
    "        x_coord_vec<-c(x_coord_vec, x1)\n",
    "        y_coord_vec<-c(y_coord_vec, y1)\n",
    "\n",
    "    }\n",
    "}\n",
    "\n",
    "xy_adj_data <- cbind(all_data, x_coord_vec, y_coord_vec)\n",
    "xy_adj_data <- xy_adj_data %>%\n",
    "  mutate(XMinAdj = XMin-x_coord_vec)\n",
    "xy_adj_data <- xy_adj_data %>%\n",
    "  mutate(YMinAdj = YMin-y_coord_vec)"
   ]
  },
  {
   "cell_type": "code",
   "execution_count": 18,
   "id": "3f99fb2f",
   "metadata": {},
   "outputs": [],
   "source": [
    "#xy adj data\n",
    "LHdata <- xy_adj_data[grep(\"LH\", xy_adj_data$ï..Image.File.Name), ]\n",
    "NAcdata <- xy_adj_data[grep(\"NAc\", xy_adj_data$ï..Image.File.Name), ]\n",
    "PFCdata<-xy_adj_data[grep(\"PFC\", xy_adj_data$ï..Image.File.Name), ]"
   ]
  },
  {
   "cell_type": "code",
   "execution_count": 19,
   "id": "f23f4980",
   "metadata": {},
   "outputs": [],
   "source": [
    "#getting average YFP intensity in bins across x and y coord\n",
    "\n",
    "#convert x values to abs value\n",
    "xy_adj_abs<-xy_adj_data\n",
    "xy_adj_abs$XMinAdj<-abs(xy_adj_abs$XMinAdj)\n",
    "\n",
    "xbins<-seq(0, 4000, length.out=11)\n",
    "ybins<-seq(-3000, 1800, length.out=15)\n",
    "\n",
    "xmeans<-data.frame(matrix(ncol=length(mouseIDs), nrow=length(xbins-1)))\n",
    "ymeans<-data.frame(matrix(ncol=length(mouseIDs), nrow=length(ybins-1)))\n",
    "rownames(xmeans)<-xbins\n",
    "rownames(ymeans)<-ybins\n",
    "colnames(xmeans)<-mouseIDs\n",
    "colnames(ymeans)<-mouseIDs\n",
    "\n",
    "for(mouse in mouseIDs){\n",
    "    mouseonly <- xy_adj_abs[grep(mouse, xy_adj_abs$ï..Image.File.Name), ]\n",
    "        \n",
    "    for(x in c(1:(length(xbins)-1))){\n",
    "        xcells<-mouseonly[(mouseonly$XMinAdj>xbins[x] & mouseonly$XMinAdj<xbins[x+1]), ]\n",
    "        xintens<-mean(xcells$YFP.Cytoplasm.Intensity)\n",
    "        xmeans[x,mouse]<-xintens\n",
    "        }\n",
    "        \n",
    "    for(y in c(1:(length(ybins)-1))){\n",
    "        ycells<-mouseonly[(mouseonly$YMinAdj>ybins[y] & mouseonly$YMinAdj<ybins[y+1]), ]\n",
    "        yintens<-mean(ycells$YFP.Cytoplasm.Intensity)\n",
    "        ymeans[y,mouse]<-yintens\n",
    "                \n",
    "            \n",
    "        }\n",
    "    }\n",
    "\n",
    "#write.xlsx2(xmeans, './xmeans.xlsx')\n",
    "#write.xlsx2(ymeans, './ymeans.xlsx')"
   ]
  },
  {
   "cell_type": "code",
   "execution_count": null,
   "id": "e4cf47f1",
   "metadata": {},
   "outputs": [],
   "source": []
  },
  {
   "cell_type": "markdown",
   "id": "72734530",
   "metadata": {},
   "source": [
    "## IEG Cell Counts"
   ]
  },
  {
   "cell_type": "code",
   "execution_count": 20,
   "id": "34117119",
   "metadata": {},
   "outputs": [],
   "source": [
    "mouseIDs <- c('6453YFP','6550YFP','7540YFP','7544YFP','6455PFC','6723PFC','8790PFC','8791PFC','7543NAc','7550NAc','8786NAc','8787NAc','7541LH','7542LH','7547LH','7549LH')"
   ]
  },
  {
   "cell_type": "code",
   "execution_count": 21,
   "id": "0a4b8cef",
   "metadata": {},
   "outputs": [],
   "source": [
    "# subset by specific gene expression\n",
    "# For each cell, how many IEGs does it express? What is avg intensity?\n",
    "\n",
    "\n",
    "num_sections <- 4\n",
    "pre_subset_gene <- 'Th'\n",
    "pre_subset_gene_AND <- 'Grp'\n",
    "pre_subset_gene_AND2 <- 'none'\n",
    "pre_subset_gene_NOT <- 'Ndnf'\n",
    "pre_subset_gene_NOT2 <- 'Glra2'\n",
    "pre_subset_gene_NOT3<- 'none'\n",
    "filepath <- './IEG Cell Counts/'\n",
    "\n",
    "genelist<-c(\"Egr1\",\"Fos\",\"Homer1\")\n",
    "\n",
    "\n",
    "output <- data.frame(matrix(ncol = 7, nrow = length(mouseIDs)))\n",
    "        rownames(output) <-mouseIDs\n",
    "        colnames(output) <-c(0,1,2,3,\"Egr1_Intens\",\"Fos_Intens\",\"Homer1_Intens\")\n",
    "\n",
    "for(mouse in mouseIDs) {\n",
    "    mouseonly <- all_data[grep(mouse, all_data$ï..Image.File.Name), ]\n",
    "    \n",
    "    if(pre_subset_gene!='none') {\n",
    "        mouseonly <- pos_cells(data=mouseonly, gene=pre_subset_gene)\n",
    "    }\n",
    "    \n",
    "    if(pre_subset_gene_AND!='none') {\n",
    "      mouseonly <- pos_cells(data=mouseonly, gene=pre_subset_gene_AND)\n",
    "    }\n",
    "   \n",
    "    if(pre_subset_gene_AND2!='none') {\n",
    "      mouseonly <- pos_cells(data=mouseonly, gene=pre_subset_gene_AND2)\n",
    "    }\n",
    "    \n",
    "    if(pre_subset_gene_NOT!='none') {\n",
    "        mouseonly <- neg_cells(data=mouseonly, gene=pre_subset_gene_NOT)\n",
    "    }\n",
    "    \n",
    "    if(pre_subset_gene_NOT2!='none') {\n",
    "        mouseonly <- neg_cells(data=mouseonly, gene=pre_subset_gene_NOT2)\n",
    "    }\n",
    "        \n",
    "    if(pre_subset_gene_NOT3!='none') {\n",
    "        mouseonly <- neg_cells(data=mouseonly, gene=pre_subset_gene_NOT3)\n",
    "    }\n",
    "    \n",
    "    mouseonly <- mouseonly %>%\n",
    "          mutate(NumIEGs = rowSums(mouseonly[ , genelist]))\n",
    "     \n",
    "\n",
    "        IEGcounts <- c(sum(mouseonly$NumIEGs == 0), sum(mouseonly$NumIEGs == 1), sum(mouseonly$NumIEGs == 2),\n",
    "                      sum(mouseonly$NumIEGs == 3))\n",
    "\n",
    "#Avg intensity\n",
    "       IEGcounts <-c(IEGcounts, mean(mouseonly$Egr1.Cell.Intensity!=0), mean(mouseonly$Fos.Cell.Intensity!=0), \n",
    "                      mean(mouseonly$Homer1.Cell.Intensity!=0))\n",
    "    \n",
    "    \n",
    "    output[mouse,]<-IEGcounts\n",
    "      \n",
    "    }\n",
    "\n",
    "\n",
    "output <- output %>%\n",
    "          mutate(PosCells = rowSums(output[ ,2:4]))\n",
    "output <- output %>%\n",
    "          mutate(PercentPos = 100*PosCells/rowSums(output[ ,1:4]))\n",
    "output <- output %>%\n",
    "          mutate(Percent2ormore = 100*rowSums(output[ ,3:4])/rowSums(output[ ,1:4]))\n",
    "\n",
    "#    write.xlsx2(output,file=paste0(filepath, \"ThGrp.xlsx\"))\n"
   ]
  },
  {
   "cell_type": "code",
   "execution_count": null,
   "id": "13a2a4ef",
   "metadata": {},
   "outputs": [],
   "source": []
  },
  {
   "cell_type": "markdown",
   "id": "27bbf313",
   "metadata": {},
   "source": [
    "## grid of fiber intensity and IEG positivity"
   ]
  },
  {
   "cell_type": "code",
   "execution_count": 22,
   "id": "f62e74e4",
   "metadata": {},
   "outputs": [],
   "source": [
    "#read in files containing x and y coordinates of 'bottom center' point to normalize to\n",
    "x_coord <- read.xlsx('./bottom center point coordinates.xlsx', 'x_coord', row.names = 1, header= TRUE)\n",
    "y_coord <- read.xlsx('./bottom center point coordinates.xlsx', 'y_coord', row.names = 1, header= TRUE)"
   ]
  },
  {
   "cell_type": "code",
   "execution_count": 23,
   "id": "d0a119e0",
   "metadata": {},
   "outputs": [],
   "source": [
    "# Adjust Xmin and Ymin coordinates to normalize\n",
    "\n",
    "num_sections <- 4\n",
    "\n",
    "x_coord_vec<-c()\n",
    "y_coord_vec<-c()\n",
    "\n",
    "for(mouse in mouseIDs) {\n",
    "    mouseonly <- all_data[grep(mouse, all_data$ï..Image.File.Name), ]\n",
    "\n",
    "    midpoints <- c()\n",
    "    for(section in c(1:num_sections)) {\n",
    "        seconly <- mouseonly[grep(paste0('_', section), mouseonly$ï..Image.File.Name), ]           \n",
    "        x1<-rep(x_coord[mouse,section], each=nrow(seconly))\n",
    "        y1<-rep(y_coord[mouse,section], each=nrow(seconly))\n",
    "        x_coord_vec<-c(x_coord_vec, x1)\n",
    "        y_coord_vec<-c(y_coord_vec, y1)\n",
    "\n",
    "    }\n",
    "}\n",
    "\n",
    "xy_adj_data <- cbind(all_data, x_coord_vec, y_coord_vec)\n",
    "xy_adj_data <- xy_adj_data %>%\n",
    "  mutate(XMinAdj = XMin-x_coord_vec)\n",
    "xy_adj_data <- xy_adj_data %>%\n",
    "  mutate(YMinAdj = YMin-y_coord_vec)"
   ]
  },
  {
   "cell_type": "code",
   "execution_count": 24,
   "id": "8c6514a4",
   "metadata": {},
   "outputs": [],
   "source": [
    "\n",
    "mouseIDs<-c('6455PFC','6723PFC','8790PFC','8791PFC','7543NAc','7550NAc','8786NAc','8787NAc','7541LH','7542LH','7547LH','7549LH')"
   ]
  },
  {
   "cell_type": "code",
   "execution_count": 25,
   "id": "3f76547b",
   "metadata": {},
   "outputs": [],
   "source": [
    "#divide into 20 x 12 grid. Calculate average fiber intensity and count IEG pos cells in each grid\n",
    "\n",
    "num_sections <- 4\n",
    "genelist<-c('Egr1','Fos','Homer1')\n",
    "xbins<-seq(-4000, 4000, length.out=21)\n",
    "ybins<-seq(-3000, 1800, length.out=13)\n",
    "\n",
    "for(mouse in mouseIDs){\n",
    "    mouseonly <- xy_adj_data[grep(mouse, all_data$ï..Image.File.Name), ]\n",
    "    \n",
    "    \n",
    "#add column with number of IEGs expressed per cell    \n",
    "    mouseonly <- mouseonly %>%\n",
    "          mutate(NumIEGs = rowSums(mouseonly[ , genelist]))\n",
    " \n",
    "#generate empty data frames for each section    \n",
    "    for(section in (1:num_sections)){\n",
    "        intens_data<-data.frame(matrix(ncol = length(xbins-1), nrow = length(ybins-1)))\n",
    "        rownames(intens_data)<-ybins\n",
    "        colnames(intens_data)<-xbins\n",
    "        \n",
    "        poscells_data<-data.frame(matrix(ncol = length(xbins-1), nrow = length(ybins-1)))\n",
    "        rownames(poscells_data)<-ybins\n",
    "        colnames(poscells_data)<-xbins\n",
    "\n",
    "        pctcells_data<-data.frame(matrix(ncol = length(xbins-1), nrow = length(ybins-1)))\n",
    "        rownames(pctcells_data)<-ybins\n",
    "        colnames(pctcells_data)<-xbins\n",
    "        \n",
    "        \n",
    "        seconly<- mouseonly[grep(paste0('_', section), mouseonly$ï..Image.File.Name), ]\n",
    "\n",
    "#isolate cells from each grid square        \n",
    "        for(x in c(1:(length(xbins)-1))){\n",
    "            xcells<-seconly[(seconly$XMinAdj>xbins[x] & seconly$XMinAdj<xbins[x+1]), ]\n",
    "\n",
    "            for(y in c(1:(length(ybins)-1))){\n",
    "                xycells<-xcells[(xcells$YMinAdj>ybins[y] & xcells$YMinAdj<ybins[y+1]), ]\n",
    "                \n",
    "                intens<-mean(xycells$YFP.Cytoplasm.Intensity)\n",
    "\n",
    "#get Th, Glu, or Gaba cells only (eliminating nuclei without neuronal gene expression)\n",
    "                xycells<-subset(xycells, Th>0|Gad2>0|Slc17a6>0)               \n",
    "                \n",
    "                poscells<-nrow(xycells[xycells$NumIEGs > 0, ])\n",
    "                pctcells<-poscells/nrow(xycells)\n",
    "               \n",
    "                if(is.na(intens)==TRUE){\n",
    "                    intens_data[y,x]<-0\n",
    "                    } else {\n",
    "                    intens_data[y,x]<-intens\n",
    "                    }\n",
    "\n",
    "                \n",
    "                poscells_data[y,x]<-poscells\n",
    "                pctcells_data[y,x]<-pctcells\n",
    "                \n",
    "                pctcells_data[is.na(pctcells_data)] = 0\n",
    "                \n",
    "                assign(toString(paste0('intens_',mouse,'_',section)), intens_data)\n",
    "                assign(toString(paste0('poscells_',mouse,'_',section)), poscells_data)\n",
    "                assign(toString(paste0('pctcells_',mouse,'_',section)), pctcells_data)\n",
    "                \n",
    "            }\n",
    "        }\n",
    "    }\n",
    "}\n"
   ]
  },
  {
   "cell_type": "code",
   "execution_count": 26,
   "id": "0c17c16a",
   "metadata": {},
   "outputs": [],
   "source": [
    "#Once you run code above, can use this to generate plots for a specific mouse/section\n",
    "df<-melt(as.matrix(intens_8786NAc_3))\n",
    "df2<-melt(as.matrix(poscells_8786NAc_3))\n",
    "df3<-melt(as.matrix(pctcells_8786NAc_3))"
   ]
  },
  {
   "cell_type": "code",
   "execution_count": 27,
   "id": "d2c4f034",
   "metadata": {
    "scrolled": true
   },
   "outputs": [
    {
     "name": "stderr",
     "output_type": "stream",
     "text": [
      "Warning message:\n",
      "\"\u001b[1m\u001b[22mRemoved 45 rows containing missing values (`geom_tile()`).\"\n"
     ]
    },
    {
     "data": {
      "image/png": "[encoded data removed]",
      "text/plain": [
       "plot without title"
      ]
     },
     "metadata": {
      "image/png": {
       "height": 420,
       "width": 420
      }
     },
     "output_type": "display_data"
    }
   ],
   "source": [
    "#Fiber intensity\n",
    "low <- range(df$value)[1]\n",
    "high <- range(df$value)[2]\n",
    "\n",
    "ggplot(df, aes(x=Var2, y=Var1, fill=value)) +\n",
    "theme_classic()+\n",
    "    xlim(-4000,4000) + ylim(2000,-3000) + coord_fixed()+\n",
    "    geom_tile() +\n",
    "    scale_fill_gradient2(limits=c(0, 10), midpoint=0, low = \"darkblue\",mid=\"white\",high = \"darkgreen\",oob=squish) \n",
    "\n",
    "#ggsave(file=paste0('./NAc8786_gridfibers.pdf'), width=8,height=4)"
   ]
  },
  {
   "cell_type": "code",
   "execution_count": 28,
   "id": "10196bcf",
   "metadata": {
    "scrolled": true
   },
   "outputs": [
    {
     "name": "stderr",
     "output_type": "stream",
     "text": [
      "Warning message:\n",
      "\"\u001b[1m\u001b[22mRemoved 45 rows containing missing values (`geom_tile()`).\"\n"
     ]
    },
    {
     "data": {
      "image/png": "[encoded data removed]",
      "text/plain": [
       "plot without title"
      ]
     },
     "metadata": {
      "image/png": {
       "height": 420,
       "width": 420
      }
     },
     "output_type": "display_data"
    }
   ],
   "source": [
    "#number of IEG positive cells per square\n",
    "\n",
    "low <- range(df2$value)[1]\n",
    "high <- range(df2$value)[2]\n",
    "\n",
    "ggplot(df2, aes(x=Var2, y=Var1, fill=value)) +\n",
    "theme_classic()+\n",
    "    xlim(-4000,4000) + ylim(2000,-3000) + coord_fixed()+\n",
    "    geom_tile() +\n",
    "  #  scale_fill_continuous(type=\"viridis\", limits=c(low,high), oob=squish)  \n",
    "    scale_fill_gradient2(limits=c(0, 15), low = \"darkblue\",mid=\"white\",midpoint=0,high = \"red\",oob=squish)\n",
    "\n",
    "#ggsave(file=paste0('./NAc8786_gridposcells.pdf'), width=8,height=4)"
   ]
  },
  {
   "cell_type": "markdown",
   "id": "3d6e1576",
   "metadata": {},
   "source": [
    "### combining across animals for correlation plot"
   ]
  },
  {
   "cell_type": "code",
   "execution_count": 29,
   "id": "5ac797a4",
   "metadata": {},
   "outputs": [],
   "source": [
    "#combining all values for correlation plot\n",
    "PFCintens<-rbind(melt(as.matrix(intens_6455PFC_1)), melt(as.matrix(intens_6455PFC_2)), melt(as.matrix(intens_6455PFC_3)), melt(as.matrix(intens_6455PFC_4)),\n",
    "                 melt(as.matrix(intens_6723PFC_1)), melt(as.matrix(intens_6723PFC_2)), melt(as.matrix(intens_6723PFC_3)), melt(as.matrix(intens_6723PFC_4)),\n",
    "                 melt(as.matrix(intens_8790PFC_1)), melt(as.matrix(intens_8790PFC_2)), melt(as.matrix(intens_8790PFC_3)), melt(as.matrix(intens_8790PFC_4)),\n",
    "                 melt(as.matrix(intens_8791PFC_1)), melt(as.matrix(intens_8791PFC_2)), melt(as.matrix(intens_8791PFC_3)), melt(as.matrix(intens_8791PFC_4)))\n",
    "\n",
    "NAcintens<-rbind(melt(as.matrix(intens_7543NAc_1)), melt(as.matrix(intens_7543NAc_2)), melt(as.matrix(intens_7543NAc_3)), melt(as.matrix(intens_7543NAc_4)),\n",
    "                 melt(as.matrix(intens_7550NAc_1)), melt(as.matrix(intens_7550NAc_2)), melt(as.matrix(intens_7550NAc_3)), melt(as.matrix(intens_7550NAc_4)),\n",
    "                 melt(as.matrix(intens_8786NAc_1)), melt(as.matrix(intens_8786NAc_2)), melt(as.matrix(intens_8786NAc_3)), melt(as.matrix(intens_8786NAc_4)),\n",
    "                 melt(as.matrix(intens_8787NAc_1)), melt(as.matrix(intens_8787NAc_2)), melt(as.matrix(intens_8787NAc_3)), melt(as.matrix(intens_8787NAc_4)))\n",
    "\n",
    "LHintens<-rbind(melt(as.matrix(intens_7541LH_1)), melt(as.matrix(intens_7541LH_2)), melt(as.matrix(intens_7541LH_3)), melt(as.matrix(intens_7541LH_4)),\n",
    "                 melt(as.matrix(intens_7542LH_1)), melt(as.matrix(intens_7542LH_2)), melt(as.matrix(intens_7542LH_3)), melt(as.matrix(intens_7542LH_4)),\n",
    "                 melt(as.matrix(intens_7547LH_1)), melt(as.matrix(intens_7547LH_2)), melt(as.matrix(intens_7547LH_3)), melt(as.matrix(intens_7547LH_4)),\n",
    "                 melt(as.matrix(intens_7549LH_1)), melt(as.matrix(intens_7549LH_2)), melt(as.matrix(intens_7549LH_3)), melt(as.matrix(intens_7549LH_4)))\n"
   ]
  },
  {
   "cell_type": "code",
   "execution_count": 30,
   "id": "9a43a491",
   "metadata": {},
   "outputs": [],
   "source": [
    "#combining all values for correlation plot\n",
    "\n",
    "PFCpctcells<-rbind(melt(as.matrix(pctcells_6455PFC_1)), melt(as.matrix(pctcells_6455PFC_2)), melt(as.matrix(pctcells_6455PFC_3)), melt(as.matrix(pctcells_6455PFC_4)),\n",
    "                 melt(as.matrix(pctcells_6723PFC_1)), melt(as.matrix(pctcells_6723PFC_2)), melt(as.matrix(pctcells_6723PFC_3)), melt(as.matrix(pctcells_6723PFC_4)),\n",
    "                 melt(as.matrix(pctcells_8790PFC_1)), melt(as.matrix(pctcells_8790PFC_2)), melt(as.matrix(pctcells_8790PFC_3)), melt(as.matrix(pctcells_8790PFC_4)),\n",
    "                 melt(as.matrix(pctcells_8791PFC_1)), melt(as.matrix(pctcells_8791PFC_2)), melt(as.matrix(pctcells_8791PFC_3)), melt(as.matrix(pctcells_8791PFC_4)))\n",
    "\n",
    "NAcpctcells<-rbind(melt(as.matrix(pctcells_7543NAc_1)), melt(as.matrix(pctcells_7543NAc_2)), melt(as.matrix(pctcells_7543NAc_3)), melt(as.matrix(pctcells_7543NAc_4)),\n",
    "                 melt(as.matrix(pctcells_7550NAc_1)), melt(as.matrix(pctcells_7550NAc_2)), melt(as.matrix(pctcells_7550NAc_3)), melt(as.matrix(pctcells_7550NAc_4)),\n",
    "                 melt(as.matrix(pctcells_8786NAc_1)), melt(as.matrix(pctcells_8786NAc_2)), melt(as.matrix(pctcells_8786NAc_3)), melt(as.matrix(pctcells_8786NAc_4)),\n",
    "                 melt(as.matrix(pctcells_8787NAc_1)), melt(as.matrix(pctcells_8787NAc_2)), melt(as.matrix(pctcells_8787NAc_3)), melt(as.matrix(pctcells_8787NAc_4)))\n",
    "\n",
    "LHpctcells<-rbind(melt(as.matrix(pctcells_7541LH_1)), melt(as.matrix(pctcells_7541LH_2)), melt(as.matrix(pctcells_7541LH_3)), melt(as.matrix(pctcells_7541LH_4)),\n",
    "                 melt(as.matrix(pctcells_7542LH_1)), melt(as.matrix(pctcells_7542LH_2)), melt(as.matrix(pctcells_7542LH_3)), melt(as.matrix(pctcells_7542LH_4)),\n",
    "                 melt(as.matrix(pctcells_7547LH_1)), melt(as.matrix(pctcells_7547LH_2)), melt(as.matrix(pctcells_7547LH_3)), melt(as.matrix(pctcells_7547LH_4)),\n",
    "                 melt(as.matrix(pctcells_7549LH_1)), melt(as.matrix(pctcells_7549LH_2)), melt(as.matrix(pctcells_7549LH_3)), melt(as.matrix(pctcells_7549LH_4)))\n"
   ]
  },
  {
   "cell_type": "code",
   "execution_count": 31,
   "id": "789af9fc",
   "metadata": {},
   "outputs": [],
   "source": [
    "#combining all values for correlation plot\n",
    "\n",
    "PFCposcells<-rbind(melt(as.matrix(poscells_6455PFC_1)), melt(as.matrix(poscells_6455PFC_2)), melt(as.matrix(poscells_6455PFC_3)), melt(as.matrix(poscells_6455PFC_4)),\n",
    "                 melt(as.matrix(poscells_6723PFC_1)), melt(as.matrix(poscells_6723PFC_2)), melt(as.matrix(poscells_6723PFC_3)), melt(as.matrix(poscells_6723PFC_4)),\n",
    "                 melt(as.matrix(poscells_8790PFC_1)), melt(as.matrix(poscells_8790PFC_2)), melt(as.matrix(poscells_8790PFC_3)), melt(as.matrix(poscells_8790PFC_4)),\n",
    "                 melt(as.matrix(poscells_8791PFC_1)), melt(as.matrix(poscells_8791PFC_2)), melt(as.matrix(poscells_8791PFC_3)), melt(as.matrix(poscells_8791PFC_4)))\n",
    "\n",
    "NAcposcells<-rbind(melt(as.matrix(poscells_7543NAc_1)), melt(as.matrix(poscells_7543NAc_2)), melt(as.matrix(poscells_7543NAc_3)), melt(as.matrix(poscells_7543NAc_4)),\n",
    "                 melt(as.matrix(poscells_7550NAc_1)), melt(as.matrix(poscells_7550NAc_2)), melt(as.matrix(poscells_7550NAc_3)), melt(as.matrix(poscells_7550NAc_4)),\n",
    "                 melt(as.matrix(poscells_8786NAc_1)), melt(as.matrix(poscells_8786NAc_2)), melt(as.matrix(poscells_8786NAc_3)), melt(as.matrix(poscells_8786NAc_4)),\n",
    "                 melt(as.matrix(poscells_8787NAc_1)), melt(as.matrix(poscells_8787NAc_2)), melt(as.matrix(poscells_8787NAc_3)), melt(as.matrix(poscells_8787NAc_4)))\n",
    "\n",
    "LHposcells<-rbind(melt(as.matrix(poscells_7541LH_1)), melt(as.matrix(poscells_7541LH_2)), melt(as.matrix(poscells_7541LH_3)), melt(as.matrix(poscells_7541LH_4)),\n",
    "                 melt(as.matrix(poscells_7542LH_1)), melt(as.matrix(poscells_7542LH_2)), melt(as.matrix(poscells_7542LH_3)), melt(as.matrix(poscells_7542LH_4)),\n",
    "                 melt(as.matrix(poscells_7547LH_1)), melt(as.matrix(poscells_7547LH_2)), melt(as.matrix(poscells_7547LH_3)), melt(as.matrix(poscells_7547LH_4)),\n",
    "                 melt(as.matrix(poscells_7549LH_1)), melt(as.matrix(poscells_7549LH_2)), melt(as.matrix(poscells_7549LH_3)), melt(as.matrix(poscells_7549LH_4)))\n"
   ]
  },
  {
   "cell_type": "code",
   "execution_count": 32,
   "id": "07ec56ca",
   "metadata": {},
   "outputs": [],
   "source": [
    "#combining YFP intensity values for each grid square with % of cells in that square that are IEG positive\n",
    "#Used to make Fig 4D\n",
    "PFCcomb<-cbind(PFCintens, PFCpctcells$value)\n",
    "colnames(PFCcomb)<-c('y','x','intens','pctpos')\n",
    "PFCcomb<-PFCcomb[PFCcomb$intens >0,]\n",
    "\n",
    "NAccomb<-cbind(NAcintens, NAcpctcells$value)\n",
    "colnames(NAccomb)<-c('y','x','intens','pctpos')\n",
    "NAccomb<-NAccomb[NAccomb$intens >0,]\n",
    "\n",
    "LHcomb<-cbind(LHintens, LHpctcells$value)\n",
    "colnames(LHcomb)<-c('y','x','intens','pctpos')\n",
    "LHcomb<-LHcomb[LHcomb$intens >0,]\n",
    "\n",
    "#write.xlsx(PFCcomb, './Correlation Data/bigger bins/allcells.xlsx', sheetName = \"PFC\")\n",
    "#write.xlsx(NAccomb, './Correlation Data/bigger binsallcells.xlsx', sheetName=\"NAc\", append=TRUE)\n",
    "#write.xlsx(LHcomb, './Correlation Data/bigger bins/allcells.xlsx', sheetName=\"LH\", append=TRUE)"
   ]
  },
  {
   "cell_type": "code",
   "execution_count": 33,
   "id": "a7734a3b",
   "metadata": {},
   "outputs": [],
   "source": [
    "#combining all values separated by animal\n",
    "\n",
    "intens6455PFC<-rbind(melt(as.matrix(intens_6455PFC_1)), melt(as.matrix(intens_6455PFC_2)), melt(as.matrix(intens_6455PFC_3)), melt(as.matrix(intens_6455PFC_4)))\n",
    "intens6723PFC<-rbind(melt(as.matrix(intens_6723PFC_1)), melt(as.matrix(intens_6723PFC_2)), melt(as.matrix(intens_6723PFC_3)), melt(as.matrix(intens_6723PFC_4)))\n",
    "intens8790PFC<-rbind(melt(as.matrix(intens_8790PFC_1)), melt(as.matrix(intens_8790PFC_2)), melt(as.matrix(intens_8790PFC_3)), melt(as.matrix(intens_8790PFC_4)))\n",
    "intens8791PFC<-rbind(melt(as.matrix(intens_8791PFC_1)), melt(as.matrix(intens_8791PFC_2)), melt(as.matrix(intens_8791PFC_3)), melt(as.matrix(intens_8791PFC_4)))\n",
    "\n",
    "intens7543NAc<-rbind(melt(as.matrix(intens_7543NAc_1)), melt(as.matrix(intens_7543NAc_2)), melt(as.matrix(intens_7543NAc_3)), melt(as.matrix(intens_7543NAc_4)))\n",
    "intens7550NAc<-rbind(melt(as.matrix(intens_7550NAc_1)), melt(as.matrix(intens_7550NAc_2)), melt(as.matrix(intens_7550NAc_3)), melt(as.matrix(intens_7550NAc_4)))\n",
    "intens8786NAc<-rbind(melt(as.matrix(intens_8786NAc_1)), melt(as.matrix(intens_8786NAc_2)), melt(as.matrix(intens_8786NAc_3)), melt(as.matrix(intens_8786NAc_4)))\n",
    "intens8787NAc<-rbind(melt(as.matrix(intens_8787NAc_1)), melt(as.matrix(intens_8787NAc_2)), melt(as.matrix(intens_8787NAc_3)), melt(as.matrix(intens_8787NAc_4)))\n",
    "\n",
    "intens7541LH<-rbind(melt(as.matrix(intens_7541LH_1)), melt(as.matrix(intens_7541LH_2)), melt(as.matrix(intens_7541LH_3)), melt(as.matrix(intens_7541LH_4)))\n",
    "intens7542LH<-rbind(melt(as.matrix(intens_7542LH_1)), melt(as.matrix(intens_7542LH_2)), melt(as.matrix(intens_7542LH_3)), melt(as.matrix(intens_7542LH_4)))\n",
    "intens7547LH<-rbind(melt(as.matrix(intens_7547LH_1)), melt(as.matrix(intens_7547LH_2)), melt(as.matrix(intens_7547LH_3)), melt(as.matrix(intens_7547LH_4)))\n",
    "intens7549LH<-rbind(melt(as.matrix(intens_7549LH_1)), melt(as.matrix(intens_7549LH_2)), melt(as.matrix(intens_7549LH_3)), melt(as.matrix(intens_7549LH_4)))\n"
   ]
  },
  {
   "cell_type": "code",
   "execution_count": 34,
   "id": "959088f0",
   "metadata": {},
   "outputs": [],
   "source": [
    "#combining all values separated by animal\n",
    "\n",
    "poscells6455PFC<-rbind(melt(as.matrix(poscells_6455PFC_1)), melt(as.matrix(poscells_6455PFC_2)), melt(as.matrix(poscells_6455PFC_3)), melt(as.matrix(poscells_6455PFC_4)))\n",
    "poscells6723PFC<-rbind(melt(as.matrix(poscells_6723PFC_1)), melt(as.matrix(poscells_6723PFC_2)), melt(as.matrix(poscells_6723PFC_3)), melt(as.matrix(poscells_6723PFC_4)))\n",
    "poscells8790PFC<-rbind(melt(as.matrix(poscells_8790PFC_1)), melt(as.matrix(poscells_8790PFC_2)), melt(as.matrix(poscells_8790PFC_3)), melt(as.matrix(poscells_8790PFC_4)))\n",
    "poscells8791PFC<-rbind(melt(as.matrix(poscells_8791PFC_1)), melt(as.matrix(poscells_8791PFC_2)), melt(as.matrix(poscells_8791PFC_3)), melt(as.matrix(poscells_8791PFC_4)))\n",
    "\n",
    "poscells7543NAc<-rbind(melt(as.matrix(poscells_7543NAc_1)), melt(as.matrix(poscells_7543NAc_2)), melt(as.matrix(poscells_7543NAc_3)), melt(as.matrix(poscells_7543NAc_4)))\n",
    "poscells7550NAc<-rbind(melt(as.matrix(poscells_7550NAc_1)), melt(as.matrix(poscells_7550NAc_2)), melt(as.matrix(poscells_7550NAc_3)), melt(as.matrix(poscells_7550NAc_4)))\n",
    "poscells8786NAc<-rbind(melt(as.matrix(poscells_8786NAc_1)), melt(as.matrix(poscells_8786NAc_2)), melt(as.matrix(poscells_8786NAc_3)), melt(as.matrix(poscells_8786NAc_4)))\n",
    "poscells8787NAc<-rbind(melt(as.matrix(poscells_8787NAc_1)), melt(as.matrix(poscells_8787NAc_2)), melt(as.matrix(poscells_8787NAc_3)), melt(as.matrix(poscells_8787NAc_4)))\n",
    "\n",
    "poscells7541LH<-rbind(melt(as.matrix(poscells_7541LH_1)), melt(as.matrix(poscells_7541LH_2)), melt(as.matrix(poscells_7541LH_3)), melt(as.matrix(poscells_7541LH_4)))\n",
    "poscells7542LH<-rbind(melt(as.matrix(poscells_7542LH_1)), melt(as.matrix(poscells_7542LH_2)), melt(as.matrix(poscells_7542LH_3)), melt(as.matrix(poscells_7542LH_4)))\n",
    "poscells7547LH<-rbind(melt(as.matrix(poscells_7547LH_1)), melt(as.matrix(poscells_7547LH_2)), melt(as.matrix(poscells_7547LH_3)), melt(as.matrix(poscells_7547LH_4)))\n",
    "poscells7549LH<-rbind(melt(as.matrix(poscells_7549LH_1)), melt(as.matrix(poscells_7549LH_2)), melt(as.matrix(poscells_7549LH_3)), melt(as.matrix(poscells_7549LH_4)))\n"
   ]
  },
  {
   "cell_type": "code",
   "execution_count": 35,
   "id": "c5834cd6",
   "metadata": {},
   "outputs": [],
   "source": [
    "#Combining intensity and number of positive cells per grid for each animal\n",
    "comb6455PFC<-cbind(intens6455PFC,poscells6455PFC$value)\n",
    "comb6723PFC<-cbind(intens6723PFC,poscells6723PFC$value)\n",
    "comb8790PFC<-cbind(intens8790PFC,poscells8790PFC$value)\n",
    "comb8791PFC<-cbind(intens8791PFC,poscells8791PFC$value)\n",
    "\n",
    "comb7543NAc<-cbind(intens7543NAc,poscells7543NAc$value)\n",
    "comb7550NAc<-cbind(intens7550NAc,poscells7550NAc$value)\n",
    "comb8786NAc<-cbind(intens8786NAc,poscells8786NAc$value)\n",
    "comb8787NAc<-cbind(intens8787NAc,poscells8787NAc$value)\n",
    "\n",
    "comb7541LH<-cbind(intens7541LH,poscells7541LH$value)\n",
    "comb7542LH<-cbind(intens7542LH,poscells7542LH$value)\n",
    "comb7547LH<-cbind(intens7547LH,poscells7547LH$value)\n",
    "comb7549LH<-cbind(intens7549LH,poscells7549LH$value)"
   ]
  },
  {
   "cell_type": "code",
   "execution_count": 36,
   "id": "a1e0efc8",
   "metadata": {},
   "outputs": [],
   "source": [
    "#only including squares with detectable YFP and getting rid of NANs\n",
    "comb7543NAc<-comb7543NAc[comb7543NAc$value > 0, ]\n",
    "comb7543NAc<-comb7543NAc[complete.cases(comb7543NAc),]\n",
    "\n",
    "comb7550NAc<-comb7550NAc[comb7550NAc$value > 0, ]\n",
    "comb7550NAc<-comb7550NAc[complete.cases(comb7550NAc),]\n",
    "\n",
    "comb8786NAc<-comb8786NAc[comb8786NAc$value > 0, ]\n",
    "comb8786NAc<-comb8786NAc[complete.cases(comb8786NAc),]\n",
    "\n",
    "comb8787NAc<-comb8787NAc[comb8787NAc$value > 0, ]\n",
    "comb8787NAc<-comb8787NAc[complete.cases(comb8787NAc),]"
   ]
  },
  {
   "cell_type": "code",
   "execution_count": 37,
   "id": "de5d05cf",
   "metadata": {},
   "outputs": [],
   "source": [
    "comb6455PFC<-comb6455PFC[comb6455PFC$value > 0, ]\n",
    "comb6455PFC<-comb6455PFC[complete.cases(comb6455PFC),]\n",
    "\n",
    "comb6723PFC<-comb6723PFC[comb6723PFC$value > 0, ]\n",
    "comb6723PFC<-comb6723PFC[complete.cases(comb6723PFC),]\n",
    "\n",
    "comb8790PFC<-comb8790PFC[comb8790PFC$value > 0, ]\n",
    "comb8790PFC<-comb8790PFC[complete.cases(comb8790PFC),]\n",
    "\n",
    "comb8791PFC<-comb8791PFC[comb8791PFC$value > 0, ]\n",
    "comb8791PFC<-comb8791PFC[complete.cases(comb8791PFC),]"
   ]
  },
  {
   "cell_type": "code",
   "execution_count": 38,
   "id": "0d587412",
   "metadata": {},
   "outputs": [],
   "source": [
    "comb7541LH<-comb7541LH[comb7541LH$value > 0, ]\n",
    "comb7541LH<-comb7541LH[complete.cases(comb7541LH),]\n",
    "\n",
    "comb7542LH<-comb7542LH[comb7542LH$value > 0, ]\n",
    "comb7542LH<-comb7542LH[complete.cases(comb7542LH),]\n",
    "\n",
    "comb7547LH<-comb7547LH[comb7547LH$value > 0, ]\n",
    "comb7547LH<-comb7547LH[complete.cases(comb7547LH),]\n",
    "\n",
    "comb7549LH<-comb7549LH[comb7549LH$value > 0, ]\n",
    "comb7549LH<-comb7549LH[complete.cases(comb7549LH),]"
   ]
  },
  {
   "cell_type": "markdown",
   "id": "8817ec3a",
   "metadata": {},
   "source": [
    "#### dividing squares into percentiles, how many cells in each"
   ]
  },
  {
   "cell_type": "code",
   "execution_count": 39,
   "id": "2d62667a",
   "metadata": {},
   "outputs": [],
   "source": [
    "#for an individual mouse\n",
    "\n",
    "percentiles<-c(quantile(comb7549LH$value, probs = seq(0, 1, by = .25)))\n",
    "output<-c()\n",
    "\n",
    "for(n in c(1:4)) {\n",
    "    if(n<4){\n",
    "        dec_cells<-comb7549LH[(comb7549LH$value>=percentiles[n] \n",
    "                              & comb7549LH$value<percentiles[n+1]), ]\n",
    "        }else{\n",
    "        dec_cells<-comb7549LH[(comb7549LH$value>=percentiles[n] \n",
    "                              & comb7549LH$value<=percentiles[n+1]), ]\n",
    "        }\n",
    "        \n",
    "        decposcells<-sum(dec_cells[,4])\n",
    "        output<-c(output, decposcells)\n",
    "     }"
   ]
  },
  {
   "cell_type": "code",
   "execution_count": null,
   "id": "d2834312",
   "metadata": {},
   "outputs": [],
   "source": []
  }
 ],
 "metadata": {
  "kernelspec": {
   "display_name": "R",
   "language": "R",
   "name": "ir"
  },
  "language_info": {
   "codemirror_mode": "r",
   "file_extension": ".r",
   "mimetype": "text/x-r-source",
   "name": "R",
   "pygments_lexer": "r",
   "version": "4.1.2"
  }
 },
 "nbformat": 4,
 "nbformat_minor": 5
}
