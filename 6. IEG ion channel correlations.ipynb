{
 "cells": [
  {
   "cell_type": "markdown",
   "metadata": {},
   "source": [
    "# Neuron only analysis\n"
   ]
  },
  {
   "cell_type": "markdown",
   "metadata": {},
   "source": [
    "Load in all the required packages"
   ]
  },
  {
   "cell_type": "code",
   "execution_count": 1,
   "metadata": {
    "collapsed": true
   },
   "outputs": [
    {
     "name": "stderr",
     "output_type": "stream",
     "text": [
      "Warning message:\n",
      "\"package 'igraph' was built under R version 4.1.3\"\n",
      "\n",
      "Attaching package: 'igraph'\n",
      "\n",
      "\n",
      "The following objects are masked from 'package:stats':\n",
      "\n",
      "    decompose, spectrum\n",
      "\n",
      "\n",
      "The following object is masked from 'package:base':\n",
      "\n",
      "    union\n",
      "\n",
      "\n",
      "Warning message:\n",
      "\"package 'Seurat' was built under R version 4.1.3\"\n",
      "Attaching SeuratObject\n",
      "\n",
      "Attaching sp\n",
      "\n",
      "Warning message:\n",
      "\"package 'dplyr' was built under R version 4.1.3\"\n",
      "\n",
      "Attaching package: 'dplyr'\n",
      "\n",
      "\n",
      "The following objects are masked from 'package:igraph':\n",
      "\n",
      "    as_data_frame, groups, union\n",
      "\n",
      "\n",
      "The following objects are masked from 'package:stats':\n",
      "\n",
      "    filter, lag\n",
      "\n",
      "\n",
      "The following objects are masked from 'package:base':\n",
      "\n",
      "    intersect, setdiff, setequal, union\n",
      "\n",
      "\n",
      "Warning message:\n",
      "\"package 'magrittr' was built under R version 4.1.3\"\n"
     ]
    },
    {
     "data": {
      "text/html": [
       "<style> .container { width:95% !important; } </style>"
      ]
     },
     "metadata": {},
     "output_type": "display_data"
    },
    {
     "name": "stderr",
     "output_type": "stream",
     "text": [
      "Warning message:\n",
      "\"package 'ggplot2' was built under R version 4.1.3\"\n",
      "Warning message:\n",
      "\"package 'xlsx' was built under R version 4.1.3\"\n",
      "Warning message:\n",
      "\"package 'tidyr' was built under R version 4.1.3\"\n",
      "\n",
      "Attaching package: 'tidyr'\n",
      "\n",
      "\n",
      "The following object is masked from 'package:magrittr':\n",
      "\n",
      "    extract\n",
      "\n",
      "\n",
      "The following object is masked from 'package:igraph':\n",
      "\n",
      "    crossing\n",
      "\n",
      "\n",
      "Warning message:\n",
      "\"package 'cowplot' was built under R version 4.1.3\"\n",
      "Warning message:\n",
      "\"package 'svglite' was built under R version 4.1.3\"\n",
      "Warning message:\n",
      "\"package 'data.table' was built under R version 4.1.3\"\n",
      "\n",
      "Attaching package: 'data.table'\n",
      "\n",
      "\n",
      "The following objects are masked from 'package:dplyr':\n",
      "\n",
      "    between, first, last\n",
      "\n",
      "\n",
      "Warning message:\n",
      "\"package 'scales' was built under R version 4.1.3\"\n",
      "Warning message:\n",
      "\"package 'gplots' was built under R version 4.1.3\"\n",
      "\n",
      "Attaching package: 'gplots'\n",
      "\n",
      "\n",
      "The following object is masked from 'package:stats':\n",
      "\n",
      "    lowess\n",
      "\n",
      "\n"
     ]
    }
   ],
   "source": [
    "library(igraph)\n",
    "library(Seurat)\n",
    "library(dplyr)\n",
    "library(magrittr)\n",
    "IRdisplay::display_html(\"<style> .container { width:95% !important; } </style>\")\n",
    "library(\"ggplot2\")\n",
    "library(\"xlsx\")\n",
    "library(tidyr)\n",
    "library(cowplot)\n",
    "library(svglite)\n",
    "library(data.table)\n",
    "library(scales)\n",
    "library(RColorBrewer)\n",
    "library(gplots)"
   ]
  },
  {
   "cell_type": "markdown",
   "metadata": {},
   "source": [
    "## Load in the data (stored as .rds files)"
   ]
  },
  {
   "cell_type": "code",
   "execution_count": 2,
   "metadata": {},
   "outputs": [],
   "source": [
    "#VTA.integrated is the main seurat file that contains all information regarding group identity, cell cluster assignments and more\n",
    "VTA.integrated<-readRDS(file=\"./VTA_integrated.rds\")"
   ]
  },
  {
   "cell_type": "code",
   "execution_count": 3,
   "metadata": {},
   "outputs": [],
   "source": [
    "#These .rds files are loading in the group data as separate variables in case we need to refer back to them for cell barcodes specifically belonging to each group\n",
    "VTA_YFP <- readRDS(file = \"./VTA_YFP.rds\")\n",
    "VTA_LH <- readRDS(file = \"./VTA_LH.rds\")\n",
    "VTA_PFC <- readRDS(file = \"./VTA_PFC.rds\")\n",
    "VTA_NAc <- readRDS(file = \"./VTA_NAc.rds\")"
   ]
  },
  {
   "cell_type": "markdown",
   "metadata": {},
   "source": [
    "### Reassigning identities"
   ]
  },
  {
   "cell_type": "markdown",
   "metadata": {},
   "source": [
    "When we first load in the .rds files, the cell cluster identites are unlabeled, or are denoted by a number instead of a real name (e.g. 0 instead of \"Glu1\"). This is so that everytime we load in the .rds, we can easily assign any names we want to "
   ]
  },
  {
   "cell_type": "code",
   "execution_count": 4,
   "metadata": {
    "collapsed": true
   },
   "outputs": [
    {
     "data": {
      "text/plain": [
       "\n",
       "   0    1    2    3    4    5    6    7    8    9   10   11   12   13   14   15 \n",
       "1448  818  817  794  768  726  677  623  466  444  361  336  332  309  246  114 \n",
       "  16 \n",
       "  57 "
      ]
     },
     "metadata": {},
     "output_type": "display_data"
    }
   ],
   "source": [
    "#the table() function allows us to count the nubmer of cells in each Ident (cluster identity)\n",
    "table(Idents(VTA.integrated))"
   ]
  },
  {
   "cell_type": "code",
   "execution_count": 5,
   "metadata": {},
   "outputs": [],
   "source": [
    "#new.ident will redefine the cluster numbers to the labels below. With CoEx labels.\n",
    "new.ident <- c(\"Glu1\",\"CoEx1\",\"Gaba1\",\"DA1\",\"DA2\",\"Gaba2\",\"Glu2\",\"Glu3\",\"Glu4\",\"DA3\",\"Glu5\",\"Glu6\",\"Glu7\",\"CoEx2\",\"CoEx3\",\"Gaba3\",\"Gaba4\")\n",
    "names(x = new.ident) <- levels(x =VTA.integrated)\n",
    "VTA.integrated<- RenameIdents(object =VTA.integrated, new.ident)"
   ]
  },
  {
   "cell_type": "code",
   "execution_count": 6,
   "metadata": {},
   "outputs": [
    {
     "data": {
      "text/plain": [
       "\n",
       " Glu1 CoEx1 Gaba1   DA1   DA2 Gaba2  Glu2  Glu3  Glu4   DA3  Glu5  Glu6  Glu7 \n",
       " 1448   818   817   794   768   726   677   623   466   444   361   336   332 \n",
       "CoEx2 CoEx3 Gaba3 Gaba4 \n",
       "  309   246   114    57 "
      ]
     },
     "metadata": {},
     "output_type": "display_data"
    }
   ],
   "source": [
    "#calling table(Ident()) again will tabulate the number of cells under their new names. The # of cells should be exactly the same as the last time you called table(Ident())\n",
    "table(Idents(VTA.integrated))"
   ]
  },
  {
   "cell_type": "markdown",
   "metadata": {},
   "source": [
    "This for loop below adds each stim group name to the end of \"barcode\" for every cell, such that cells belonging to the YFP group will be labeled with \"_barcode_VTA_YFP\" and so on...Notice how we are now referencing the VTA_YFP variable for the barcodes"
   ]
  },
  {
   "cell_type": "code",
   "execution_count": 7,
   "metadata": {},
   "outputs": [],
   "source": [
    "for (i in 1:length(new.ident)){\n",
    "assign(paste(new.ident[i],\"_barcode\",sep=\"\"),colnames(VTA.integrated@assays$RNA@data[,which(Idents(object=VTA.integrated) %in% new.ident[i])]))# this gives all barcodes in cluster\n",
    "assign(paste(new.ident[i],\"_barcode_VTA_YFP\",sep=\"\"),intersect(colnames(VTA_YFP@assays$RNA@data),eval(parse(text = paste(new.ident[i],\"_barcode\",sep=\"\")))))\n",
    "assign(paste(new.ident[i],\"_barcode_VTA_LH\",sep=\"\"),intersect(colnames(VTA_LH@assays$RNA@data),eval(parse(text = paste(new.ident[i],\"_barcode\",sep=\"\")))))\n",
    "assign(paste(new.ident[i],\"_barcode_VTA_NAc\",sep=\"\"),intersect(colnames(VTA_NAc@assays$RNA@data),eval(parse(text = paste(new.ident[i],\"_barcode\",sep=\"\")))))\n",
    "assign(paste(new.ident[i],\"_barcode_VTA_PFC\",sep=\"\"),intersect(colnames(VTA_PFC@assays$RNA@data),eval(parse(text = paste(new.ident[i],\"_barcode\",sep=\"\")))))\n",
    "}"
   ]
  },
  {
   "cell_type": "code",
   "execution_count": 8,
   "metadata": {},
   "outputs": [],
   "source": [
    "barcode_names <- unique(paste(Idents(VTA.integrated),\"_barcode\",sep=\"\"))"
   ]
  },
  {
   "cell_type": "code",
   "execution_count": 9,
   "metadata": {},
   "outputs": [],
   "source": [
    "celltype<-vector()\n",
    "for (i in 1:dim(VTA.integrated@meta.data)[1]){\n",
    "    celltype[i]<-toString(new.ident[VTA.integrated@meta.data$integrated_snn_res.0.5[i]])\n",
    "}\n",
    "VTA.integrated@meta.data$celltype<-celltype"
   ]
  },
  {
   "cell_type": "code",
   "execution_count": null,
   "metadata": {},
   "outputs": [],
   "source": []
  },
  {
   "cell_type": "markdown",
   "metadata": {},
   "source": [
    "## correlating IEG score with ion channel expression"
   ]
  },
  {
   "cell_type": "code",
   "execution_count": 10,
   "metadata": {},
   "outputs": [],
   "source": [
    "DefaultAssay(VTA.integrated) <- \"RNA\""
   ]
  },
  {
   "cell_type": "code",
   "execution_count": 11,
   "metadata": {},
   "outputs": [],
   "source": [
    "#Get combined list of ion channels\n",
    "KCh<-read.csv(file=\"./Potassium Channels.csv\")\n",
    "KCh<-c(KCh$Symbol)\n",
    "KCh<-unique(KCh)\n",
    "\n",
    "NaCh<-read.csv(file=\"./Sodium Channels.csv\")\n",
    "NaCh<-c(NaCh$Symbol)\n",
    "NaCh<-unique(NaCh)\n",
    "\n",
    "CaCh<-read.csv(file=\"./Calcium Channels.csv\")\n",
    "CaCh<-c(CaCh$Symbol)\n",
    "CaCh<-unique(CaCh)\n",
    "\n",
    "\n",
    "All.Ch<-c(KCh, NaCh, CaCh)\n",
    "\n",
    "#removing TARPs\n",
    "All.Ch<-All.Ch[! All.Ch %in% c('Cacng2','Cacng3','Cacng4','Cacng5','Cacng7','Cacng8')]"
   ]
  },
  {
   "cell_type": "code",
   "execution_count": 12,
   "metadata": {
    "scrolled": false
   },
   "outputs": [
    {
     "data": {
      "text/html": [
       "130"
      ],
      "text/latex": [
       "130"
      ],
      "text/markdown": [
       "130"
      ],
      "text/plain": [
       "[1] 130"
      ]
     },
     "metadata": {},
     "output_type": "display_data"
    }
   ],
   "source": [
    "length(All.Ch)"
   ]
  },
  {
   "cell_type": "code",
   "execution_count": 13,
   "metadata": {},
   "outputs": [],
   "source": [
    "AllIEGs <- read.xlsx(\"./IEG list.xlsx\",sheetIndex=1,header=FALSE)\n",
    "  \n",
    "AllIEGlist<-AllIEGs$X1     "
   ]
  },
  {
   "cell_type": "code",
   "execution_count": 14,
   "metadata": {},
   "outputs": [],
   "source": [
    "#Isloate just DA neurons\n",
    "DAneurons<-subset(x = VTA.integrated, subset = celltype == \"DA1\"|celltype == \"DA2\" |celltype == \"DA3\")"
   ]
  },
  {
   "cell_type": "code",
   "execution_count": 15,
   "metadata": {},
   "outputs": [],
   "source": [
    "#Get expression data for IEGs and for all channels\n",
    "assay.data<-data.frame(GetAssayData(DAneurons, slot='data'))\n",
    "\n",
    "assay.data.un<-data.frame(lapply(assay.data,expm1))\n",
    "rownames(assay.data.un)<-rownames(assay.data)\n",
    "assay.data<-assay.data.un\n",
    "\n",
    "assay.data.AllCh <- assay.data[rownames(assay.data) %in% All.Ch,]\n",
    "assay.data.IEG <- assay.data[rownames(assay.data) %in% AllIEGlist,]"
   ]
  },
  {
   "cell_type": "code",
   "execution_count": 16,
   "metadata": {},
   "outputs": [
    {
     "name": "stderr",
     "output_type": "stream",
     "text": [
      "Warning message in dcast(dot.data, features.plot ~ id, value.var = \"pct.exp\"):\n",
      "\"The dcast generic in data.table has been passed a data.frame and will attempt to redirect to the reshape2::dcast; please note that reshape2 is deprecated, and this redirection is now deprecated as well. Please do this redirection yourself like reshape2::dcast(dot.data). In the next version, this warning will become an error.\"\n"
     ]
    }
   ],
   "source": [
    "#Find genes expressed in >25% of cells in at least one DA cluster\n",
    "dot.data<-DotPlot(VTA.integrated, feature=unique(All.Ch))$data\n",
    "dot.data.pct<-dcast(dot.data, features.plot~id, value.var='pct.exp')\n",
    "\n",
    "Ch.25<-dot.data.pct[(dot.data.pct$DA1>=25|dot.data.pct$DA2>=25|dot.data.pct$DA3>=25),]\n",
    "rownames(Ch.25)<-Ch.25$features.plot\n",
    "Ch.25.genes<-row.names(Ch.25)\n",
    "\n"
   ]
  },
  {
   "cell_type": "code",
   "execution_count": 17,
   "metadata": {},
   "outputs": [],
   "source": [
    "# narrowing assay data to Ch.25.genes\n",
    "\n",
    "assay.data.AllCh<-assay.data.AllCh[rownames(assay.data.AllCh) %in% Ch.25.genes,]"
   ]
  },
  {
   "cell_type": "code",
   "execution_count": 18,
   "metadata": {},
   "outputs": [],
   "source": [
    "# Get combined IEG score\n",
    "IEGscore<-as.data.frame(colSums(assay.data.IEG))\n",
    "colnames(IEGscore)<-'IEGscore'\n",
    "\n",
    "# Transpose rows and columns of channel data\n",
    "ChannelData <- data.frame(t(assay.data.AllCh))\n",
    "colnames(ChannelData) <- rownames(assay.data.AllCh)\n",
    "\n",
    "#combine IEGscore and channel data\n",
    "IEGandChannel<-cbind(IEGscore, ChannelData)"
   ]
  },
  {
   "cell_type": "markdown",
   "metadata": {},
   "source": [
    "### first make heatmap of ion channel genes without IEG score"
   ]
  },
  {
   "cell_type": "code",
   "execution_count": 19,
   "metadata": {},
   "outputs": [],
   "source": [
    "#run correlation\n",
    "ChannelData.cor<-cor(ChannelData)"
   ]
  },
  {
   "cell_type": "code",
   "execution_count": 20,
   "metadata": {},
   "outputs": [
    {
     "data": {
      "image/png": "[encoded data removed]",
      "text/plain": [
       "Plot with title \"Color Key\""
      ]
     },
     "metadata": {
      "image/png": {
       "height": 420,
       "width": 420
      }
     },
     "output_type": "display_data"
    }
   ],
   "source": [
    "mybreaks<-c(seq(0,1, length.out=101))\n",
    "palette <- colorRampPalette(rev(brewer.pal(10, \"RdYlBu\")))(100)\n",
    "\n",
    "heatmap.2(x=ChannelData.cor, symm=TRUE, col=palette, key=TRUE, trace='none', revC=TRUE, density.info='none' ,cexRow=0.1, cexCol=0.1\n",
    "\n",
    "       )\n",
    "#png(file=\"./heatmapall.png\")\n",
    "#heatmap.2(x=ChannelData.cor, symm=TRUE, col=palette, key=TRUE, trace='none', revC=TRUE, density.info='none',cexRow=0.1, cexCol=0.1 ) #\n",
    "#dev.off()"
   ]
  },
  {
   "cell_type": "markdown",
   "metadata": {},
   "source": [
    "### now make heatmap of select genes with IEG score"
   ]
  },
  {
   "cell_type": "code",
   "execution_count": 21,
   "metadata": {},
   "outputs": [],
   "source": [
    "genes<-c('IEGscore','Kcnd3','Kcnj6','Kcns3','Kcnn3','Cacna1a', 'Kcnc2','Kcnt2','Kcnab1','Kcnip1','Kcnh5','Kcnd2','Kcnh7')"
   ]
  },
  {
   "cell_type": "code",
   "execution_count": 22,
   "metadata": {},
   "outputs": [],
   "source": [
    "IEGandChannel<-IEGandChannel[,colnames(IEGandChannel) %in% genes]"
   ]
  },
  {
   "cell_type": "code",
   "execution_count": 23,
   "metadata": {
    "scrolled": false
   },
   "outputs": [],
   "source": [
    "#run correlation\n",
    "IEGandChannel.cor<-cor(IEGandChannel)"
   ]
  },
  {
   "cell_type": "code",
   "execution_count": 24,
   "metadata": {
    "scrolled": true
   },
   "outputs": [
    {
     "data": {
      "image/png": "[encoded data removed]",
      "text/plain": [
       "Plot with title \"Color Key\""
      ]
     },
     "metadata": {
      "image/png": {
       "height": 420,
       "width": 420
      }
     },
     "output_type": "display_data"
    }
   ],
   "source": [
    "mybreaks<-c(seq(0,1, length.out=101))\n",
    "palette <- colorRampPalette(rev(brewer.pal(10, \"RdYlBu\")))(100)\n",
    "\n",
    "heatmap.2(x=IEGandChannel.cor, symm=TRUE, col=palette, key=TRUE, trace='none', revC=TRUE, density.info='none' ,cexRow=0.1, cexCol=0.1\n",
    "\n",
    "       )\n",
    "#pdf(file=\"./heatmapforfaseb.pdf\")\n",
    "#heatmap.2(x=IEGandChannel.cor, symm=TRUE, col=palette, key=TRUE, trace='none', revC=TRUE, density.info='none',cexRow=0.2, cexCol=0.2 ) #\n",
    "#dev.off()"
   ]
  },
  {
   "cell_type": "code",
   "execution_count": null,
   "metadata": {},
   "outputs": [],
   "source": []
  },
  {
   "cell_type": "markdown",
   "metadata": {},
   "source": [
    "### split by stim"
   ]
  },
  {
   "cell_type": "code",
   "execution_count": 25,
   "metadata": {},
   "outputs": [],
   "source": [
    "genes<-c('IEGscore','Kcnd3','Kcnj6','Kcns3','Kcnn3','Cacna1a', 'Kcnc2','Kcnt2','Kcnab1','Kcnip1','Kcnh5','Kcnd2','Kcnh7')"
   ]
  },
  {
   "cell_type": "code",
   "execution_count": 26,
   "metadata": {},
   "outputs": [],
   "source": [
    "#Get expression data for selected channels and all IEGs\n",
    "#list 'genes' defined above\n",
    "\n",
    "assay.data<-data.frame(GetAssayData(DAneurons, slot='data'))\n",
    "\n",
    "assay.data.un<-data.frame(lapply(assay.data,expm1))\n",
    "rownames(assay.data.un)<-rownames(assay.data)\n",
    "assay.data<-assay.data.un\n",
    "\n",
    "assay.data.AllCh <- assay.data[rownames(assay.data) %in% genes,]\n",
    "assay.data.IEG <- assay.data[rownames(assay.data) %in% AllIEGlist,]"
   ]
  },
  {
   "cell_type": "code",
   "execution_count": 27,
   "metadata": {},
   "outputs": [],
   "source": [
    "# Get combined IEG score\n",
    "IEGscore<-as.data.frame(colSums(assay.data.IEG))\n",
    "colnames(IEGscore)<-'IEGscore'\n",
    "\n",
    "# Transpose rows and columns of channel data\n",
    "ChannelData <- data.frame(t(assay.data.AllCh))\n",
    "colnames(ChannelData) <- rownames(assay.data.AllCh)\n",
    "\n",
    "#combine IEGscore and channel data, rename IEGandCorgenes\n",
    "IEGandCorgenes<-cbind(IEGscore, ChannelData)"
   ]
  },
  {
   "cell_type": "code",
   "execution_count": 28,
   "metadata": {},
   "outputs": [],
   "source": [
    "#Split by stim\n",
    "IEGandCorgenes.YFP<-IEGandCorgenes[grep('YFP', rownames(IEGandCorgenes)), ]\n",
    "IEGandCorgenes.PFC<-IEGandCorgenes[grep('PFC', rownames(IEGandCorgenes)), ]\n",
    "IEGandCorgenes.NAc<-IEGandCorgenes[grep('NAc', rownames(IEGandCorgenes)), ]\n",
    "IEGandCorgenes.LH<-IEGandCorgenes[grep('LH', rownames(IEGandCorgenes)), ]"
   ]
  },
  {
   "cell_type": "code",
   "execution_count": 29,
   "metadata": {},
   "outputs": [],
   "source": [
    "#run correlations\n",
    "IEGandCorgenes.YFP.cor<-cor(IEGandCorgenes.YFP)\n",
    "IEGandCorgenes.PFC.cor<-cor(IEGandCorgenes.PFC)\n",
    "IEGandCorgenes.NAc.cor<-cor(IEGandCorgenes.NAc)\n",
    "IEGandCorgenes.LH.cor<-cor(IEGandCorgenes.LH)"
   ]
  },
  {
   "cell_type": "code",
   "execution_count": 30,
   "metadata": {},
   "outputs": [],
   "source": [
    "#combine correlated values for all groups\n",
    "IEGcorvalues.YFP<-as.data.frame(IEGandCorgenes.YFP.cor)\n",
    "IEGcorvalues.PFC<-as.data.frame(IEGandCorgenes.PFC.cor)\n",
    "IEGcorvalues.NAc<-as.data.frame(IEGandCorgenes.NAc.cor)\n",
    "IEGcorvalues.LH<-as.data.frame(IEGandCorgenes.LH.cor)\n",
    "\n",
    "IEGscoreonly.YFP<-data.frame(IEGcorvalues.YFP$IEGscore)\n",
    "IEGscoreonly.PFC<-data.frame(IEGcorvalues.PFC$IEGscore)\n",
    "IEGscoreonly.NAc<-data.frame(IEGcorvalues.NAc$IEGscore)\n",
    "IEGscoreonly.LH<-data.frame(IEGcorvalues.LH$IEGscore)\n",
    "\n",
    "rownames(IEGscoreonly.YFP)<-rownames(IEGcorvalues.YFP)\n",
    "rownames(IEGscoreonly.PFC)<-rownames(IEGcorvalues.PFC)\n",
    "rownames(IEGscoreonly.NAc)<-rownames(IEGcorvalues.NAc)\n",
    "rownames(IEGscoreonly.LH)<-rownames(IEGcorvalues.LH)\n",
    "\n",
    "IEGscoreonly.YFP$id <- rownames(IEGscoreonly.YFP)\n",
    "IEGscoreonly.PFC$id <- rownames(IEGscoreonly.PFC)\n",
    "IEGscoreonly.NAc$id <- rownames(IEGscoreonly.NAc)\n",
    "IEGscoreonly.LH$id <- rownames(IEGscoreonly.LH)\n",
    "\n",
    "#sort alphabetically first\n",
    "IEGscoresort.YFP<- IEGscoreonly.YFP[order(IEGscoreonly.YFP$id),]\n",
    "IEGscoresort.PFC<- IEGscoreonly.PFC[order(IEGscoreonly.PFC$id),]\n",
    "IEGscoresort.NAc<- IEGscoreonly.NAc[order(IEGscoreonly.NAc$id),]\n",
    "IEGscoresort.LH<- IEGscoreonly.LH[order(IEGscoreonly.LH$id),]\n",
    "\n",
    "#combine\n",
    "IEGscore.comb<-cbind(IEGscoresort.YFP[,1], IEGscoresort.PFC[,1], IEGscoresort.NAc[,1],IEGscoresort.LH[,1:2])\n",
    "colnames(IEGscore.comb)<-c('YFP','PFC','NAc','LH','id')\n",
    "\n",
    "#sort by YFP cor score\n",
    "IEGscore.comb<-IEGscore.comb[order(IEGscore.comb$YFP, decreasing=TRUE),]\n",
    "\n",
    "IEGscore.comb<-na.omit(IEGscore.comb)\n",
    "IEGscore.comb<-IEGscore.comb[-grep('IEG', rownames(IEGscore.comb)), ]"
   ]
  },
  {
   "cell_type": "code",
   "execution_count": 31,
   "metadata": {
    "collapsed": true
   },
   "outputs": [
    {
     "name": "stderr",
     "output_type": "stream",
     "text": [
      "Warning message in melt(IEGscore.comb):\n",
      "\"The melt generic in data.table has been passed a data.frame and will attempt to redirect to the relevant reshape2 method; please note that reshape2 is deprecated, and this redirection is now deprecated as well. To continue using melt methods from reshape2 while both libraries are attached, e.g. melt.list, you can prepend the namespace like reshape2::melt(IEGscore.comb). In the next version, this warning will become an error.\"\n",
      "Using id as id variables\n",
      "\n"
     ]
    }
   ],
   "source": [
    "IEGscore.comb$id <- factor(IEGscore.comb$id, levels=c(rownames(IEGscore.comb)))\n",
    "IEGscore.comb.melt <- melt(IEGscore.comb)\n",
    "IEGscore.comb.melt$variable <- factor(IEGscore.comb.melt$variable, levels=c('YFP','PFC','NAc','LH'))\n"
   ]
  },
  {
   "cell_type": "code",
   "execution_count": 32,
   "metadata": {},
   "outputs": [
    {
     "name": "stderr",
     "output_type": "stream",
     "text": [
      "Warning message:\n",
      "\"\u001b[1m\u001b[22mThe `size` argument of `element_line()` is deprecated as of ggplot2 3.4.0.\n",
      "\u001b[36mi\u001b[39m Please use the `linewidth` argument instead.\"\n",
      "Warning message:\n",
      "\"\u001b[1m\u001b[22mThe `size` argument of `element_rect()` is deprecated as of ggplot2 3.4.0.\n",
      "\u001b[36mi\u001b[39m Please use the `linewidth` argument instead.\"\n"
     ]
    },
    {
     "data": {
      "image/png": "[encoded data removed]",
      "text/plain": [
       "plot without title"
      ]
     },
     "metadata": {
      "image/png": {
       "height": 420,
       "width": 420
      }
     },
     "output_type": "display_data"
    }
   ],
   "source": [
    "#Make heatplot\n",
    "low <- -0.25\n",
    "high <- 0.25\n",
    "\n",
    "#fordiffgenes\n",
    "ggplot(IEGscore.comb.melt, aes(x=variable, y=id, fill=value)) +\n",
    "\n",
    "theme_classic()+\n",
    "theme(axis.text.x=element_text( size=6, angle=90, hjust=1),\n",
    "            plot.title = element_text(size=6),\n",
    "            panel.background = element_rect(colour = \"black\", size=.25, fill=NA),\n",
    "            axis.line.y = element_blank(),\n",
    "            axis.line.x=element_blank(),\n",
    "            axis.title.y = element_blank(),\n",
    "            axis.ticks.x = element_line(size=0.25),\n",
    "            axis.title.x = element_blank(),\n",
    "            legend.key.height= unit(0.2, 'cm'), \n",
    "            legend.key.width = unit(1.0, 'cm'),\n",
    "            legend.position = \"bottom\",\n",
    "            legend.text = element_text(size=6),\n",
    "            legend.title = element_blank())+\n",
    "             scale_y_discrete(limits=rev)+\n",
    "    geom_tile() +\n",
    "    scale_fill_gradient2(limits=c(low, high), breaks=seq(low,high,by=5),low = \"darkblue\",mid=\"white\",midpoint=0,high = \"red\",oob=squish)\n",
    "#ggsave('./Corgenes heatplot.pdf',width=5, height=10)"
   ]
  },
  {
   "cell_type": "code",
   "execution_count": null,
   "metadata": {},
   "outputs": [],
   "source": []
  },
  {
   "cell_type": "markdown",
   "metadata": {},
   "source": [
    "### plotting across other cell types"
   ]
  },
  {
   "cell_type": "code",
   "execution_count": 33,
   "metadata": {},
   "outputs": [],
   "source": [
    "#Split by celltype\n",
    "DAneurons<-subset(x = VTA.integrated, subset = celltype == \"DA1\"|celltype == \"DA2\" |celltype == \"DA3\")\n",
    "GABAneurons<-subset(x= VTA.integrated, subset = celltype == 'Gaba1'| celltype == 'Gaba2' | celltype == 'Gaba3' | celltype == 'Gaba4')\n",
    "Gluneurons<-subset(x= VTA.integrated, subset = celltype == 'Glu1'| celltype == 'Glu2' | celltype == 'Glu3' | celltype == 'Glu4'| celltype == 'Glu5' | celltype == 'Glu6' | celltype == 'Glu7')\n",
    "CoExneurons<-subset(x = VTA.integrated, subset = celltype == \"CoEx1\"|celltype == \"CoEx2\" |celltype == \"CoEx3\")"
   ]
  },
  {
   "cell_type": "code",
   "execution_count": 34,
   "metadata": {},
   "outputs": [],
   "source": [
    "#Get expression data for IEGs and for select genes\n",
    "assay.data.DA<-data.frame(GetAssayData(DAneurons, slot='data'))\n",
    "assay.data.GABA<-data.frame(GetAssayData(GABAneurons, slot='data'))\n",
    "assay.data.Glu<-data.frame(GetAssayData(Gluneurons, slot='data'))\n",
    "assay.data.CoEx<-data.frame(GetAssayData(CoExneurons, slot='data'))\n",
    "\n",
    "\n",
    "assay.data.un.DA<-data.frame(lapply(assay.data.DA,expm1))\n",
    "rownames(assay.data.un.DA)<-rownames(assay.data.DA)\n",
    "assay.data.DA<-assay.data.un.DA\n",
    "\n",
    "assay.data.un.GABA<-data.frame(lapply(assay.data.GABA,expm1))\n",
    "rownames(assay.data.un.GABA)<-rownames(assay.data.GABA)\n",
    "assay.data.GABA<-assay.data.un.GABA\n",
    "\n",
    "assay.data.un.Glu<-data.frame(lapply(assay.data.Glu,expm1))\n",
    "rownames(assay.data.un.Glu)<-rownames(assay.data.Glu)\n",
    "assay.data.Glu<-assay.data.un.Glu\n",
    "\n",
    "assay.data.un.CoEx<-data.frame(lapply(assay.data.CoEx,expm1))\n",
    "rownames(assay.data.un.CoEx)<-rownames(assay.data.CoEx)\n",
    "assay.data.CoEx<-assay.data.un.CoEx\n",
    "\n",
    "\n",
    "#Using to plot genes defined above\n",
    "\n",
    "assay.data.corgenes.DA <- assay.data.DA[rownames(assay.data.DA) %in% genes,]\n",
    "assay.data.IEG.DA <- assay.data.DA[rownames(assay.data.DA) %in% AllIEGlist,]\n",
    "\n",
    "assay.data.corgenes.GABA <- assay.data.GABA[rownames(assay.data.GABA) %in% genes,]\n",
    "assay.data.IEG.GABA <- assay.data.GABA[rownames(assay.data.GABA) %in% AllIEGlist,]\n",
    "\n",
    "assay.data.corgenes.Glu <- assay.data.Glu[rownames(assay.data.Glu) %in% genes,]\n",
    "assay.data.IEG.Glu <- assay.data.Glu[rownames(assay.data.Glu) %in% AllIEGlist,]\n",
    "\n",
    "assay.data.corgenes.CoEx <- assay.data.CoEx[rownames(assay.data.CoEx) %in% genes,]\n",
    "assay.data.IEG.CoEx <- assay.data.CoEx[rownames(assay.data.CoEx) %in% AllIEGlist,]"
   ]
  },
  {
   "cell_type": "code",
   "execution_count": 35,
   "metadata": {},
   "outputs": [],
   "source": [
    "# Transpose rows and columns of channel data\n",
    "CorGenesData.DA <- data.frame(t(assay.data.corgenes.DA))\n",
    "colnames(CorGenesData.DA) <- rownames(assay.data.corgenes.DA)\n",
    "\n",
    "CorGenesData.GABA <- data.frame(t(assay.data.corgenes.GABA))\n",
    "colnames(CorGenesData.GABA) <- rownames(assay.data.corgenes.GABA)\n",
    "\n",
    "CorGenesData.Glu <- data.frame(t(assay.data.corgenes.Glu))\n",
    "colnames(CorGenesData.Glu) <- rownames(assay.data.corgenes.Glu)\n",
    "\n",
    "CorGenesData.CoEx <- data.frame(t(assay.data.corgenes.CoEx))\n",
    "colnames(CorGenesData.CoEx) <- rownames(assay.data.corgenes.CoEx)"
   ]
  },
  {
   "cell_type": "code",
   "execution_count": 36,
   "metadata": {},
   "outputs": [],
   "source": [
    "# Get combined IEG score\n",
    "IEGscore.DA<-as.data.frame(colSums(assay.data.IEG.DA))\n",
    "colnames(IEGscore.DA)<-'IEGscore'\n",
    "\n",
    "IEGscore.GABA<-as.data.frame(colSums(assay.data.IEG.GABA))\n",
    "colnames(IEGscore.GABA)<-'IEGscore'\n",
    "\n",
    "IEGscore.Glu<-as.data.frame(colSums(assay.data.IEG.Glu))\n",
    "colnames(IEGscore.Glu)<-'IEGscore'\n",
    "\n",
    "IEGscore.CoEx<-as.data.frame(colSums(assay.data.IEG.CoEx))\n",
    "colnames(IEGscore.CoEx)<-'IEGscore'"
   ]
  },
  {
   "cell_type": "code",
   "execution_count": 37,
   "metadata": {},
   "outputs": [],
   "source": [
    "#combine IEGscore and channel data\n",
    "IEGandCorgenes.DA<-cbind(IEGscore.DA, CorGenesData.DA)\n",
    "IEGandCorgenes.GABA<-cbind(IEGscore.GABA, CorGenesData.GABA)\n",
    "IEGandCorgenes.Glu<-cbind(IEGscore.Glu, CorGenesData.Glu)\n",
    "IEGandCorgenes.CoEx<-cbind(IEGscore.CoEx, CorGenesData.CoEx)"
   ]
  },
  {
   "cell_type": "code",
   "execution_count": 38,
   "metadata": {},
   "outputs": [],
   "source": [
    "#run correlation\n",
    "IEGandCorgenes.DA.cor<-cor(IEGandCorgenes.DA)\n",
    "IEGandCorgenes.GABA.cor<-cor(IEGandCorgenes.GABA)\n",
    "IEGandCorgenes.Glu.cor<-cor(IEGandCorgenes.Glu)\n",
    "IEGandCorgenes.CoEx.cor<-cor(IEGandCorgenes.CoEx)"
   ]
  },
  {
   "cell_type": "code",
   "execution_count": 39,
   "metadata": {},
   "outputs": [],
   "source": [
    "#combine correlated values for all groups\n",
    "IEGcorvalues.DA<-as.data.frame(IEGandCorgenes.DA.cor)\n",
    "IEGcorvalues.GABA<-as.data.frame(IEGandCorgenes.GABA.cor)\n",
    "IEGcorvalues.Glu<-as.data.frame(IEGandCorgenes.Glu.cor)\n",
    "IEGcorvalues.CoEx<-as.data.frame(IEGandCorgenes.CoEx.cor)\n",
    "\n",
    "IEGscoreonly.DA<-data.frame(IEGcorvalues.DA$IEGscore)\n",
    "IEGscoreonly.GABA<-data.frame(IEGcorvalues.GABA$IEGscore)\n",
    "IEGscoreonly.Glu<-data.frame(IEGcorvalues.Glu$IEGscore)\n",
    "IEGscoreonly.CoEx<-data.frame(IEGcorvalues.CoEx$IEGscore)\n",
    "\n",
    "rownames(IEGscoreonly.DA)<-rownames(IEGcorvalues.DA)\n",
    "rownames(IEGscoreonly.GABA)<-rownames(IEGcorvalues.GABA)\n",
    "rownames(IEGscoreonly.Glu)<-rownames(IEGcorvalues.Glu)\n",
    "rownames(IEGscoreonly.CoEx)<-rownames(IEGcorvalues.CoEx)\n",
    "\n",
    "IEGscoreonly.DA$id <- rownames(IEGscoreonly.DA)\n",
    "IEGscoreonly.GABA$id <- rownames(IEGscoreonly.GABA)\n",
    "IEGscoreonly.Glu$id <- rownames(IEGscoreonly.Glu)\n",
    "IEGscoreonly.CoEx$id <- rownames(IEGscoreonly.CoEx)\n",
    "\n",
    "#sort alphabetically first\n",
    "IEGscoresort.DA<- IEGscoreonly.DA[order(IEGscoreonly.DA$id),]\n",
    "IEGscoresort.GABA<- IEGscoreonly.GABA[order(IEGscoreonly.GABA$id),]\n",
    "IEGscoresort.Glu<- IEGscoreonly.Glu[order(IEGscoreonly.Glu$id),]\n",
    "IEGscoresort.CoEx<- IEGscoreonly.CoEx[order(IEGscoreonly.CoEx$id),]\n",
    "\n",
    "#combine\n",
    "IEGscore.comb<-cbind(IEGscoresort.DA[,1], IEGscoresort.GABA[,1], IEGscoresort.Glu[,1],IEGscoresort.CoEx[,1:2])\n",
    "colnames(IEGscore.comb)<-c('DA','GABA','Glu','CoEx','id')\n",
    "\n",
    "#sort by DA cor score\n",
    "IEGscore.comb<-IEGscore.comb[order(IEGscore.comb$DA, decreasing=TRUE),]\n",
    "\n",
    "IEGscore.comb<-na.omit(IEGscore.comb)\n",
    "IEGscore.comb<-IEGscore.comb[-grep('IEG', rownames(IEGscore.comb)), ]"
   ]
  },
  {
   "cell_type": "code",
   "execution_count": 40,
   "metadata": {},
   "outputs": [
    {
     "name": "stderr",
     "output_type": "stream",
     "text": [
      "Warning message in melt(IEGscore.comb):\n",
      "\"The melt generic in data.table has been passed a data.frame and will attempt to redirect to the relevant reshape2 method; please note that reshape2 is deprecated, and this redirection is now deprecated as well. To continue using melt methods from reshape2 while both libraries are attached, e.g. melt.list, you can prepend the namespace like reshape2::melt(IEGscore.comb). In the next version, this warning will become an error.\"\n",
      "Using id as id variables\n",
      "\n"
     ]
    }
   ],
   "source": [
    "IEGscore.comb$id <- factor(IEGscore.comb$id, levels=c(rownames(IEGscore.comb)))\n",
    "IEGscore.comb.melt <- melt(IEGscore.comb)\n",
    "IEGscore.comb.melt$variable <- factor(IEGscore.comb.melt$variable, levels=c('DA','GABA','Glu','CoEx'))"
   ]
  },
  {
   "cell_type": "code",
   "execution_count": 41,
   "metadata": {},
   "outputs": [
    {
     "data": {
      "image/png": "[encoded data removed]",
      "text/plain": [
       "plot without title"
      ]
     },
     "metadata": {
      "image/png": {
       "height": 420,
       "width": 420
      }
     },
     "output_type": "display_data"
    }
   ],
   "source": [
    "#Make heatplot\n",
    "low <- -0.25\n",
    "high <- 0.25\n",
    "\n",
    "#fordiffgenes\n",
    "ggplot(IEGscore.comb.melt, aes(x=variable, y=id, fill=value)) +\n",
    "\n",
    "theme_classic()+\n",
    "theme(axis.text.x=element_text( size=6, angle=90, hjust=1),\n",
    "            plot.title = element_text(size=6),\n",
    "            panel.background = element_rect(colour = \"black\", size=.25, fill=NA),\n",
    "            axis.line.y = element_blank(),\n",
    "            axis.line.x=element_blank(),\n",
    "            axis.title.y = element_blank(),\n",
    "            axis.ticks.x = element_line(size=0.25),\n",
    "            axis.title.x = element_blank(),\n",
    "            legend.key.height= unit(0.2, 'cm'), \n",
    "            legend.key.width = unit(1.0, 'cm'),\n",
    "            legend.position = \"bottom\",\n",
    "            legend.text = element_text(size=6),\n",
    "            legend.title = element_blank())+\n",
    "             scale_y_discrete(limits=rev)+\n",
    "    geom_tile() +\n",
    "    scale_fill_gradient2(limits=c(low, high), breaks=seq(low,high,by=5),low = \"darkblue\",mid=\"white\",midpoint=0,high = \"red\",oob=squish)\n",
    "#ggsave('./Corgenes heatplot other celltypes.pdf',width=5, height=10)"
   ]
  },
  {
   "cell_type": "code",
   "execution_count": null,
   "metadata": {},
   "outputs": [],
   "source": []
  },
  {
   "cell_type": "markdown",
   "metadata": {},
   "source": [
    "# disc plot"
   ]
  },
  {
   "cell_type": "code",
   "execution_count": 42,
   "metadata": {},
   "outputs": [],
   "source": [
    "DefaultAssay(VTA.integrated) <- \"RNA\""
   ]
  },
  {
   "cell_type": "code",
   "execution_count": 43,
   "metadata": {},
   "outputs": [],
   "source": [
    "levels(VTA.integrated) <- ((c(\"DA1\",\"DA2\",\"DA3\",\"Gaba1\",\"Gaba2\",\"Gaba3\",\"Gaba4\",\"Glu1\",\"Glu2\",\"Glu3\",\"Glu4\",\"Glu5\",\"Glu6\",\"Glu7\",\"CoEx1\",\"CoEx2\",\"CoEx3\")))"
   ]
  },
  {
   "cell_type": "code",
   "execution_count": 44,
   "metadata": {},
   "outputs": [],
   "source": [
    "gene_list<-c('Kcnd3','Kcnn3','Kcnj6','Cacna1a','Kcns3','Kcnc2','Kcnab1','Kcnh5','Kcnt2','Kcnd2','Kcnip1','Kcnh7')"
   ]
  },
  {
   "cell_type": "code",
   "execution_count": 45,
   "metadata": {
    "scrolled": true
   },
   "outputs": [
    {
     "name": "stderr",
     "output_type": "stream",
     "text": [
      "Warning message:\n",
      "\"Scaling data with a low number of groups may produce misleading results\"\n",
      "\u001b[1m\u001b[22mScale for \u001b[32mcolour\u001b[39m is already present.\n",
      "Adding another scale for \u001b[32mcolour\u001b[39m, which will replace the existing scale.\n",
      "\u001b[1m\u001b[22mScale for \u001b[32msize\u001b[39m is already present.\n",
      "Adding another scale for \u001b[32msize\u001b[39m, which will replace the existing scale.\n"
     ]
    },
    {
     "data": {
      "image/png": "[encoded data removed]",
      "text/plain": [
       "plot without title"
      ]
     },
     "metadata": {
      "image/png": {
       "height": 420,
       "width": 420
      }
     },
     "output_type": "display_data"
    }
   ],
   "source": [
    "#three color\n",
    "DotPlot(VTA.integrated, feature=gene_list, scale=TRUE, id=c('DA1','DA2','DA3'))  + \n",
    "scale_colour_gradient2(low = \"blue\", mid = \"white\", high = \"red\") +\n",
    "theme(axis.title=element_blank(),\n",
    "          axis.text.y=element_text(size=6,colour = \"black\"),\n",
    "          axis.text.x=element_text(size=6,angle = 50, hjust =1,colour = \"black\"),\n",
    "          axis.line = element_blank(),\n",
    "          axis.ticks = element_line(size=0.25),\n",
    "          legend.key.size = unit(0.4, \"cm\"),\n",
    "          panel.background = element_rect(colour = \"black\", size=.25, fill=NA),\n",
    "          legend.title = element_text(size=8),\n",
    "          legend.text = element_text(size=6),\n",
    "          legend.position='bottom') +\n",
    "scale_size_continuous(range = c(0,3)) +\n",
    "coord_flip()\n"
   ]
  }
 ],
 "metadata": {
  "kernelspec": {
   "display_name": "R",
   "language": "R",
   "name": "ir"
  },
  "language_info": {
   "codemirror_mode": "r",
   "file_extension": ".r",
   "mimetype": "text/x-r-source",
   "name": "R",
   "pygments_lexer": "r",
   "version": "4.1.2"
  }
 },
 "nbformat": 4,
 "nbformat_minor": 2
}
