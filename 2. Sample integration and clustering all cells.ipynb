{
 "cells": [
  {
   "cell_type": "markdown",
   "metadata": {},
   "source": [
    "## Pre-processing samples following doublet removal"
   ]
  },
  {
   "cell_type": "markdown",
   "metadata": {},
   "source": [
    "Load necessary libraries"
   ]
  },
  {
   "cell_type": "code",
   "execution_count": 1,
   "metadata": {
    "collapsed": true
   },
   "outputs": [
    {
     "name": "stderr",
     "output_type": "stream",
     "text": [
      "Attaching SeuratObject\n",
      "\n",
      "\n",
      "Attaching package: 'dplyr'\n",
      "\n",
      "\n",
      "The following objects are masked from 'package:stats':\n",
      "\n",
      "    filter, lag\n",
      "\n",
      "\n",
      "The following objects are masked from 'package:base':\n",
      "\n",
      "    intersect, setdiff, setequal, union\n",
      "\n",
      "\n"
     ]
    }
   ],
   "source": [
    "library(Seurat)\n",
    "library(dplyr)\n",
    "library(magrittr)\n",
    "library(\"xlsx\")\n",
    "library(\"ggplot2\")\n",
    "library(ggplot2)\n",
    "library(cowplot)\n",
    "library(svglite)"
   ]
  },
  {
   "cell_type": "markdown",
   "metadata": {},
   "source": [
    "Load experimental samples"
   ]
  },
  {
   "cell_type": "code",
   "execution_count": null,
   "metadata": {},
   "outputs": [],
   "source": [
    "VTA_YFP.data <-Read10X(data.dir = \"D:/scRNAseq/30-453842648/01_analysis/cellranger_count/YFP/raw_feature_bc_matrix\")\n",
    "colnames(VTA_YFP.data) = paste0(colnames(VTA_YFP.data),\"VTA_YFP\")\n",
    "VTA_YFP<- CreateSeuratObject(counts = VTA_YFP.data, min.cells = 3, min.features = 200, project = \"VTA_input\")\n",
    "new_barcodes <- gsub(\"-1\",\"\",colnames(VTA_YFP))\n",
    "VTA_YFP <- RenameCells(VTA_YFP, new.names = new_barcodes)\n",
    "VTA_YFP@meta.data$stim <- \"VTA_YFP\"\n",
    "\n",
    "VTA_YFP_clean<-rownames(read.table(file=\"/Users/stuberadmin/Documents/scRNAseq/Marta_VTA/Doublet_processing/YFP/Final_nondoublets_groups_cntl.txt\"))\n",
    "VTA_YFP_doublet<-rownames(read.table(file=\"/Users/stuberadmin/Documents/scRNAseq/Marta_VTA/Doublet_processing/YFP/Final_doublets_groups_cntl.txt\"))\n",
    "VTA_YFP<-subset(x=VTA_YFP,cells=VTA_YFP_clean)"
   ]
  },
  {
   "cell_type": "code",
   "execution_count": null,
   "metadata": {},
   "outputs": [],
   "source": [
    "VTA_LH.data <-Read10X(data.dir = \"D:/scRNAseq/30-573274809/01_analysis/cellranger_count/LH/raw_feature_bc_matrix\")\n",
    "colnames(VTA_LH.data) = paste0(colnames(VTA_LH.data),\"VTA_LH\")\n",
    "VTA_LH<- CreateSeuratObject(counts = VTA_LH.data, min.cells = 3, min.features = 200, project = \"VTA_input\")\n",
    "new_barcodes <- gsub(\"-1\",\"\",colnames(VTA_LH))\n",
    "VTA_LH <- RenameCells(VTA_LH, new.names = new_barcodes)\n",
    "VTA_LH@meta.data$stim <- \"VTA_LH\"\n",
    "\n",
    "VTA_LH_clean<-rownames(read.table(file=\"/Users/stuberadmin/Documents/scRNAseq/Marta_VTA/Doublet_processing/LH/Final_nondoublets_groups_cntl.txt\"))\n",
    "VTA_LH_doublet<-rownames(read.table(file=\"/Users/stuberadmin/Documents/scRNAseq/Marta_VTA/Doublet_processing/LH/Final_doublets_groups_cntl.txt\"))\n",
    "VTA_LH<-subset(x=VTA_LH,cells=VTA_LH_clean)"
   ]
  },
  {
   "cell_type": "code",
   "execution_count": null,
   "metadata": {},
   "outputs": [],
   "source": [
    "VTA_NAc.data <-Read10X(data.dir = \"D:/scRNAseq/30-573274809/01_analysis/cellranger_count/NAc/raw_feature_bc_matrix\")\n",
    "colnames(VTA_NAc.data) = paste0(colnames(VTA_NAc.data),\"VTA_NAc\")\n",
    "VTA_NAc<- CreateSeuratObject(counts = VTA_NAc.data, min.cells = 3, min.features = 200, project = \"VTA_input\")\n",
    "new_barcodes <- gsub(\"-1\",\"\",colnames(VTA_NAc))\n",
    "VTA_NAc <- RenameCells(VTA_NAc, new.names = new_barcodes)\n",
    "VTA_NAc@meta.data$stim <- \"VTA_NAc\"\n",
    "\n",
    "VTA_NAc_clean<-rownames(read.table(file=\"/Users/stuberadmin/Documents/scRNAseq/Marta_VTA/Doublet_processing/NAc/Final_nondoublets_groups_cntl.txt\"))\n",
    "VTA_NAc_doublet<-rownames(read.table(file=\"/Users/stuberadmin/Documents/scRNAseq/Marta_VTA/Doublet_processing/NAc/Final_doublets_groups_cntl.txt\"))\n",
    "VTA_NAc<-subset(x=VTA_NAc,cells=VTA_NAc_clean)"
   ]
  },
  {
   "cell_type": "code",
   "execution_count": null,
   "metadata": {},
   "outputs": [],
   "source": [
    "VTA_PFC.data <-Read10X(data.dir = \"D:/scRNAseq/30-573274809/01_analysis/cellranger_count/PFC/raw_feature_bc_matrix\")\n",
    "colnames(VTA_PFC.data) = paste0(colnames(VTA_PFC.data),\"VTA_PFC\")\n",
    "VTA_PFC<- CreateSeuratObject(counts = VTA_PFC.data, min.cells = 3, min.features = 200, project = \"VTA_input\")\n",
    "new_barcodes <- gsub(\"-1\",\"\",colnames(VTA_PFC))\n",
    "VTA_PFC <- RenameCells(VTA_PFC, new.names = new_barcodes)\n",
    "VTA_PFC@meta.data$stim <- \"VTA_PFC\"\n",
    "\n",
    "VTA_PFC_clean<-rownames(read.table(file=\"/Users/stuberadmin/Documents/scRNAseq/Marta_VTA/Doublet_processing/PFC/Final_nondoublets_groups_cntl.txt\"))\n",
    "VTA_PFC_doublet<-rownames(read.table(file=\"/Users/stuberadmin/Documents/scRNAseq/Marta_VTA/Doublet_processing/PFC/Final_doublets_groups_cntl.txt\"))\n",
    "VTA_PFC<-subset(x=VTA_PFC,cells=VTA_PFC_clean)"
   ]
  },
  {
   "cell_type": "code",
   "execution_count": null,
   "metadata": {},
   "outputs": [],
   "source": [
    "mito.features <- grep(pattern = \"^mt-\", x = rownames(x =VTA_YFP), value = TRUE)\n",
    "percent.mito <- Matrix::colSums(x = GetAssayData(object = VTA_YFP, slot = 'counts')[mito.features, ]) / Matrix::colSums(x = GetAssayData(object = VTA_YFP, slot = 'counts'))\n",
    "VTA_YFP[['percent.mito']] <- percent.mito\n"
   ]
  },
  {
   "cell_type": "code",
   "execution_count": null,
   "metadata": {},
   "outputs": [],
   "source": [
    "mito.features <- grep(pattern = \"^mt-\", x = rownames(x =VTA_LH), value = TRUE)\n",
    "percent.mito <- Matrix::colSums(x = GetAssayData(object = VTA_LH, slot = 'counts')[mito.features, ]) / Matrix::colSums(x = GetAssayData(object =VTA_LH, slot = 'counts'))\n",
    "VTA_LH[['percent.mito']] <- percent.mito"
   ]
  },
  {
   "cell_type": "code",
   "execution_count": null,
   "metadata": {},
   "outputs": [],
   "source": [
    "mito.features <- grep(pattern = \"^mt-\", x = rownames(x =VTA_NAc), value = TRUE)\n",
    "percent.mito <- Matrix::colSums(x = GetAssayData(object = VTA_NAc, slot = 'counts')[mito.features, ]) / Matrix::colSums(x = GetAssayData(object = VTA_NAc, slot = 'counts'))\n",
    "VTA_NAc[['percent.mito']] <- percent.mito"
   ]
  },
  {
   "cell_type": "code",
   "execution_count": null,
   "metadata": {},
   "outputs": [],
   "source": [
    "mito.features <- grep(pattern = \"^mt-\", x = rownames(x =VTA_PFC), value = TRUE)\n",
    "percent.mito <- Matrix::colSums(x = GetAssayData(object = VTA_PFC, slot = 'counts')[mito.features, ]) / Matrix::colSums(x = GetAssayData(object = VTA_PFC, slot = 'counts'))\n",
    "VTA_PFC[['percent.mito']] <- percent.mito"
   ]
  },
  {
   "cell_type": "markdown",
   "metadata": {},
   "source": [
    "Re-applying filtering parameters (redundant but to make sure parameters are applied)"
   ]
  },
  {
   "cell_type": "code",
   "execution_count": null,
   "metadata": {},
   "outputs": [],
   "source": [
    "VTA_YFP <- subset(x = VTA_YFP, subset = nCount_RNA > 700 & nCount_RNA < 25000 & percent.mito < 0.01)\n",
    "VTA_LH<- subset(x = VTA_LH, subset = nCount_RNA > 800 & nCount_RNA < 25000 & percent.mito < 0.01)\n",
    "VTA_NAc <- subset(x = VTA_NAc, subset = nCount_RNA > 800 & nCount_RNA < 25000 & percent.mito < 0.01)\n",
    "VTA_PFC <- subset(x = VTA_PFC, subset = nCount_RNA > 900 & nCount_RNA < 25000 & percent.mito < 0.01)"
   ]
  },
  {
   "cell_type": "code",
   "execution_count": null,
   "metadata": {},
   "outputs": [],
   "source": []
  },
  {
   "cell_type": "markdown",
   "metadata": {},
   "source": [
    "### Data normalization, scaling, and dimensionality reduction"
   ]
  },
  {
   "cell_type": "code",
   "execution_count": null,
   "metadata": {},
   "outputs": [],
   "source": [
    "VTA_YFP<- NormalizeData(object = VTA_YFP,verbose = FALSE) \n",
    "VTA_LH <- NormalizeData(object = VTA_LH,verbose = FALSE) \n",
    "VTA_NAc <- NormalizeData(object = VTA_NAc,verbose = FALSE)\n",
    "VTA_PFC <- NormalizeData(object = VTA_PFC,verbose = FALSE) "
   ]
  },
  {
   "cell_type": "code",
   "execution_count": null,
   "metadata": {
    "scrolled": true
   },
   "outputs": [],
   "source": [
    "VTA_YFP<- FindVariableFeatures(object =VTA_YFP,selection.method = \"vst\", nfeatures = 2000, verbose = FALSE)\n",
    "length(x = VariableFeatures(object = VTA_YFP))\n",
    "VTA_LH<- FindVariableFeatures(object =VTA_LH,selection.method = \"vst\", nfeatures = 2000, verbose = FALSE)\n",
    "length(x = VariableFeatures(object =VTA_LH))\n",
    "VTA_NAc<- FindVariableFeatures(object =VTA_NAc,selection.method = \"vst\", nfeatures = 2000, verbose = FALSE)\n",
    "length(x = VariableFeatures(object = VTA_NAc))\n",
    "VTA_PFC<- FindVariableFeatures(object =VTA_PFC,selection.method = \"vst\", nfeatures = 2000, verbose = FALSE)\n",
    "length(x = VariableFeatures(object = VTA_PFC))"
   ]
  },
  {
   "cell_type": "code",
   "execution_count": null,
   "metadata": {},
   "outputs": [],
   "source": [
    "VTA.list<-objects()\n",
    "VTA.list$VTA_YFP<-VTA_YFP\n",
    "VTA.list$VTA_LH<-VTA_LH\n",
    "VTA.list$VTA_NAc<-VTA_NAc\n",
    "VTA.list$VTA_PFC<-VTA_PFC"
   ]
  },
  {
   "cell_type": "code",
   "execution_count": null,
   "metadata": {},
   "outputs": [],
   "source": [
    "reference.list <- VTA.list[c(\"VTA_YFP\",\"VTA_LH\",\"VTA_NAc\",\"VTA_PFC\")]\n",
    "VTA.anchors <- FindIntegrationAnchors(object.list = reference.list, dims = 1:30) "
   ]
  },
  {
   "cell_type": "code",
   "execution_count": null,
   "metadata": {},
   "outputs": [],
   "source": [
    "VTA.integrated <- IntegrateData(anchorset = VTA.anchors, dims = 1:30) "
   ]
  },
  {
   "cell_type": "code",
   "execution_count": null,
   "metadata": {},
   "outputs": [],
   "source": [
    "DefaultAssay(object = VTA.integrated) <- \"integrated\" "
   ]
  },
  {
   "cell_type": "code",
   "execution_count": null,
   "metadata": {},
   "outputs": [],
   "source": [
    "VTA.integrated <- ScaleData(object = VTA.integrated, , vars.to.regress = c(\"nCount_RNA\", \"percent.mito\"),verbose = FALSE)"
   ]
  },
  {
   "cell_type": "code",
   "execution_count": null,
   "metadata": {},
   "outputs": [],
   "source": [
    "VTA.integrated <- RunPCA(object = VTA.integrated, npcs = 30, verbose = FALSE)"
   ]
  },
  {
   "cell_type": "markdown",
   "metadata": {},
   "source": [
    "Data visualization"
   ]
  },
  {
   "cell_type": "code",
   "execution_count": null,
   "metadata": {},
   "outputs": [],
   "source": [
    "VTA.integrated <- RunUMAP(object = VTA.integrated, reduction = \"pca\", dims = 1:30)"
   ]
  },
  {
   "cell_type": "code",
   "execution_count": null,
   "metadata": {},
   "outputs": [],
   "source": [
    "p1 <- DimPlot(object = VTA.integrated, reduction = \"umap\", group.by = \"stim\")\n",
    "plot_grid(p1)\n",
    "ggsave(file=\"/Users/stuberadmin/Documents/scRNAseq/Marta_VTA/Neurons_only_iter1/allcell_umap.pdf\",width=10,height=10)\n",
    "ggsave(file=\"/Users/stuberadmin/Documents/scRNAseq/Marta_VTA/Neurons_only_iter1/allcell_umap.svg\")"
   ]
  },
  {
   "cell_type": "markdown",
   "metadata": {},
   "source": [
    "Identifying clusters"
   ]
  },
  {
   "cell_type": "code",
   "execution_count": null,
   "metadata": {
    "scrolled": true
   },
   "outputs": [],
   "source": [
    "VTA.integrated <- FindNeighbors(object = VTA.integrated, dims=1:30)"
   ]
  },
  {
   "cell_type": "code",
   "execution_count": null,
   "metadata": {},
   "outputs": [],
   "source": [
    "VTA.integrated <- FindClusters(VTA.integrated, resolution = 0.3, dims.use = 1:30, graph.name = \"integrated_snn\")"
   ]
  },
  {
   "cell_type": "markdown",
   "metadata": {},
   "source": [
    "Visualizing data with cluster labels"
   ]
  },
  {
   "cell_type": "code",
   "execution_count": null,
   "metadata": {},
   "outputs": [],
   "source": [
    "DimPlot(object = LS.integrated, reduction = \"umap\", label = TRUE, repel = TRUE, pt.size = 0.65) +\n",
    "theme_classic() + \n",
    "NoLegend() + \n",
    "theme(panel.background = element_rect(colour = \"black\", size=1, fill=NA),\n",
    "     axis.line=element_blank())\n",
    "ggsave(file=\"/Users/stuberadmin/Documents/scRNAseq/201130/Paper_figures/All_cells_names.pdf\",width=4,height=4)\n",
    "ggsave(file=\"/Users/stuberadmin/Documents/scRNAseq/201130/Paper_figures/All_cells_names.png\",width=4,height=4)"
   ]
  },
  {
   "cell_type": "markdown",
   "metadata": {},
   "source": [
    "Saving .rds files of seurat objects for the main integrated dataset as well as for each experimental group"
   ]
  },
  {
   "cell_type": "code",
   "execution_count": null,
   "metadata": {},
   "outputs": [],
   "source": [
    "saveRDS(VTA.integrated, file = \"/Users/stuberadmin/Documents/scRNAseq/Marta_VTA/All_cells_iter1/VTA_integrated.rds\")"
   ]
  },
  {
   "cell_type": "code",
   "execution_count": null,
   "metadata": {},
   "outputs": [],
   "source": [
    "saveRDS(VTA_YFP, file = \"/Users/stuberadmin/Documents/scRNAseq/Marta_VTA/All_cells_iter1/VTA_YFP.rds\")\n",
    "saveRDS(VTA_LH, file = \"/Users/stuberadmin/Documents/scRNAseq/Marta_VTA/All_cells_iter1/VTA_LH.rds\")\n",
    "saveRDS(VTA_NAc, file = \"/Users/stuberadmin/Documents/scRNAseq/Marta_VTA/All_cells_iter1/VTA_NAc.rds\")\n",
    "saveRDS(VTA_PFC, file = \"/Users/stuberadmin/Documents/scRNAseq/Marta_VTA/All_cells_iter1/VTA_PFC.rds\")"
   ]
  },
  {
   "cell_type": "markdown",
   "metadata": {},
   "source": [
    "### Re-loading integrated data for downstream processing"
   ]
  },
  {
   "cell_type": "code",
   "execution_count": 2,
   "metadata": {},
   "outputs": [],
   "source": [
    "VTA.integrated<-readRDS(file = \"/Users/stuberadmin/Documents/scRNAseq/Marta_VTA/All_cells_iter1/VTA_integrated.rds\")\n",
    "VTA_YFP<-readRDS(file = \"/Users/stuberadmin/Documents/scRNAseq/Marta_VTA/All_cells_iter1/VTA_YFP.rds\")\n",
    "VTA_LH<-readRDS(file = \"/Users/stuberadmin/Documents/scRNAseq/Marta_VTA/All_cells_iter1/VTA_LH.rds\")\n",
    "VTA_NAc<-readRDS(file = \"/Users/stuberadmin/Documents/scRNAseq/Marta_VTA/All_cells_iter1/VTA_PFC.rds\")\n",
    "VTA_PFC<-readRDS(file = \"/Users/stuberadmin/Documents/scRNAseq/Marta_VTA/All_cells_iter1/VTA_PFC.rds\")"
   ]
  },
  {
   "cell_type": "markdown",
   "metadata": {},
   "source": [
    "### Cell cluster renaming / assignment"
   ]
  },
  {
   "cell_type": "code",
   "execution_count": 3,
   "metadata": {},
   "outputs": [],
   "source": [
    "new.ident <- c(\"Micro1\",\"Oligo1\",\"Neuron1\",\"Neuron2\",\"OPC\",\"Astrocyte\",\"Neuron3\",\"Neuron4\",\"Neuron5\",\"Oligo2\",\"Micro2\",\"Micro3\",\"Neuron6\",\"Neuron7\",\"Micro4\",\"Misc1\",\"Micro5\",\"Neuron8\",\"Misc2\",\"Misc3\",\"Misc4\",\"Misc5\")\n",
    "names(x = new.ident) <- levels(x =VTA.integrated)\n",
    "VTA.integrated<- RenameIdents(object =VTA.integrated, new.ident)"
   ]
  },
  {
   "cell_type": "markdown",
   "metadata": {},
   "source": [
    "### Subsetting out major cell type classes"
   ]
  },
  {
   "cell_type": "code",
   "execution_count": 4,
   "metadata": {},
   "outputs": [],
   "source": [
    "#identifying cluster barcodes in each condition\n",
    "# exp. Oligo_1_barcode_ctrl gives all barcodes in it\n",
    "for (i in 1:length(new.ident)){\n",
    "assign(paste(new.ident[i],\"_barcode\",sep=\"\"),colnames(VTA.integrated@assays$RNA@data[,which(Idents(object=VTA.integrated) %in% new.ident[i])]))# this gives all barcodes in cluster\n",
    "assign(paste(new.ident[i],\"_barcode_VTA_YFP\",sep=\"\"),intersect(colnames(VTA_YFP@assays$RNA@data),eval(parse(text = paste(new.ident[i],\"_barcode\",sep=\"\")))))\n",
    "assign(paste(new.ident[i],\"_barcode_VTA_LH\",sep=\"\"),intersect(colnames(VTA_LH@assays$RNA@data),eval(parse(text = paste(new.ident[i],\"_barcode\",sep=\"\")))))\n",
    "assign(paste(new.ident[i],\"_barcode_VTA_NAc\",sep=\"\"),intersect(colnames(VTA_NAc@assays$RNA@data),eval(parse(text = paste(new.ident[i],\"_barcode\",sep=\"\")))))\n",
    "assign(paste(new.ident[i],\"_barcode_VTA_PFC\",sep=\"\"),intersect(colnames(VTA_PFC@assays$RNA@data),eval(parse(text = paste(new.ident[i],\"_barcode\",sep=\"\")))))}\n"
   ]
  },
  {
   "cell_type": "code",
   "execution_count": 5,
   "metadata": {},
   "outputs": [],
   "source": [
    "# barcode for simpler cell type\n",
    "# re-create barcode for each cell type\n",
    "#new.ident <- c(\"Neuron_1\", \"Oligo_1\", \"Astrocyte_1\", \"Neuron_2\", \"Neuron_3\",  \"Astrocyte_2\", \"OPC_1\", \"Neuron_4\", \"Microglia\", \"Unassigned_1\", \"Neuron_5\", \"Pericytes\", \"OPC_2\",\"Neuron_6\",\"Neuron_7\",\"Mural\",\"Astrocyte_3\",\"Neuron_8\",\"Oligo_2\",\"unassigned_2\",\"unassigned_3\")\n",
    "Neuron_barcode<-c(Neuron1_barcode,Neuron2_barcode,Neuron3_barcode, Neuron4_barcode,Neuron5_barcode,Neuron6_barcode,Neuron7_barcode)\n",
    "Neuron_barcode_VTA_YFP<-intersect(Neuron_barcode,rownames(VTA_YFP@meta.data))\n",
    "Neuron_barcode_VTA_LH<-intersect(Neuron_barcode,rownames(VTA_LH@meta.data))\n",
    "Neuron_barcode_VTA_NAc<-intersect(Neuron_barcode,rownames(VTA_NAc@meta.data))\n",
    "Neuron_barcode_VTA_PFC<-intersect(Neuron_barcode,rownames(VTA_PFC@meta.data))"
   ]
  },
  {
   "cell_type": "code",
   "execution_count": 6,
   "metadata": {},
   "outputs": [],
   "source": [
    "#other cell-types as well\n",
    "Astrocyte_barcode<-c(Astrocyte_barcode)\n",
    "Oligo_barcode<-c(Oligo1_barcode,Oligo2_barcode)\n",
    "Microglia_barcode<-c(Micro1_barcode, Micro2_barcode, Micro3_barcode, Micro4_barcode, Micro5_barcode)\n",
    "OPC_barcode<-c(OPC_barcode)\n",
    "Misc_barcode<-c(Misc1_barcode, Misc2_barcode, Misc3_barcode, Misc4_barcode, Misc5_barcode)"
   ]
  },
  {
   "cell_type": "markdown",
   "metadata": {},
   "source": [
    "Saving cell-type barcodes for further analysis"
   ]
  },
  {
   "cell_type": "code",
   "execution_count": null,
   "metadata": {},
   "outputs": [],
   "source": [
    "saveRDS(Neuron_barcode_VTA_YFP, file=\"Neuron_VTA_YFP_id.rds\")\n",
    "saveRDS(Neuron_barcode_VTA_LH, file=\"Neuron_VTA_LH_id.rds\")\n",
    "saveRDS(Neuron_barcode_VTA_NAc, file=\"Neuron_VTA_NAc_id.rds\")\n",
    "saveRDS(Neuron_barcode_VTA_PFC, file=\"Neuron_VTA_PFC_id.rds\")"
   ]
  },
  {
   "cell_type": "markdown",
   "metadata": {},
   "source": [
    "Re-labeling cell clusters based on classes"
   ]
  },
  {
   "cell_type": "code",
   "execution_count": 7,
   "metadata": {},
   "outputs": [
    {
     "data": {
      "image/png": "[encoded data removed]",
      "text/plain": [
       "plot without title"
      ]
     },
     "metadata": {
      "image/png": {
       "height": 420,
       "width": 420
      }
     },
     "output_type": "display_data"
    }
   ],
   "source": [
    "DimPlot(object = VTA.integrated,reduction = \"umap\", label = FALSE, repel = TRUE, pt.size = 0.1, label.size=4) +\n",
    "theme_classic() + \n",
    "NoLegend() + \n",
    "theme(axis.line=element_blank(),\n",
    "     axis.text=element_blank(),\n",
    "     axis.title=element_blank(),\n",
    "     axis.ticks=element_blank())\n",
    "#ggsave(file=\"\",width=3,height=3, units=\"in\")\n",
    "#ggsave(file=\"\",width=3,height=3, units=\"in\")"
   ]
  },
  {
   "cell_type": "markdown",
   "metadata": {},
   "source": [
    "Plotting cells by experimental group"
   ]
  },
  {
   "cell_type": "code",
   "execution_count": 8,
   "metadata": {
    "scrolled": true
   },
   "outputs": [
    {
     "data": {
      "image/png": "[encoded data removed]",
      "text/plain": [
       "plot without title"
      ]
     },
     "metadata": {
      "image/png": {
       "height": 420,
       "width": 420
      }
     },
     "output_type": "display_data"
    }
   ],
   "source": [
    "DimPlot(object = VTA.integrated, reduction = \"umap\", shuffle=TRUE,label = FALSE, repel = TRUE, pt.size = 0.10, label.size=2, group.by='stim', cols=c(VTA_YFP='gray',VTA_PFC='#3ea437',VTA_LH='magenta',VTA_NAc='lightblue')) +\n",
    "theme_classic() + \n",
    "NoLegend() + \n",
    "theme(plot.title=element_blank(),\n",
    "     axis.line=element_blank(),\n",
    "     axis.text=element_blank(),\n",
    "     axis.title=element_blank(),\n",
    "     axis.ticks=element_blank())\n",
    "#ggsave(file=\"\",width=3,height=3, units=\"in\")\n",
    "#ggsave(file=\"\",width=3,height=3, units=\"in\")"
   ]
  },
  {
   "cell_type": "markdown",
   "metadata": {},
   "source": [
    "### Celltype counts"
   ]
  },
  {
   "cell_type": "code",
   "execution_count": 9,
   "metadata": {
    "scrolled": true
   },
   "outputs": [],
   "source": [
    "new.ident <- c(\"Microglia\",\"Oligo\",\"Neuron\",\"Neuron\",\"OPC\",\"Astrocyte\",\"Neuron\",\"Neuron\",\"Neuron\",\"Oligo\",\"Microglia\",\"Microglia\",\"Neuron\",\"Neuron\",\"Microglia\",\"Misc\",\"Microglia\",\"Neuron\",\"Misc\",\"Misc\",\"Misc\",\"Misc\")\n",
    "names(x = new.ident) <- levels(x =VTA.integrated)\n",
    "VTA.integrated<- RenameIdents(object =VTA.integrated, new.ident)"
   ]
  },
  {
   "cell_type": "code",
   "execution_count": 10,
   "metadata": {},
   "outputs": [],
   "source": [
    "Cells_in_clusters <- as.data.frame(table(Idents(VTA.integrated)))"
   ]
  },
  {
   "cell_type": "code",
   "execution_count": 11,
   "metadata": {},
   "outputs": [
    {
     "data": {
      "text/html": [
       "<table class=\"dataframe\">\n",
       "<caption>A data.frame: 6 × 2</caption>\n",
       "<thead>\n",
       "\t<tr><th scope=col>Var1</th><th scope=col>Freq</th></tr>\n",
       "\t<tr><th scope=col>&lt;fct&gt;</th><th scope=col>&lt;int&gt;</th></tr>\n",
       "</thead>\n",
       "<tbody>\n",
       "\t<tr><td>Microglia</td><td> 9974</td></tr>\n",
       "\t<tr><td>Oligo    </td><td> 8273</td></tr>\n",
       "\t<tr><td>Neuron   </td><td>16955</td></tr>\n",
       "\t<tr><td>OPC      </td><td> 2732</td></tr>\n",
       "\t<tr><td>Astrocyte</td><td> 2695</td></tr>\n",
       "\t<tr><td>Misc     </td><td>  839</td></tr>\n",
       "</tbody>\n",
       "</table>\n"
      ],
      "text/latex": [
       "A data.frame: 6 × 2\n",
       "\\begin{tabular}{ll}\n",
       " Var1 & Freq\\\\\n",
       " <fct> & <int>\\\\\n",
       "\\hline\n",
       "\t Microglia &  9974\\\\\n",
       "\t Oligo     &  8273\\\\\n",
       "\t Neuron    & 16955\\\\\n",
       "\t OPC       &  2732\\\\\n",
       "\t Astrocyte &  2695\\\\\n",
       "\t Misc      &   839\\\\\n",
       "\\end{tabular}\n"
      ],
      "text/markdown": [
       "\n",
       "A data.frame: 6 × 2\n",
       "\n",
       "| Var1 &lt;fct&gt; | Freq &lt;int&gt; |\n",
       "|---|---|\n",
       "| Microglia |  9974 |\n",
       "| Oligo     |  8273 |\n",
       "| Neuron    | 16955 |\n",
       "| OPC       |  2732 |\n",
       "| Astrocyte |  2695 |\n",
       "| Misc      |   839 |\n",
       "\n"
      ],
      "text/plain": [
       "  Var1      Freq \n",
       "1 Microglia  9974\n",
       "2 Oligo      8273\n",
       "3 Neuron    16955\n",
       "4 OPC        2732\n",
       "5 Astrocyte  2695\n",
       "6 Misc        839"
      ]
     },
     "metadata": {},
     "output_type": "display_data"
    }
   ],
   "source": [
    "Cells_in_clusters"
   ]
  },
  {
   "cell_type": "code",
   "execution_count": 12,
   "metadata": {},
   "outputs": [],
   "source": [
    "colnames(Cells_in_clusters)[1] <- \"Cluster\"\n",
    "colnames(Cells_in_clusters)[2] <- \"Number\""
   ]
  },
  {
   "cell_type": "code",
   "execution_count": 13,
   "metadata": {},
   "outputs": [],
   "source": [
    "Cells_in_clusters$Cluster <- factor(Cells_in_clusters$Cluster, levels = c(\"Astrocyte\",\"Oligo\",\"Neuron\",\"OPC\",\"Microglia\",\"Misc\"))"
   ]
  },
  {
   "cell_type": "code",
   "execution_count": 14,
   "metadata": {},
   "outputs": [
    {
     "data": {
      "image/png": "[encoded data removed]",
      "text/plain": [
       "plot without title"
      ]
     },
     "metadata": {
      "image/png": {
       "height": 420,
       "width": 420
      }
     },
     "output_type": "display_data"
    }
   ],
   "source": [
    "#group.colors <- c(LS_sal=\"#23bbef\",LS_mor=\"#fc8b84\", LS_nal=\"#21d936\")\n",
    "p <- ggplot(data=Cells_in_clusters, aes (x=Cluster, y=Number)) +\n",
    "geom_bar(stat=\"identity\", position=\"identity\") +\n",
    "#scale_y_continuous(breaks = seq(0, 35000, by = 7000), limits=c(0,35000), expand = c(0, 0))+\n",
    "theme_classic() +\n",
    "    theme(plot.title=element_blank(),\n",
    "          axis.line=element_line(size=0.25),\n",
    "         axis.ticks=element_line(size=0.25),\n",
    "         axis.text=element_text(size=6),\n",
    "         axis.text.x=element_text(angle=45, hjust=1),\n",
    "         axis.title=element_text(size=8),\n",
    "         axis.title.x=element_blank(),\n",
    "         axis.text.y=element_text(angle=90, hjust=.5))+ggtitle(\"Number of cells in each group\") +\n",
    "#expand_limits(x = 0, y = 0) +\n",
    "ylab('Number of cells in each type')\n",
    "#scale_fill_manual(values=group.colors)\n",
    "p\n",
    "\n",
    "#ggsave(file=\"\",width=1.25,height=1.5)\n",
    "#ggsave(file=\"\",width=1.25,height=1.5)"
   ]
  },
  {
   "cell_type": "markdown",
   "metadata": {},
   "source": [
    "Calculating the proportion of cells within each group"
   ]
  },
  {
   "cell_type": "code",
   "execution_count": 15,
   "metadata": {},
   "outputs": [],
   "source": [
    "subset <- as.data.frame(table(Idents(VTA.integrated)))\n",
    "cluster_numbers<- subset[2]"
   ]
  },
  {
   "cell_type": "code",
   "execution_count": 16,
   "metadata": {},
   "outputs": [],
   "source": [
    "subset <- rep(array(unlist(cluster_numbers)),4)"
   ]
  },
  {
   "cell_type": "code",
   "execution_count": 17,
   "metadata": {},
   "outputs": [],
   "source": [
    "cluster_by_group <- as.data.frame(table(Idents(VTA.integrated), VTA.integrated$stim))\n",
    "colnames(cluster_by_group) <- c(\"Cluster\",\"Group\",\"Cells\")\n",
    "cluster_by_group$Total <- subset"
   ]
  },
  {
   "cell_type": "code",
   "execution_count": 18,
   "metadata": {},
   "outputs": [],
   "source": [
    "cluster_by_group <- transform(cluster_by_group, prop = Cells/Total)"
   ]
  },
  {
   "cell_type": "code",
   "execution_count": 19,
   "metadata": {},
   "outputs": [],
   "source": [
    "cluster_by_group$Group <- factor(cluster_by_group$Group, levels = c(\"VTA_YFP\",\"VTA_LH\",\"VTA_PFC\",\"VTA_NAc\"), ordered=TRUE)\n",
    "cluster_by_group$Cluster <- factor(cluster_by_group$Cluster, levels = c(\"Astrocyte\",\"Oligo\",\"Neuron\",\"OPC\",\"Microglia\",\"Misc\"))"
   ]
  },
  {
   "cell_type": "code",
   "execution_count": 20,
   "metadata": {},
   "outputs": [
    {
     "data": {
      "image/png": "[encoded data removed]",
      "text/plain": [
       "plot without title"
      ]
     },
     "metadata": {
      "image/png": {
       "height": 420,
       "width": 420
      }
     },
     "output_type": "display_data"
    }
   ],
   "source": [
    "group.colors <- c(VTA_YFP=\"gray\",VTA_LH=\"#fc8b84\", VTA_PFC=\"#23bbef\", VTA_NAc=\"#21d936\")\n",
    "p <- ggplot(data=cluster_by_group, aes (x=Cluster, y=prop, fill=Group)) +\n",
    "    geom_bar(stat=\"identity\", position=\"stack\") +\n",
    "    scale_y_continuous(breaks = seq(0, 1, by = .1), limits=c(0,1), expand = c(0, 0))+\n",
    "    theme_classic() +\n",
    "    theme(axis.line = element_line(color=\"black\",size=0.25), \n",
    "          axis.text.y=element_text(size=6),\n",
    "          axis.title.x = element_blank(), \n",
    "          axis.title.y = element_text(size=6),\n",
    "          axis.text.x=element_text(angle = 45, vjust=.5, hjust = .5, size=6, ) ,\n",
    "          plot.title=element_blank()) +\n",
    "    theme(legend.position='bottom',\n",
    "          legend.title = element_text(size = 6),\n",
    "          legend.text = element_text(size = 6), \n",
    "          axis.ticks = element_line(colour = \"black\", size = .25), \n",
    "          axis.line = element_line(colour = 'black', size = .25),\n",
    "         legend.key.size = unit(0.1, \"in\"))+\n",
    "    ggtitle(\"Proportion of cells\") +\n",
    "    expand_limits(x = 0, y = 0) +\n",
    "    scale_fill_manual(values=group.colors)+\n",
    "    ylab(\"proportion of cells\") + NoLegend()\n",
    "\n",
    "#ggsave(file=\"\",width=1.5,height=1.5)\n",
    "#ggsave(file=\"\",height=1.5,width=1.5)\n",
    "\n",
    "p"
   ]
  },
  {
   "cell_type": "markdown",
   "metadata": {},
   "source": [
    "### UMI and feature enrichment"
   ]
  },
  {
   "cell_type": "code",
   "execution_count": 21,
   "metadata": {},
   "outputs": [],
   "source": [
    "Neuron_barcode<-c(Neuron1_barcode,Neuron2_barcode,Neuron3_barcode,Neuron4_barcode,Neuron5_barcode,Neuron6_barcode,Neuron7_barcode)\n",
    "Astrocyte_barcode<-c(Astrocyte_barcode)\n",
    "Oligo_barcode<-c(Oligo1_barcode,Oligo2_barcode)\n",
    "Microglia_barcode<-c(Micro1_barcode, Micro2_barcode, Micro3_barcode, Micro4_barcode, Micro5_barcode)\n",
    "OPC_barcode<-c(OPC_barcode)\n",
    "Misc_barcode<-c(Misc1_barcode, Misc2_barcode, Misc3_barcode, Misc4_barcode, Misc5_barcode)"
   ]
  },
  {
   "cell_type": "code",
   "execution_count": 22,
   "metadata": {},
   "outputs": [],
   "source": [
    "type<-numeric()\n",
    "for (i in 1:dim(VTA.integrated@meta.data)[1]){\n",
    "    if(rownames(VTA.integrated@meta.data)[i] %in% Neuron_barcode){type[i]<-\"Neuron\"}\n",
    "    else if(rownames(VTA.integrated@meta.data)[i] %in% Astrocyte_barcode){type[i]<-\"Astrocyte\"}\n",
    "        else if(rownames(VTA.integrated@meta.data)[i] %in% Oligo_barcode){type[i]<-\"Oligo\"}\n",
    "             else if(rownames(VTA.integrated@meta.data)[i] %in% Microglia_barcode){type[i]<-\"Microglia\"}\n",
    "                 else if(rownames(VTA.integrated@meta.data)[i] %in% OPC_barcode){type[i]<-\"OPC\"}\n",
    "                    else if(rownames(VTA.integrated@meta.data)[i] %in% Misc_barcode){type[i]<-\"Misc\"}\n",
    "                        else{type[i]<-\"NA\"}\n",
    "}\n",
    "VTA.integrated@meta.data$type<-type                    "
   ]
  },
  {
   "cell_type": "code",
   "execution_count": null,
   "metadata": {},
   "outputs": [],
   "source": []
  },
  {
   "cell_type": "code",
   "execution_count": 23,
   "metadata": {},
   "outputs": [],
   "source": [
    "VTA.integrated@meta.data$type<-factor(VTA.integrated@meta.data$type,levels=c(\"Neuron\",\"Astrocyte\",\"Oligo\",\"OPC\",\"Microglia\",\"Misc\"))"
   ]
  },
  {
   "cell_type": "code",
   "execution_count": 24,
   "metadata": {},
   "outputs": [],
   "source": [
    "colors<-c(\"Astrocyte\"=\"#8a8a8a\",\"Oligo\"=\"#8a8a8a\",\"Neuron\"=\"#fc9403\",\"OPC\"=\"#8a8a8a\",\"Microglia\"=\"#8a8a8a\",\"Misc\"=\"#8a8a8a\")"
   ]
  },
  {
   "cell_type": "code",
   "execution_count": 25,
   "metadata": {},
   "outputs": [],
   "source": [
    "subset_meta<-subset(VTA.integrated@meta.data,type==\"Neuron\"|type==\"Astrocyte\"|type==\"Oligo\"|type==\"OPC\"|type==\"Microglia\"|type==\"Misc\")"
   ]
  },
  {
   "cell_type": "code",
   "execution_count": 26,
   "metadata": {},
   "outputs": [
    {
     "name": "stderr",
     "output_type": "stream",
     "text": [
      "Warning message:\n",
      "\"`fun.y` is deprecated. Use `fun` instead.\"\n"
     ]
    },
    {
     "data": {
      "image/png": "[encoded data removed]",
      "text/plain": [
       "plot without title"
      ]
     },
     "metadata": {
      "image/png": {
       "height": 420,
       "width": 420
      }
     },
     "output_type": "display_data"
    }
   ],
   "source": [
    "pu <- ggplot(subset_meta,aes_string(x=\"type\",y=\"nCount_RNA\",fill=\"type\"))+\n",
    "geom_violin(scale = \"width\", color=\"#8a8a8a\")+scale_fill_manual(values=colors)+\n",
    "stat_summary(fun.y=median, geom=\"point\", size=0.5, color=\"white\")+ylab(\"UMIs\")+ \n",
    "theme_classic()+\n",
    "theme(axis.title.x=element_blank(),\n",
    ",axis.text.y=element_text(size=6, angle=90),axis.title.y=element_text(size=6,angle=90,face=\"bold\",margin = margin(t = 10, r = 8, b = 0, l = 10),vjust=0.5),axis.text.x=element_text(size=6,face=\"bold\", angle=45, hjust=1)\n",
    ",axis.title=element_text(size=6,face=\"bold\"),panel.grid.major = element_blank(), panel.grid.minor = element_blank(),\n",
    "panel.background = element_blank(), axis.line = element_line(colour = \"black\", size=0.25),legend.position=\"none\",plot.margin = unit(c(0, 0,0, 0), \"cm\")) \n",
    "#ggsave(file=\"\",height=1.5, width=1.5 )\n",
    "#ggsave(file=\"\", height=1.5, width=1.5)\n",
    "pu"
   ]
  },
  {
   "cell_type": "code",
   "execution_count": 27,
   "metadata": {},
   "outputs": [
    {
     "name": "stderr",
     "output_type": "stream",
     "text": [
      "Warning message:\n",
      "\"`fun.y` is deprecated. Use `fun` instead.\"\n"
     ]
    },
    {
     "data": {
      "image/png": "[encoded data removed]",
      "text/plain": [
       "plot without title"
      ]
     },
     "metadata": {
      "image/png": {
       "height": 420,
       "width": 420
      }
     },
     "output_type": "display_data"
    }
   ],
   "source": [
    "pg <- ggplot(subset_meta,aes_string(x=\"type\",y=\"nFeature_RNA\",fill=\"type\"))+\n",
    "geom_violin(scale = \"width\", color=\"#8a8a8a\")+scale_fill_manual(values=colors)+\n",
    "stat_summary(fun.y=median, geom=\"point\", size=0.5, color=\"white\")+ylab(\"Genes\")+ \n",
    "theme_classic()+\n",
    "theme(axis.title.x=element_blank(),\n",
    ",axis.text.y=element_text(size=6, angle=90),axis.title.y=element_text(size=6,angle=90,face=\"bold\",margin = margin(t = 10, r = 8, b = 0, l = 10),vjust=0.5),axis.text.x=element_text(size=6,face=\"bold\", angle=45, hjust=1)\n",
    ",axis.title=element_text(size=6,face=\"bold\"),panel.grid.major = element_blank(), panel.grid.minor = element_blank(),\n",
    "panel.background = element_blank(), axis.line = element_line(colour = \"black\", size=0.25),legend.position=\"none\",plot.margin = unit(c(0, 0,0, 0), \"cm\"))\n",
    "#ggsave(file=\"\",height=1.5, width=1.5)\n",
    "#ggsave(file=\"\", height=1.5, width=1.5)\n",
    "pg"
   ]
  },
  {
   "cell_type": "markdown",
   "metadata": {},
   "source": [
    "### UMI and gene ratio"
   ]
  },
  {
   "cell_type": "code",
   "execution_count": 28,
   "metadata": {},
   "outputs": [],
   "source": [
    "wanted_col <- c(\"type\",\"nCount_RNA\",\"nFeature_RNA\")"
   ]
  },
  {
   "cell_type": "code",
   "execution_count": 29,
   "metadata": {},
   "outputs": [],
   "source": [
    "subset <- as.data.frame(VTA.integrated@meta.data[,wanted_col])"
   ]
  },
  {
   "cell_type": "code",
   "execution_count": 30,
   "metadata": {},
   "outputs": [],
   "source": [
    "subset$type <- factor(subset$type, levels=c(\"Neuron\",\"Astrocyte\",\"Oligo\",\"OPC\",\"Microglia\",\"Misc\"))"
   ]
  },
  {
   "cell_type": "code",
   "execution_count": 31,
   "metadata": {
    "collapsed": true
   },
   "outputs": [
    {
     "name": "stderr",
     "output_type": "stream",
     "text": [
      "Warning message:\n",
      "\"`fun.y` is deprecated. Use `fun` instead.\"\n",
      "Warning message:\n",
      "\"position_dodge requires non-overlapping x intervals\"\n",
      "Warning message:\n",
      "\"`fun.y` is deprecated. Use `fun` instead.\"\n",
      "Warning message:\n",
      "\"position_dodge requires non-overlapping x intervals\"\n"
     ]
    },
    {
     "data": {
      "image/png": "[encoded data removed]",
      "text/plain": [
       "plot without title"
      ]
     },
     "metadata": {
      "image/png": {
       "height": 420,
       "width": 420
      }
     },
     "output_type": "display_data"
    },
    {
     "data": {
      "image/png": "[encoded data removed]",
      "text/plain": [
       "plot without title"
      ]
     },
     "metadata": {
      "image/png": {
       "height": 420,
       "width": 420
      }
     },
     "output_type": "display_data"
    }
   ],
   "source": [
    "pu <- ggplot(subset, aes(x=type, y=nCount_RNA)) + \n",
    "geom_violin(width=1.3, size=0.25) +\n",
    "stat_summary(fun.y=median, geom=\"point\", size=0.5, color=\"white\")+\n",
    "theme_classic()+\n",
    "theme(axis.line = element_line(color=\"black\",size=0.1), axis.text.y=element_text(size=8) ,axis.text.x=element_text(angle = 90, vjust=0.5, hjust = 1, size=8) ,plot.title=element_text(size=10, face=\"bold\")) +\n",
    "theme(legend.title = element_text(size = 11),legend.text = element_text(size = 8), axis.ticks = element_line(colour = \"black\", size = .25), axis.line = element_line(colour = 'black', size = .25))\n",
    "pu\n",
    "\n",
    "pg <- ggplot(subset, aes(x=type, y=nFeature_RNA)) + \n",
    "geom_violin(width=1.3, size=0.25) +\n",
    "stat_summary(fun.y=median, geom=\"point\", size=0.5, color=\"white\")+\n",
    "theme_classic()+\n",
    "theme(axis.line = element_line(color=\"black\",size=0.1), axis.text.y=element_text(size=8) ,axis.text.x=element_text(angle = 90, vjust=0.5, hjust = 1, size=8) ,plot.title=element_text(size=10, face=\"bold\")) +\n",
    "theme(legend.title = element_text(size = 11),legend.text = element_text(size = 8), axis.ticks = element_line(colour = \"black\", size = .25), axis.line = element_line(colour = 'black', size = .25))\n",
    "pg"
   ]
  },
  {
   "cell_type": "code",
   "execution_count": 32,
   "metadata": {},
   "outputs": [
    {
     "name": "stderr",
     "output_type": "stream",
     "text": [
      "Warning message:\n",
      "\"position_dodge requires non-overlapping x intervals\"\n",
      "Warning message:\n",
      "\"position_dodge requires non-overlapping x intervals\"\n"
     ]
    }
   ],
   "source": [
    "UMI_median <- as.data.frame(ggplot_build(pu)$data[[2]]$y)\n",
    "colnames(UMI_median)[1] <- \"UMI\"\n",
    "gene_median <- as.data.frame(ggplot_build(pg)$data[[2]]$y)\n",
    "colnames(gene_median)[1] <- \"Gene\""
   ]
  },
  {
   "cell_type": "code",
   "execution_count": 33,
   "metadata": {},
   "outputs": [],
   "source": [
    "Cell_type <- as.data.frame(c(\"Neuron\",\"Astrocyte\",\"Oligo\",\"OPC\",\"Microglia\",\"Misc\",\"NA\"))\n",
    "colnames(Cell_type)[1] <- \"Cluster\""
   ]
  },
  {
   "cell_type": "code",
   "execution_count": 34,
   "metadata": {},
   "outputs": [],
   "source": [
    "stat_table <- cbind(Cell_type,UMI_median,gene_median)\n",
    "stat_table$ratio <- stat_table$UMI / stat_table$Gene"
   ]
  },
  {
   "cell_type": "code",
   "execution_count": 35,
   "metadata": {},
   "outputs": [],
   "source": [
    "stat_table$Cluster <- factor(stat_table$Cluster, levels=c(\"Neuron\",\"Astrocyte\",\"Oligo\",\"OPC\",\"Microglia\",\"Misc\"))"
   ]
  },
  {
   "cell_type": "code",
   "execution_count": 36,
   "metadata": {},
   "outputs": [
    {
     "data": {
      "text/html": [
       "<table class=\"dataframe\">\n",
       "<caption>A data.frame: 7 × 4</caption>\n",
       "<thead>\n",
       "\t<tr><th scope=col>Cluster</th><th scope=col>UMI</th><th scope=col>Gene</th><th scope=col>ratio</th></tr>\n",
       "\t<tr><th scope=col>&lt;fct&gt;</th><th scope=col>&lt;dbl&gt;</th><th scope=col>&lt;dbl&gt;</th><th scope=col>&lt;dbl&gt;</th></tr>\n",
       "</thead>\n",
       "<tbody>\n",
       "\t<tr><td>Neuron   </td><td> 7746.5</td><td>3342.0</td><td>2.317923</td></tr>\n",
       "\t<tr><td>Astrocyte</td><td> 3523.0</td><td>1925.0</td><td>1.830130</td></tr>\n",
       "\t<tr><td>Oligo    </td><td> 2838.0</td><td>1614.0</td><td>1.758364</td></tr>\n",
       "\t<tr><td>OPC      </td><td> 5322.0</td><td>2518.5</td><td>2.113163</td></tr>\n",
       "\t<tr><td>Microglia</td><td> 2954.0</td><td>1875.0</td><td>1.575467</td></tr>\n",
       "\t<tr><td>Misc     </td><td> 6054.0</td><td>2791.0</td><td>2.169115</td></tr>\n",
       "\t<tr><td>NA       </td><td>12678.0</td><td>4388.0</td><td>2.889243</td></tr>\n",
       "</tbody>\n",
       "</table>\n"
      ],
      "text/latex": [
       "A data.frame: 7 × 4\n",
       "\\begin{tabular}{llll}\n",
       " Cluster & UMI & Gene & ratio\\\\\n",
       " <fct> & <dbl> & <dbl> & <dbl>\\\\\n",
       "\\hline\n",
       "\t Neuron    &  7746.5 & 3342.0 & 2.317923\\\\\n",
       "\t Astrocyte &  3523.0 & 1925.0 & 1.830130\\\\\n",
       "\t Oligo     &  2838.0 & 1614.0 & 1.758364\\\\\n",
       "\t OPC       &  5322.0 & 2518.5 & 2.113163\\\\\n",
       "\t Microglia &  2954.0 & 1875.0 & 1.575467\\\\\n",
       "\t Misc      &  6054.0 & 2791.0 & 2.169115\\\\\n",
       "\t NA        & 12678.0 & 4388.0 & 2.889243\\\\\n",
       "\\end{tabular}\n"
      ],
      "text/markdown": [
       "\n",
       "A data.frame: 7 × 4\n",
       "\n",
       "| Cluster &lt;fct&gt; | UMI &lt;dbl&gt; | Gene &lt;dbl&gt; | ratio &lt;dbl&gt; |\n",
       "|---|---|---|---|\n",
       "| Neuron    |  7746.5 | 3342.0 | 2.317923 |\n",
       "| Astrocyte |  3523.0 | 1925.0 | 1.830130 |\n",
       "| Oligo     |  2838.0 | 1614.0 | 1.758364 |\n",
       "| OPC       |  5322.0 | 2518.5 | 2.113163 |\n",
       "| Microglia |  2954.0 | 1875.0 | 1.575467 |\n",
       "| Misc      |  6054.0 | 2791.0 | 2.169115 |\n",
       "| NA        | 12678.0 | 4388.0 | 2.889243 |\n",
       "\n"
      ],
      "text/plain": [
       "  Cluster   UMI     Gene   ratio   \n",
       "1 Neuron     7746.5 3342.0 2.317923\n",
       "2 Astrocyte  3523.0 1925.0 1.830130\n",
       "3 Oligo      2838.0 1614.0 1.758364\n",
       "4 OPC        5322.0 2518.5 2.113163\n",
       "5 Microglia  2954.0 1875.0 1.575467\n",
       "6 Misc       6054.0 2791.0 2.169115\n",
       "7 NA        12678.0 4388.0 2.889243"
      ]
     },
     "metadata": {},
     "output_type": "display_data"
    }
   ],
   "source": [
    "stat_table"
   ]
  },
  {
   "cell_type": "code",
   "execution_count": 37,
   "metadata": {},
   "outputs": [
    {
     "name": "stderr",
     "output_type": "stream",
     "text": [
      "Warning message:\n",
      "\"Removed 1 rows containing missing values (geom_bar).\"\n"
     ]
    },
    {
     "data": {
      "text/plain": [
       "$y\n",
       "[1] \"UMI:Gene ratio\"\n",
       "\n",
       "attr(,\"class\")\n",
       "[1] \"labels\""
      ]
     },
     "metadata": {},
     "output_type": "display_data"
    },
    {
     "data": {
      "image/png": "[encoded data removed]",
      "text/plain": [
       "plot without title"
      ]
     },
     "metadata": {
      "image/png": {
       "height": 420,
       "width": 420
      }
     },
     "output_type": "display_data"
    }
   ],
   "source": [
    "ggplot(data=stat_table, aes (x=Cluster, y=ratio)) +\n",
    "    geom_bar(stat=\"identity\", position=\"identity\") +\n",
    "    scale_y_continuous(breaks = seq(0, 2.5, by = 0.5), limits=c(0,2.5), expand = c(0, 0))+\n",
    "    geom_hline(yintercept=2, linetype=\"dashed\", size=0.25)+\n",
    "    theme_classic() +\n",
    "    theme(axis.line = element_line(color=\"black\",size=0.25),  \n",
    "          axis.text.y=element_text(size=8),\n",
    "          axis.text.x=element_text(angle = 45, hjust=1, size=8), \n",
    "          plot.title=element_text(size=10)) +\n",
    "    theme(legend.title = element_text(size = 11),\n",
    "          legend.text = element_text(size = 8), \n",
    "          axis.ticks = element_line(colour = \"black\", size = .25), \n",
    "          axis.title.x=element_blank())+\n",
    "    theme(axis.text=element_text(size=6),\n",
    "         axis.title=element_text(size=8))\n",
    "    ylab(\"UMI:Gene ratio\")\n",
    "\n",
    "#ggsave(file=\"\",width=1.5,height=2)\n",
    "#ggsave(file=\"\",width=1.5,height=2)"
   ]
  },
  {
   "cell_type": "markdown",
   "metadata": {},
   "source": [
    "### Violinplot for canonical markers"
   ]
  },
  {
   "cell_type": "code",
   "execution_count": 38,
   "metadata": {
    "scrolled": true
   },
   "outputs": [],
   "source": [
    "VTA.integrated<-readRDS(file = \"/Users/stuberadmin/Documents/scRNAseq/Marta_VTA/All_cells_iter1/VTA_integrated.rds\")"
   ]
  },
  {
   "cell_type": "code",
   "execution_count": 39,
   "metadata": {},
   "outputs": [
    {
     "data": {
      "text/plain": [
       "\n",
       "   0    1    2    3    4    5    6    7    8    9   10   11   12   13   14   15 \n",
       "6737 6289 4040 4005 2732 2695 2607 2314 2157 1984 1198 1008  880  783  724  334 \n",
       "  16   17   18   19   20   21 \n",
       " 307  169  151  120  119  115 "
      ]
     },
     "metadata": {},
     "output_type": "display_data"
    }
   ],
   "source": [
    "table(Idents(VTA.integrated))"
   ]
  },
  {
   "cell_type": "code",
   "execution_count": 40,
   "metadata": {
    "scrolled": true
   },
   "outputs": [],
   "source": [
    "new.ident <- c(\"Microglia\",\"Oligo\",\"Neuron1\",\"Neuron2\",\"OPC\",\"Astrocyte\",\"Neuron3\",\"Neuron4\",\"Neuron5\",\"Oligo\",\"Microglia\",\"Microglia\",\"Neuron6\",\"Neuron7\",\"Microglia\",\"Misc\",\"Microglia\",\"Neuron8\",\"Misc\",\"Misc\",\"Misc\",\"Misc\")\n",
    "names(x = new.ident) <- levels(x =VTA.integrated)\n",
    "VTA.integrated<- RenameIdents(object =VTA.integrated, new.ident)"
   ]
  },
  {
   "cell_type": "code",
   "execution_count": 41,
   "metadata": {},
   "outputs": [],
   "source": [
    "levels(VTA.integrated) <- ((c(\"Neuron1\",\"Neuron2\",\"Neuron3\",\"Neuron4\",\"Neuron5\",\"Neuron6\",\"Neuron7\",\"Neuron8\",\"Astrocyte\",\"Oligo\",\"OPC\",\"Microglia\",\"Misc\")))"
   ]
  },
  {
   "cell_type": "code",
   "execution_count": 42,
   "metadata": {},
   "outputs": [],
   "source": [
    "DefaultAssay(VTA.integrated) <- 'RNA'"
   ]
  },
  {
   "cell_type": "code",
   "execution_count": 43,
   "metadata": {},
   "outputs": [
    {
     "name": "stderr",
     "output_type": "stream",
     "text": [
      "Warning message:\n",
      "\"Removed 1 rows containing non-finite values (stat_ydensity).\"\n"
     ]
    },
    {
     "data": {
      "image/png": "[encoded data removed]",
      "text/plain": [
       "plot without title"
      ]
     },
     "metadata": {
      "image/png": {
       "height": 420,
       "width": 420
      }
     },
     "output_type": "display_data"
    }
   ],
   "source": [
    "VlnPlot(VTA.integrated, features=c(\"Stmn2\",\"Slc4a4\",\"Pdgfra\",\"Mog\",\"Gpr17\",'C1qc'), ncol=1, pt.size=0, same.y.lims=TRUE)\n",
    "#ggsave('',width=10,height=20)"
   ]
  },
  {
   "cell_type": "code",
   "execution_count": null,
   "metadata": {},
   "outputs": [],
   "source": []
  }
 ],
 "metadata": {
  "kernelspec": {
   "display_name": "R",
   "language": "R",
   "name": "ir"
  },
  "language_info": {
   "codemirror_mode": "r",
   "file_extension": ".r",
   "mimetype": "text/x-r-source",
   "name": "R",
   "pygments_lexer": "r",
   "version": "4.1.2"
  }
 },
 "nbformat": 4,
 "nbformat_minor": 2
}
