{
 "cells": [
  {
   "cell_type": "markdown",
   "id": "f602d031",
   "metadata": {},
   "source": [
    "#### Load libraries"
   ]
  },
  {
   "cell_type": "code",
   "execution_count": null,
   "id": "0b5fda7b",
   "metadata": {},
   "outputs": [],
   "source": [
    "library(SCENIC)\n",
    "library(Seurat)\n",
    "library(GENIE3)\n",
    "library(doParallel)\n",
    "library(doRNG)"
   ]
  },
  {
   "cell_type": "markdown",
   "id": "2e21e21d",
   "metadata": {},
   "source": [
    "#### Extracting gene expression matrices"
   ]
  },
  {
   "cell_type": "markdown",
   "id": "27161173",
   "metadata": {},
   "source": [
    "Load seurat objects"
   ]
  },
  {
   "cell_type": "code",
   "execution_count": null,
   "id": "d5d77765",
   "metadata": {},
   "outputs": [],
   "source": [
    "VTA.integrated<-readRDS(file=\"./VTA_integrated.rds\")\n",
    "VTA_YFP <- readRDS(file = \"./VTA_YFP.rds\")\n",
    "VTA_LH <- readRDS(file = \"./VTA_LH.rds\")\n",
    "VTA_PFC <- readRDS(file = \"./VTA_PFC.rds\")\n",
    "VTA_NAc <- readRDS(file = \"./VTA_NAc.rds\")"
   ]
  },
  {
   "cell_type": "markdown",
   "id": "0d9fb7aa",
   "metadata": {},
   "source": [
    "Assigning identities and grabbing cell class barcodes"
   ]
  },
  {
   "cell_type": "code",
   "execution_count": null,
   "id": "5d425288",
   "metadata": {},
   "outputs": [],
   "source": [
    "new.ident <- c(\"Glu\",\"CoEx\",\"Gaba\",\"DA\",\"DA\",\"Gaba\",\"Glu\",\"Glu\",\"Glu\",\"DA\",\"Glu\",\"Glu\",\"Glu\",\"CoEx\",\"CoEx\",\"Gaba\",\"Gaba\")\n",
    "names(x = new.ident) <- levels(x =VTA.integrated)\n",
    "VTA.integrated<- RenameIdents(object =VTA.integrated, new.ident)\n",
    "for (i in 1:length(new.ident)){\n",
    "  assign(paste(new.ident[i],\"_barcode\",sep=\"\"),colnames(VTA.integrated@assays$RNA@data[,which(Idents(object=VTA.integrated) %in% new.ident[i])]))# this gives all barcodes in cluster\n",
    "  assign(paste(new.ident[i],\"_barcode_VTA_YFP\",sep=\"\"),intersect(colnames(VTA_YFP@assays$RNA@data),eval(parse(text = paste(new.ident[i],\"_barcode\",sep=\"\")))))\n",
    "  assign(paste(new.ident[i],\"_barcode_VTA_LH\",sep=\"\"),intersect(colnames(VTA_LH@assays$RNA@data),eval(parse(text = paste(new.ident[i],\"_barcode\",sep=\"\")))))\n",
    "  assign(paste(new.ident[i],\"_barcode_VTA_NAc\",sep=\"\"),intersect(colnames(VTA_NAc@assays$RNA@data),eval(parse(text = paste(new.ident[i],\"_barcode\",sep=\"\")))))\n",
    "  assign(paste(new.ident[i],\"_barcode_VTA_PFC\",sep=\"\"),intersect(colnames(VTA_PFC@assays$RNA@data),eval(parse(text = paste(new.ident[i],\"_barcode\",sep=\"\")))))\n",
    "}\n",
    "barcode_names <- unique(paste(Idents(VTA.integrated),\"_barcode\",sep=\"\"))\n",
    "celltype<-vector()\n",
    "for (i in 1:dim(VTA.integrated@meta.data)[1]){\n",
    "  celltype[i]<-toString(new.ident[VTA.integrated@meta.data$integrated_snn_res.0.5[i]])\n",
    "}\n",
    "VTA.integrated@meta.data$celltype<-celltype"
   ]
  },
  {
   "cell_type": "markdown",
   "id": "37087b97",
   "metadata": {},
   "source": [
    "Sample code to fetch count data for a particular group"
   ]
  },
  {
   "cell_type": "code",
   "execution_count": null,
   "id": "4636fbca",
   "metadata": {},
   "outputs": [],
   "source": [
    "DefaultAssay(VTA.integrated) <- 'RNA'\n",
    "VTA_DA_YFP <- subset(VTA.integrated, cells=DA_barcode_VTA_YFP)\n",
    "exprMat <- as.matrix(GetAssayData(VTA_DA_YFP, layer = 'counts'))\n",
    "saveRDS(exprMat, 'VTA_DA_YFP_mat.rds')"
   ]
  },
  {
   "cell_type": "code",
   "execution_count": null,
   "id": "d9ce5f1b",
   "metadata": {},
   "outputs": [],
   "source": [
    "DefaultAssay(VTA.integrated) <- 'RNA'\n",
    "VTA_DA_LH <- subset(VTA.integrated, cells=DA_barcode_VTA_LH)\n",
    "exprMat <- as.matrix(GetAssayData(VTA_DA_LH, layer = 'counts'))\n",
    "saveRDS(exprMat, 'VTA_DA_LH_mat.rds')"
   ]
  },
  {
   "cell_type": "code",
   "execution_count": null,
   "id": "51b155d8",
   "metadata": {},
   "outputs": [],
   "source": [
    "DefaultAssay(VTA.integrated) <- 'RNA'\n",
    "VTA_DA_PFC <- subset(VTA.integrated, cells=DA_barcode_VTA_PFC)\n",
    "exprMat <- as.matrix(GetAssayData(VTA_DA_PFC, layer = 'counts'))\n",
    "saveRDS(exprMat, 'VTA_DA_PFC_mat.rds')"
   ]
  },
  {
   "cell_type": "code",
   "execution_count": null,
   "id": "bd7cec62",
   "metadata": {},
   "outputs": [],
   "source": [
    "DefaultAssay(VTA.integrated) <- 'RNA'\n",
    "VTA_DA_NAc <- subset(VTA.integrated, cells=DA_barcode_VTA_NAc)\n",
    "exprMat <- as.matrix(GetAssayData(VTA_DA_NAc, layer = 'counts'))\n",
    "saveRDS(exprMat, 'VTA_DA_NAc_mat.rds')"
   ]
  },
  {
   "cell_type": "markdown",
   "id": "c4d022fc",
   "metadata": {},
   "source": [
    "Read in matrix objects and combine into one dataframe"
   ]
  },
  {
   "cell_type": "code",
   "execution_count": null,
   "id": "9277f0bd",
   "metadata": {},
   "outputs": [],
   "source": [
    "YFP <- readRDS('VTA_DA_YFP_mat.rds')\n",
    "LH <- readRDS('VTA_DA_LH_mat.rds')\n",
    "PFC <- readRDS('VTA_DA_PFC_mat.rds')\n",
    "NAc <- readRDS('VTA_DA_NAc_mat.rds')\n",
    "exprMat <- cbind(YFP, LH, PFC, NAc)"
   ]
  },
  {
   "cell_type": "code",
   "execution_count": null,
   "id": "82fbd296",
   "metadata": {},
   "outputs": [],
   "source": []
  },
  {
   "cell_type": "code",
   "execution_count": null,
   "id": "b828be9e",
   "metadata": {},
   "outputs": [],
   "source": []
  },
  {
   "cell_type": "markdown",
   "id": "092e57fe",
   "metadata": {},
   "source": [
    "#### Running SCENIC"
   ]
  },
  {
   "cell_type": "markdown",
   "id": "7bf29346",
   "metadata": {},
   "source": [
    "Set working directory"
   ]
  },
  {
   "cell_type": "code",
   "execution_count": null,
   "id": "f2cb3382",
   "metadata": {},
   "outputs": [],
   "source": [
    "setwd(\"./DA_all_scenic/\")"
   ]
  },
  {
   "cell_type": "markdown",
   "id": "1ffd8a7a",
   "metadata": {},
   "source": [
    "http://htmlpreview.github.io/?https://github.com/aertslab/SCENIC/blob/master/inst/doc/SCENIC_Running.html"
   ]
  },
  {
   "cell_type": "markdown",
   "id": "44056662",
   "metadata": {},
   "source": [
    "Initializing SCENIC"
   ]
  },
  {
   "cell_type": "code",
   "execution_count": null,
   "id": "602bf48f",
   "metadata": {},
   "outputs": [],
   "source": [
    "org <- \"mgi\" \n",
    "dbDir <- \"./cisTarget_databases\" \n",
    "myDatasetTitle <- \"VTA SCENIC\"\n",
    "data(defaultDbNames)\n",
    "dbs <- defaultDbNames[[org]]\n",
    "scenicOptions <- initializeScenic(org=org, dbDir=dbDir, dbs=dbs, datasetTitle=myDatasetTitle, nCores=1) \n",
    "saveRDS(scenicOptions, file=\"int/scenicOptions.Rds\") "
   ]
  },
  {
   "cell_type": "markdown",
   "id": "d98e97e0",
   "metadata": {},
   "source": [
    "Generate co-expression network"
   ]
  },
  {
   "cell_type": "code",
   "execution_count": null,
   "id": "0f0692e2",
   "metadata": {},
   "outputs": [],
   "source": [
    "genesKept <- geneFiltering(exprMat, scenicOptions=scenicOptions,\n",
    "                           minCountsPerGene=3*.01*ncol(exprMat),\n",
    "                           minSamples=ncol(exprMat)*.01)\n",
    "\n",
    "exprMat_filtered <- exprMat[genesKept, ]\n",
    "runCorrelation(exprMat_filtered, scenicOptions)\n",
    "exprMat_filtered_log <- log2(exprMat_filtered+1) \n",
    "runGenie3(exprMat_filtered_log, scenicOptions)"
   ]
  },
  {
   "cell_type": "markdown",
   "id": "4e74ea92",
   "metadata": {},
   "source": [
    "Build and score GRN"
   ]
  },
  {
   "cell_type": "code",
   "execution_count": null,
   "id": "61f59232",
   "metadata": {},
   "outputs": [],
   "source": [
    "exprMat_log <- log2(exprMat+1)\n",
    "scenicOptions <- runSCENIC_1_coexNetwork2modules(scenicOptions)\n",
    "scenicOptions <- runSCENIC_2_createRegulons(scenicOptions) \n",
    "scenicOptions <- runSCENIC_3_scoreCells(scenicOptions, exprMat_log)"
   ]
  },
  {
   "cell_type": "markdown",
   "id": "5799efaa",
   "metadata": {},
   "source": [
    "Calculate AUC & RSS"
   ]
  },
  {
   "cell_type": "code",
   "execution_count": null,
   "id": "8315b21b",
   "metadata": {},
   "outputs": [],
   "source": [
    "meta.string <- regulonAUC@colData@rownames\n",
    "meta <- gsub(\".*_\",\"\",meta.string)\n",
    "regulonAUC <- loadInt(scenicOptions, \"aucell_regulonAUC\")\n",
    "rss <- calcRSS(AUC=getAUC(regulonAUC), cellAnnotation=meta)\n",
    "rssPlot <- plotRSS(rss)"
   ]
  }
 ],
 "metadata": {
  "kernelspec": {
   "display_name": "R",
   "language": "R",
   "name": "ir"
  },
  "language_info": {
   "codemirror_mode": "r",
   "file_extension": ".r",
   "mimetype": "text/x-r-source",
   "name": "R",
   "pygments_lexer": "r",
   "version": "4.1.3"
  }
 },
 "nbformat": 4,
 "nbformat_minor": 5
}
