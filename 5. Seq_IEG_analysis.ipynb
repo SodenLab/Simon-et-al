{
 "cells": [
  {
   "cell_type": "markdown",
   "metadata": {},
   "source": [
    "# IEG analysis"
   ]
  },
  {
   "cell_type": "markdown",
   "metadata": {},
   "source": [
    "To identify paterns of IEG activation and which cell clusters are selectively activated by each input stimulation"
   ]
  },
  {
   "cell_type": "markdown",
   "metadata": {},
   "source": [
    "### Library import"
   ]
  },
  {
   "cell_type": "code",
   "execution_count": 1,
   "metadata": {
    "collapsed": true
   },
   "outputs": [
    {
     "name": "stderr",
     "output_type": "stream",
     "text": [
      "Warning message:\n",
      "\"package 'Seurat' was built under R version 4.1.3\"\n",
      "Attaching SeuratObject\n",
      "\n",
      "Attaching sp\n",
      "\n",
      "Warning message:\n",
      "\"package 'dplyr' was built under R version 4.1.3\"\n",
      "\n",
      "Attaching package: 'dplyr'\n",
      "\n",
      "\n",
      "The following objects are masked from 'package:stats':\n",
      "\n",
      "    filter, lag\n",
      "\n",
      "\n",
      "The following objects are masked from 'package:base':\n",
      "\n",
      "    intersect, setdiff, setequal, union\n",
      "\n",
      "\n",
      "Warning message:\n",
      "\"package 'magrittr' was built under R version 4.1.3\"\n"
     ]
    },
    {
     "data": {
      "text/html": [
       "<style> .container { width:95% !important; } </style>"
      ]
     },
     "metadata": {},
     "output_type": "display_data"
    },
    {
     "name": "stderr",
     "output_type": "stream",
     "text": [
      "Warning message:\n",
      "\"package 'xlsx' was built under R version 4.1.3\"\n",
      "Warning message:\n",
      "\"package 'ggplot2' was built under R version 4.1.3\"\n",
      "Warning message:\n",
      "\"package 'reshape2' was built under R version 4.1.3\"\n",
      "Warning message:\n",
      "\"package 'ggrepel' was built under R version 4.1.3\"\n",
      "Warning message:\n",
      "\"package 'ggpubr' was built under R version 4.1.3\"\n",
      "Warning message:\n",
      "\"package 'tidyr' was built under R version 4.1.3\"\n",
      "\n",
      "Attaching package: 'tidyr'\n",
      "\n",
      "\n",
      "The following object is masked from 'package:reshape2':\n",
      "\n",
      "    smiths\n",
      "\n",
      "\n",
      "The following object is masked from 'package:magrittr':\n",
      "\n",
      "    extract\n",
      "\n",
      "\n",
      "Warning message:\n",
      "\"package 'cowplot' was built under R version 4.1.3\"\n",
      "\n",
      "Attaching package: 'cowplot'\n",
      "\n",
      "\n",
      "The following object is masked from 'package:ggpubr':\n",
      "\n",
      "    get_legend\n",
      "\n",
      "\n",
      "Warning message:\n",
      "\"package 'svglite' was built under R version 4.1.3\"\n",
      "Warning message:\n",
      "\"package 'scales' was built under R version 4.1.3\"\n",
      "Warning message:\n",
      "\"package 'gplots' was built under R version 4.1.3\"\n",
      "\n",
      "Attaching package: 'gplots'\n",
      "\n",
      "\n",
      "The following object is masked from 'package:stats':\n",
      "\n",
      "    lowess\n",
      "\n",
      "\n"
     ]
    }
   ],
   "source": [
    "library(Seurat)\n",
    "library(dplyr)\n",
    "library(magrittr)\n",
    "IRdisplay::display_html(\"<style> .container { width:95% !important; } </style>\")\n",
    "library(\"xlsx\")\n",
    "\n",
    "#for plotting\n",
    "library(\"ggplot2\")\n",
    "library(reshape2)\n",
    "library(ggrepel)\n",
    "library(ggpubr)\n",
    "library(tidyr)\n",
    "library(cowplot)\n",
    "library(svglite)\n",
    "library(scales)\n",
    "\n",
    "library(ggpubr)\n",
    "library(\"RColorBrewer\")\n",
    "library(gplots)"
   ]
  },
  {
   "cell_type": "markdown",
   "metadata": {},
   "source": [
    "### Loading in the data"
   ]
  },
  {
   "cell_type": "code",
   "execution_count": 2,
   "metadata": {},
   "outputs": [],
   "source": [
    "VTA.integrated<-readRDS(file=\"./VTA_integrated.rds\")\n",
    "VTA_YFP <- readRDS(file = \"./VTA_YFP.rds\")\n",
    "VTA_LH <- readRDS(file = \"./VTA_LH.rds\")\n",
    "VTA_PFC <- readRDS(file = \"./VTA_PFC.rds\")\n",
    "VTA_NAc <- readRDS(file = \"./VTA_NAc.rds\")"
   ]
  },
  {
   "cell_type": "markdown",
   "metadata": {},
   "source": [
    "### Reassigning identities"
   ]
  },
  {
   "cell_type": "code",
   "execution_count": 3,
   "metadata": {},
   "outputs": [],
   "source": [
    "#new.ident will redefine the cluster numbers to the labels below. \n",
    "new.ident <- c(\"Glu1\",\"CoEx1\",\"Gaba1\",\"DA1\",\"DA2\",\"Gaba2\",\"Glu2\",\"Glu3\",\"Glu4\",\"DA3\",\"Glu5\",\"Glu6\",\"Glu7\",\"CoEx2\",\"CoEx3\",\"Gaba3\",\"Gaba4\")\n",
    "names(x = new.ident) <- levels(x =VTA.integrated)\n",
    "VTA.integrated<- RenameIdents(object =VTA.integrated, new.ident)"
   ]
  },
  {
   "cell_type": "code",
   "execution_count": 4,
   "metadata": {},
   "outputs": [],
   "source": [
    "for (i in 1:length(new.ident)){\n",
    "assign(paste(new.ident[i],\"_barcode\",sep=\"\"),colnames(VTA.integrated@assays$RNA@data[,which(Idents(object=VTA.integrated) %in% new.ident[i])]))# this gives all barcodes in cluster\n",
    "assign(paste(new.ident[i],\"_barcode_VTA_YFP\",sep=\"\"),intersect(colnames(VTA_YFP@assays$RNA@data),eval(parse(text = paste(new.ident[i],\"_barcode\",sep=\"\")))))\n",
    "assign(paste(new.ident[i],\"_barcode_VTA_LH\",sep=\"\"),intersect(colnames(VTA_LH@assays$RNA@data),eval(parse(text = paste(new.ident[i],\"_barcode\",sep=\"\")))))\n",
    "assign(paste(new.ident[i],\"_barcode_VTA_NAc\",sep=\"\"),intersect(colnames(VTA_NAc@assays$RNA@data),eval(parse(text = paste(new.ident[i],\"_barcode\",sep=\"\")))))\n",
    "assign(paste(new.ident[i],\"_barcode_VTA_PFC\",sep=\"\"),intersect(colnames(VTA_PFC@assays$RNA@data),eval(parse(text = paste(new.ident[i],\"_barcode\",sep=\"\")))))\n",
    "}"
   ]
  },
  {
   "cell_type": "code",
   "execution_count": 5,
   "metadata": {},
   "outputs": [],
   "source": [
    "barcode_names <- unique(paste(Idents(VTA.integrated),\"_barcode\",sep=\"\"))"
   ]
  },
  {
   "cell_type": "code",
   "execution_count": 6,
   "metadata": {},
   "outputs": [],
   "source": [
    "celltype<-vector()\n",
    "for (i in 1:dim(VTA.integrated@meta.data)[1]){\n",
    "    celltype[i]<-toString(new.ident[VTA.integrated@meta.data$integrated_snn_res.0.5[i]])\n",
    "}\n",
    "VTA.integrated@meta.data$celltype<-celltype"
   ]
  },
  {
   "cell_type": "code",
   "execution_count": 7,
   "metadata": {},
   "outputs": [],
   "source": [
    "DefaultAssay(VTA.integrated) <- 'RNA'"
   ]
  },
  {
   "cell_type": "markdown",
   "metadata": {},
   "source": [
    "### IEG volcano plot"
   ]
  },
  {
   "cell_type": "code",
   "execution_count": 8,
   "metadata": {},
   "outputs": [],
   "source": [
    "IEG <- read.xlsx(\"./IEG list.xlsx\",sheetIndex=1,header=FALSE)\n",
    "IEG <-IEG$X1   \n",
    "# removing genes that are not present in the dataset\n",
    "all_genes <- unlist(VTA.integrated@assays$RNA@data@Dimnames[1])\n",
    "IEG <- IEG[IEG %in% all_genes]"
   ]
  },
  {
   "cell_type": "code",
   "execution_count": 9,
   "metadata": {},
   "outputs": [],
   "source": [
    "#Generating the first two tables, which includes the pct of cells expressing every IEG in the list, as well as the number of cells in each cluster, split by condition (YFP, LH, PFC, NAc)\n",
    "#First table contains the raw counts of cells that are positive for each IEG"
   ]
  },
  {
   "cell_type": "code",
   "execution_count": 10,
   "metadata": {
    "collapsed": true
   },
   "outputs": [
    {
     "data": {
      "text/html": [
       "<style>\n",
       ".list-inline {list-style: none; margin:0; padding: 0}\n",
       ".list-inline>li {display: inline-block}\n",
       ".list-inline>li:not(:last-child)::after {content: \"\\00b7\"; padding: 0 .5ex}\n",
       "</style>\n",
       "<ol class=list-inline><li>Glu1</li><li>CoEx1</li><li>Gaba1</li><li>DA1</li><li>DA2</li><li>Gaba2</li><li>Glu2</li><li>Glu3</li><li>Glu4</li><li>DA3</li><li>Glu5</li><li>Glu6</li><li>Glu7</li><li>CoEx2</li><li>CoEx3</li><li>Gaba3</li><li>Gaba4</li><li>Glu1</li><li>CoEx1</li><li>Gaba1</li><li>DA1</li><li>DA2</li><li>Gaba2</li><li>Glu2</li><li>Glu3</li><li>Glu4</li><li>DA3</li><li>Glu5</li><li>Glu6</li><li>Glu7</li><li>CoEx2</li><li>CoEx3</li><li>Gaba3</li><li>Gaba4</li><li>Glu1</li><li>CoEx1</li><li>Gaba1</li><li>DA1</li><li>DA2</li><li>Gaba2</li><li>Glu2</li><li>Glu3</li><li>Glu4</li><li>DA3</li><li>Glu5</li><li>Glu6</li><li>Glu7</li><li>CoEx2</li><li>CoEx3</li><li>Gaba3</li><li>Gaba4</li><li>Glu1</li><li>CoEx1</li><li>Gaba1</li><li>DA1</li><li>DA2</li><li>Gaba2</li><li>Glu2</li><li>Glu3</li><li>Glu4</li><li>DA3</li><li>Glu5</li><li>Glu6</li><li>Glu7</li><li>CoEx2</li><li>CoEx3</li><li>Gaba3</li><li>Gaba4</li></ol>\n",
       "\n",
       "<details>\n",
       "\t<summary style=display:list-item;cursor:pointer>\n",
       "\t\t<strong>Levels</strong>:\n",
       "\t</summary>\n",
       "\t<style>\n",
       "\t.list-inline {list-style: none; margin:0; padding: 0}\n",
       "\t.list-inline>li {display: inline-block}\n",
       "\t.list-inline>li:not(:last-child)::after {content: \"\\00b7\"; padding: 0 .5ex}\n",
       "\t</style>\n",
       "\t<ol class=list-inline><li>'CoEx1'</li><li>'CoEx2'</li><li>'CoEx3'</li><li>'DA1'</li><li>'DA2'</li><li>'DA3'</li><li>'Gaba1'</li><li>'Gaba2'</li><li>'Gaba3'</li><li>'Gaba4'</li><li>'Glu1'</li><li>'Glu2'</li><li>'Glu3'</li><li>'Glu4'</li><li>'Glu5'</li><li>'Glu6'</li><li>'Glu7'</li></ol>\n",
       "</details>"
      ],
      "text/latex": [
       "\\begin{enumerate*}\n",
       "\\item Glu1\n",
       "\\item CoEx1\n",
       "\\item Gaba1\n",
       "\\item DA1\n",
       "\\item DA2\n",
       "\\item Gaba2\n",
       "\\item Glu2\n",
       "\\item Glu3\n",
       "\\item Glu4\n",
       "\\item DA3\n",
       "\\item Glu5\n",
       "\\item Glu6\n",
       "\\item Glu7\n",
       "\\item CoEx2\n",
       "\\item CoEx3\n",
       "\\item Gaba3\n",
       "\\item Gaba4\n",
       "\\item Glu1\n",
       "\\item CoEx1\n",
       "\\item Gaba1\n",
       "\\item DA1\n",
       "\\item DA2\n",
       "\\item Gaba2\n",
       "\\item Glu2\n",
       "\\item Glu3\n",
       "\\item Glu4\n",
       "\\item DA3\n",
       "\\item Glu5\n",
       "\\item Glu6\n",
       "\\item Glu7\n",
       "\\item CoEx2\n",
       "\\item CoEx3\n",
       "\\item Gaba3\n",
       "\\item Gaba4\n",
       "\\item Glu1\n",
       "\\item CoEx1\n",
       "\\item Gaba1\n",
       "\\item DA1\n",
       "\\item DA2\n",
       "\\item Gaba2\n",
       "\\item Glu2\n",
       "\\item Glu3\n",
       "\\item Glu4\n",
       "\\item DA3\n",
       "\\item Glu5\n",
       "\\item Glu6\n",
       "\\item Glu7\n",
       "\\item CoEx2\n",
       "\\item CoEx3\n",
       "\\item Gaba3\n",
       "\\item Gaba4\n",
       "\\item Glu1\n",
       "\\item CoEx1\n",
       "\\item Gaba1\n",
       "\\item DA1\n",
       "\\item DA2\n",
       "\\item Gaba2\n",
       "\\item Glu2\n",
       "\\item Glu3\n",
       "\\item Glu4\n",
       "\\item DA3\n",
       "\\item Glu5\n",
       "\\item Glu6\n",
       "\\item Glu7\n",
       "\\item CoEx2\n",
       "\\item CoEx3\n",
       "\\item Gaba3\n",
       "\\item Gaba4\n",
       "\\end{enumerate*}\n",
       "\n",
       "\\emph{Levels}: \\begin{enumerate*}\n",
       "\\item 'CoEx1'\n",
       "\\item 'CoEx2'\n",
       "\\item 'CoEx3'\n",
       "\\item 'DA1'\n",
       "\\item 'DA2'\n",
       "\\item 'DA3'\n",
       "\\item 'Gaba1'\n",
       "\\item 'Gaba2'\n",
       "\\item 'Gaba3'\n",
       "\\item 'Gaba4'\n",
       "\\item 'Glu1'\n",
       "\\item 'Glu2'\n",
       "\\item 'Glu3'\n",
       "\\item 'Glu4'\n",
       "\\item 'Glu5'\n",
       "\\item 'Glu6'\n",
       "\\item 'Glu7'\n",
       "\\end{enumerate*}\n"
      ],
      "text/markdown": [
       "1. Glu1\n",
       "2. CoEx1\n",
       "3. Gaba1\n",
       "4. DA1\n",
       "5. DA2\n",
       "6. Gaba2\n",
       "7. Glu2\n",
       "8. Glu3\n",
       "9. Glu4\n",
       "10. DA3\n",
       "11. Glu5\n",
       "12. Glu6\n",
       "13. Glu7\n",
       "14. CoEx2\n",
       "15. CoEx3\n",
       "16. Gaba3\n",
       "17. Gaba4\n",
       "18. Glu1\n",
       "19. CoEx1\n",
       "20. Gaba1\n",
       "21. DA1\n",
       "22. DA2\n",
       "23. Gaba2\n",
       "24. Glu2\n",
       "25. Glu3\n",
       "26. Glu4\n",
       "27. DA3\n",
       "28. Glu5\n",
       "29. Glu6\n",
       "30. Glu7\n",
       "31. CoEx2\n",
       "32. CoEx3\n",
       "33. Gaba3\n",
       "34. Gaba4\n",
       "35. Glu1\n",
       "36. CoEx1\n",
       "37. Gaba1\n",
       "38. DA1\n",
       "39. DA2\n",
       "40. Gaba2\n",
       "41. Glu2\n",
       "42. Glu3\n",
       "43. Glu4\n",
       "44. DA3\n",
       "45. Glu5\n",
       "46. Glu6\n",
       "47. Glu7\n",
       "48. CoEx2\n",
       "49. CoEx3\n",
       "50. Gaba3\n",
       "51. Gaba4\n",
       "52. Glu1\n",
       "53. CoEx1\n",
       "54. Gaba1\n",
       "55. DA1\n",
       "56. DA2\n",
       "57. Gaba2\n",
       "58. Glu2\n",
       "59. Glu3\n",
       "60. Glu4\n",
       "61. DA3\n",
       "62. Glu5\n",
       "63. Glu6\n",
       "64. Glu7\n",
       "65. CoEx2\n",
       "66. CoEx3\n",
       "67. Gaba3\n",
       "68. Gaba4\n",
       "\n",
       "\n",
       "\n",
       "**Levels**: 1. 'CoEx1'\n",
       "2. 'CoEx2'\n",
       "3. 'CoEx3'\n",
       "4. 'DA1'\n",
       "5. 'DA2'\n",
       "6. 'DA3'\n",
       "7. 'Gaba1'\n",
       "8. 'Gaba2'\n",
       "9. 'Gaba3'\n",
       "10. 'Gaba4'\n",
       "11. 'Glu1'\n",
       "12. 'Glu2'\n",
       "13. 'Glu3'\n",
       "14. 'Glu4'\n",
       "15. 'Glu5'\n",
       "16. 'Glu6'\n",
       "17. 'Glu7'\n",
       "\n",
       "\n"
      ],
      "text/plain": [
       " [1] Glu1  CoEx1 Gaba1 DA1   DA2   Gaba2 Glu2  Glu3  Glu4  DA3   Glu5  Glu6 \n",
       "[13] Glu7  CoEx2 CoEx3 Gaba3 Gaba4 Glu1  CoEx1 Gaba1 DA1   DA2   Gaba2 Glu2 \n",
       "[25] Glu3  Glu4  DA3   Glu5  Glu6  Glu7  CoEx2 CoEx3 Gaba3 Gaba4 Glu1  CoEx1\n",
       "[37] Gaba1 DA1   DA2   Gaba2 Glu2  Glu3  Glu4  DA3   Glu5  Glu6  Glu7  CoEx2\n",
       "[49] CoEx3 Gaba3 Gaba4 Glu1  CoEx1 Gaba1 DA1   DA2   Gaba2 Glu2  Glu3  Glu4 \n",
       "[61] DA3   Glu5  Glu6  Glu7  CoEx2 CoEx3 Gaba3 Gaba4\n",
       "17 Levels: CoEx1 CoEx2 CoEx3 DA1 DA2 DA3 Gaba1 Gaba2 Gaba3 Gaba4 Glu1 ... Glu7"
      ]
     },
     "metadata": {},
     "output_type": "display_data"
    },
    {
     "data": {
      "text/html": [
       "<style>\n",
       ".list-inline {list-style: none; margin:0; padding: 0}\n",
       ".list-inline>li {display: inline-block}\n",
       ".list-inline>li:not(:last-child)::after {content: \"\\00b7\"; padding: 0 .5ex}\n",
       "</style>\n",
       "<ol class=list-inline><li>VTA_YFP</li><li>VTA_YFP</li><li>VTA_YFP</li><li>VTA_YFP</li><li>VTA_YFP</li><li>VTA_YFP</li><li>VTA_YFP</li><li>VTA_YFP</li><li>VTA_YFP</li><li>VTA_YFP</li><li>VTA_YFP</li><li>VTA_YFP</li><li>VTA_YFP</li><li>VTA_YFP</li><li>VTA_YFP</li><li>VTA_YFP</li><li>VTA_YFP</li><li>VTA_LH</li><li>VTA_LH</li><li>VTA_LH</li><li>VTA_LH</li><li>VTA_LH</li><li>VTA_LH</li><li>VTA_LH</li><li>VTA_LH</li><li>VTA_LH</li><li>VTA_LH</li><li>VTA_LH</li><li>VTA_LH</li><li>VTA_LH</li><li>VTA_LH</li><li>VTA_LH</li><li>VTA_LH</li><li>VTA_LH</li><li>VTA_PFC</li><li>VTA_PFC</li><li>VTA_PFC</li><li>VTA_PFC</li><li>VTA_PFC</li><li>VTA_PFC</li><li>VTA_PFC</li><li>VTA_PFC</li><li>VTA_PFC</li><li>VTA_PFC</li><li>VTA_PFC</li><li>VTA_PFC</li><li>VTA_PFC</li><li>VTA_PFC</li><li>VTA_PFC</li><li>VTA_PFC</li><li>VTA_PFC</li><li>VTA_NAc</li><li>VTA_NAc</li><li>VTA_NAc</li><li>VTA_NAc</li><li>VTA_NAc</li><li>VTA_NAc</li><li>VTA_NAc</li><li>VTA_NAc</li><li>VTA_NAc</li><li>VTA_NAc</li><li>VTA_NAc</li><li>VTA_NAc</li><li>VTA_NAc</li><li>VTA_NAc</li><li>VTA_NAc</li><li>VTA_NAc</li><li>VTA_NAc</li></ol>\n",
       "\n",
       "<details>\n",
       "\t<summary style=display:list-item;cursor:pointer>\n",
       "\t\t<strong>Levels</strong>:\n",
       "\t</summary>\n",
       "\t<style>\n",
       "\t.list-inline {list-style: none; margin:0; padding: 0}\n",
       "\t.list-inline>li {display: inline-block}\n",
       "\t.list-inline>li:not(:last-child)::after {content: \"\\00b7\"; padding: 0 .5ex}\n",
       "\t</style>\n",
       "\t<ol class=list-inline><li>'VTA_LH'</li><li>'VTA_NAc'</li><li>'VTA_PFC'</li><li>'VTA_YFP'</li></ol>\n",
       "</details>"
      ],
      "text/latex": [
       "\\begin{enumerate*}\n",
       "\\item VTA\\_YFP\n",
       "\\item VTA\\_YFP\n",
       "\\item VTA\\_YFP\n",
       "\\item VTA\\_YFP\n",
       "\\item VTA\\_YFP\n",
       "\\item VTA\\_YFP\n",
       "\\item VTA\\_YFP\n",
       "\\item VTA\\_YFP\n",
       "\\item VTA\\_YFP\n",
       "\\item VTA\\_YFP\n",
       "\\item VTA\\_YFP\n",
       "\\item VTA\\_YFP\n",
       "\\item VTA\\_YFP\n",
       "\\item VTA\\_YFP\n",
       "\\item VTA\\_YFP\n",
       "\\item VTA\\_YFP\n",
       "\\item VTA\\_YFP\n",
       "\\item VTA\\_LH\n",
       "\\item VTA\\_LH\n",
       "\\item VTA\\_LH\n",
       "\\item VTA\\_LH\n",
       "\\item VTA\\_LH\n",
       "\\item VTA\\_LH\n",
       "\\item VTA\\_LH\n",
       "\\item VTA\\_LH\n",
       "\\item VTA\\_LH\n",
       "\\item VTA\\_LH\n",
       "\\item VTA\\_LH\n",
       "\\item VTA\\_LH\n",
       "\\item VTA\\_LH\n",
       "\\item VTA\\_LH\n",
       "\\item VTA\\_LH\n",
       "\\item VTA\\_LH\n",
       "\\item VTA\\_LH\n",
       "\\item VTA\\_PFC\n",
       "\\item VTA\\_PFC\n",
       "\\item VTA\\_PFC\n",
       "\\item VTA\\_PFC\n",
       "\\item VTA\\_PFC\n",
       "\\item VTA\\_PFC\n",
       "\\item VTA\\_PFC\n",
       "\\item VTA\\_PFC\n",
       "\\item VTA\\_PFC\n",
       "\\item VTA\\_PFC\n",
       "\\item VTA\\_PFC\n",
       "\\item VTA\\_PFC\n",
       "\\item VTA\\_PFC\n",
       "\\item VTA\\_PFC\n",
       "\\item VTA\\_PFC\n",
       "\\item VTA\\_PFC\n",
       "\\item VTA\\_PFC\n",
       "\\item VTA\\_NAc\n",
       "\\item VTA\\_NAc\n",
       "\\item VTA\\_NAc\n",
       "\\item VTA\\_NAc\n",
       "\\item VTA\\_NAc\n",
       "\\item VTA\\_NAc\n",
       "\\item VTA\\_NAc\n",
       "\\item VTA\\_NAc\n",
       "\\item VTA\\_NAc\n",
       "\\item VTA\\_NAc\n",
       "\\item VTA\\_NAc\n",
       "\\item VTA\\_NAc\n",
       "\\item VTA\\_NAc\n",
       "\\item VTA\\_NAc\n",
       "\\item VTA\\_NAc\n",
       "\\item VTA\\_NAc\n",
       "\\item VTA\\_NAc\n",
       "\\end{enumerate*}\n",
       "\n",
       "\\emph{Levels}: \\begin{enumerate*}\n",
       "\\item 'VTA\\_LH'\n",
       "\\item 'VTA\\_NAc'\n",
       "\\item 'VTA\\_PFC'\n",
       "\\item 'VTA\\_YFP'\n",
       "\\end{enumerate*}\n"
      ],
      "text/markdown": [
       "1. VTA_YFP\n",
       "2. VTA_YFP\n",
       "3. VTA_YFP\n",
       "4. VTA_YFP\n",
       "5. VTA_YFP\n",
       "6. VTA_YFP\n",
       "7. VTA_YFP\n",
       "8. VTA_YFP\n",
       "9. VTA_YFP\n",
       "10. VTA_YFP\n",
       "11. VTA_YFP\n",
       "12. VTA_YFP\n",
       "13. VTA_YFP\n",
       "14. VTA_YFP\n",
       "15. VTA_YFP\n",
       "16. VTA_YFP\n",
       "17. VTA_YFP\n",
       "18. VTA_LH\n",
       "19. VTA_LH\n",
       "20. VTA_LH\n",
       "21. VTA_LH\n",
       "22. VTA_LH\n",
       "23. VTA_LH\n",
       "24. VTA_LH\n",
       "25. VTA_LH\n",
       "26. VTA_LH\n",
       "27. VTA_LH\n",
       "28. VTA_LH\n",
       "29. VTA_LH\n",
       "30. VTA_LH\n",
       "31. VTA_LH\n",
       "32. VTA_LH\n",
       "33. VTA_LH\n",
       "34. VTA_LH\n",
       "35. VTA_PFC\n",
       "36. VTA_PFC\n",
       "37. VTA_PFC\n",
       "38. VTA_PFC\n",
       "39. VTA_PFC\n",
       "40. VTA_PFC\n",
       "41. VTA_PFC\n",
       "42. VTA_PFC\n",
       "43. VTA_PFC\n",
       "44. VTA_PFC\n",
       "45. VTA_PFC\n",
       "46. VTA_PFC\n",
       "47. VTA_PFC\n",
       "48. VTA_PFC\n",
       "49. VTA_PFC\n",
       "50. VTA_PFC\n",
       "51. VTA_PFC\n",
       "52. VTA_NAc\n",
       "53. VTA_NAc\n",
       "54. VTA_NAc\n",
       "55. VTA_NAc\n",
       "56. VTA_NAc\n",
       "57. VTA_NAc\n",
       "58. VTA_NAc\n",
       "59. VTA_NAc\n",
       "60. VTA_NAc\n",
       "61. VTA_NAc\n",
       "62. VTA_NAc\n",
       "63. VTA_NAc\n",
       "64. VTA_NAc\n",
       "65. VTA_NAc\n",
       "66. VTA_NAc\n",
       "67. VTA_NAc\n",
       "68. VTA_NAc\n",
       "\n",
       "\n",
       "\n",
       "**Levels**: 1. 'VTA_LH'\n",
       "2. 'VTA_NAc'\n",
       "3. 'VTA_PFC'\n",
       "4. 'VTA_YFP'\n",
       "\n",
       "\n"
      ],
      "text/plain": [
       " [1] VTA_YFP VTA_YFP VTA_YFP VTA_YFP VTA_YFP VTA_YFP VTA_YFP VTA_YFP VTA_YFP\n",
       "[10] VTA_YFP VTA_YFP VTA_YFP VTA_YFP VTA_YFP VTA_YFP VTA_YFP VTA_YFP VTA_LH \n",
       "[19] VTA_LH  VTA_LH  VTA_LH  VTA_LH  VTA_LH  VTA_LH  VTA_LH  VTA_LH  VTA_LH \n",
       "[28] VTA_LH  VTA_LH  VTA_LH  VTA_LH  VTA_LH  VTA_LH  VTA_LH  VTA_PFC VTA_PFC\n",
       "[37] VTA_PFC VTA_PFC VTA_PFC VTA_PFC VTA_PFC VTA_PFC VTA_PFC VTA_PFC VTA_PFC\n",
       "[46] VTA_PFC VTA_PFC VTA_PFC VTA_PFC VTA_PFC VTA_PFC VTA_NAc VTA_NAc VTA_NAc\n",
       "[55] VTA_NAc VTA_NAc VTA_NAc VTA_NAc VTA_NAc VTA_NAc VTA_NAc VTA_NAc VTA_NAc\n",
       "[64] VTA_NAc VTA_NAc VTA_NAc VTA_NAc VTA_NAc\n",
       "Levels: VTA_LH VTA_NAc VTA_PFC VTA_YFP"
      ]
     },
     "metadata": {},
     "output_type": "display_data"
    }
   ],
   "source": [
    "Cell_type<-c(\"Glu1\",\"CoEx1\",\"Gaba1\",\"DA1\",\"DA2\",\"Gaba2\",\"Glu2\",\"Glu3\",\"Glu4\",\"DA3\",\"Glu5\",\"Glu6\",\"Glu7\",\"CoEx2\",\"CoEx3\",\"Gaba3\",\"Gaba4\")\n",
    "\n",
    "# make a data frame for cell number (this data frame is a simple version giving single value for each cluster) \n",
    "Cell_number<- data.frame(\"type\" =c(Cell_type,Cell_type,Cell_type,Cell_type), \"Cond\" = c(rep(\"VTA_YFP\",length(Cell_type)),rep(\"VTA_LH\",length(Cell_type)),rep(\"VTA_PFC\",length(Cell_type)),rep(\"VTA_NAc\",length(Cell_type))))\n",
    "# be careful with how you define factor and levels\n",
    "as.factor(Cell_number$type)\n",
    "as.factor(Cell_number$Cond)\n",
    "levels(Cell_number$type)<-c(\"Glu1\",\"CoEx1\",\"Gaba1\",\"DA1\",\"DA2\",\"Gaba2\",\"Glu2\",\"Glu3\",\"Glu4\",\"DA3\",\"Glu5\",\"Glu6\",\"Glu7\",\"CoEx2\",\"CoEx3\",\"Gaba3\",\"Gaba4\")\n",
    "\n",
    "Numberofcells<-vector(mode=\"numeric\", length=0)\n",
    "proportion<-vector(mode=\"numeric\", length=0)\n",
    "\n",
    "for (i in 1:dim(Cell_number)[1]){Numberofcells[i]<-length(eval(parse(text = paste(Cell_number$type[i],\"_barcode\",\"_\",Cell_number$Cond[i],sep=\"\"))))}\n",
    "Cell_number$len<-Numberofcells\n",
    "\n",
    "for (i in 1:dim(Cell_number)[1]){if (Cell_number$Cond[i]==\"VTA_YFP\"){proportion[i]<-100*length(eval(parse(text = paste(Cell_number$type[i],\"_barcode\",\"_\",Cell_number$Cond[i],sep=\"\"))))/sum(Cell_number$len[grep(\"VTA_YFP\",Cell_number$Cond)])} \n",
    " else if(Cell_number$Cond[i]==\"VTA_LH\") {proportion[i]<-100*length(eval(parse(text = paste(Cell_number$type[i],\"_barcode\",\"_\",Cell_number$Cond[i],sep=\"\"))))/sum(Cell_number$len[grep(\"VTA_LH\",Cell_number$Cond)])}\n",
    "   else if(Cell_number$Cond[i]==\"VTA_PFC\") {proportion[i]<-100*length(eval(parse(text = paste(Cell_number$type[i],\"_barcode\",\"_\",Cell_number$Cond[i],sep=\"\"))))/sum(Cell_number$len[grep(\"VTA_PFC\",Cell_number$Cond)])}\n",
    "        else if(Cell_number$Cond[i]==\"VTA_NAc\") {proportion[i]<-100*length(eval(parse(text = paste(Cell_number$type[i],\"_barcode\",\"_\",Cell_number$Cond[i],sep=\"\"))))/sum(Cell_number$len[grep(\"VTA_NAc\",Cell_number$Cond)])}\n",
    "       }\n",
    "Cell_number$prop<-proportion"
   ]
  },
  {
   "cell_type": "code",
   "execution_count": 11,
   "metadata": {},
   "outputs": [],
   "source": [
    "temp <- vector(length=length(Cell_number)[1]) \n",
    "temp_neg <- vector(length=length(Cell_number)[1]) \n",
    "\n",
    "for (j in 1:length(IEG)){\n",
    "IEG_raw<-vector(mode=\"numeric\",length=length(IEG))\n",
    "IEG_raw_neg<-vector(mode=\"numeric\",length=length(IEG))\n",
    "\n",
    "\n",
    "    for (i in 1:length(Cell_number$type)){\n",
    "    IEG_raw[i]<-sum(VTA.integrated@assays$RNA@data[IEG[j],eval(parse(text = paste(Cell_number$type[i],\"_barcode_\",Cell_number$Cond[i],sep=\"\")))]>0)                            \n",
    "    temp[i] <- IEG_raw[i]\n",
    "    IEG_raw_neg[i]<- Cell_number$len[i]-IEG_raw[i]\n",
    "    temp_neg[i]<- IEG_raw_neg[i]\n",
    "    \n",
    "    }\n",
    "\n",
    "    Cell_number <- cbind(Cell_number, temp)\n",
    "    Cell_number <- cbind(Cell_number, temp_neg)\n",
    "\n",
    "    names(Cell_number)[names(Cell_number) == \"temp\"] <- paste(IEG[j], \"_count\", sep=\"\")\n",
    "    names(Cell_number)[names(Cell_number) == \"temp_neg\"] <- paste(IEG[j], \"_count_neg\", sep=\"\")\n",
    "\n",
    "}\n",
    "\n",
    "Cell_number_counts <- Cell_number"
   ]
  },
  {
   "cell_type": "code",
   "execution_count": null,
   "metadata": {},
   "outputs": [],
   "source": []
  },
  {
   "cell_type": "code",
   "execution_count": 12,
   "metadata": {
    "collapsed": true
   },
   "outputs": [
    {
     "data": {
      "text/html": [
       "<style>\n",
       ".list-inline {list-style: none; margin:0; padding: 0}\n",
       ".list-inline>li {display: inline-block}\n",
       ".list-inline>li:not(:last-child)::after {content: \"\\00b7\"; padding: 0 .5ex}\n",
       "</style>\n",
       "<ol class=list-inline><li>Glu1</li><li>CoEx1</li><li>Gaba1</li><li>DA1</li><li>DA2</li><li>Gaba2</li><li>Glu2</li><li>Glu3</li><li>Glu4</li><li>DA3</li><li>Glu5</li><li>Glu6</li><li>Glu7</li><li>CoEx2</li><li>CoEx3</li><li>Gaba3</li><li>Gaba4</li><li>Glu1</li><li>CoEx1</li><li>Gaba1</li><li>DA1</li><li>DA2</li><li>Gaba2</li><li>Glu2</li><li>Glu3</li><li>Glu4</li><li>DA3</li><li>Glu5</li><li>Glu6</li><li>Glu7</li><li>CoEx2</li><li>CoEx3</li><li>Gaba3</li><li>Gaba4</li><li>Glu1</li><li>CoEx1</li><li>Gaba1</li><li>DA1</li><li>DA2</li><li>Gaba2</li><li>Glu2</li><li>Glu3</li><li>Glu4</li><li>DA3</li><li>Glu5</li><li>Glu6</li><li>Glu7</li><li>CoEx2</li><li>CoEx3</li><li>Gaba3</li><li>Gaba4</li><li>Glu1</li><li>CoEx1</li><li>Gaba1</li><li>DA1</li><li>DA2</li><li>Gaba2</li><li>Glu2</li><li>Glu3</li><li>Glu4</li><li>DA3</li><li>Glu5</li><li>Glu6</li><li>Glu7</li><li>CoEx2</li><li>CoEx3</li><li>Gaba3</li><li>Gaba4</li></ol>\n",
       "\n",
       "<details>\n",
       "\t<summary style=display:list-item;cursor:pointer>\n",
       "\t\t<strong>Levels</strong>:\n",
       "\t</summary>\n",
       "\t<style>\n",
       "\t.list-inline {list-style: none; margin:0; padding: 0}\n",
       "\t.list-inline>li {display: inline-block}\n",
       "\t.list-inline>li:not(:last-child)::after {content: \"\\00b7\"; padding: 0 .5ex}\n",
       "\t</style>\n",
       "\t<ol class=list-inline><li>'CoEx1'</li><li>'CoEx2'</li><li>'CoEx3'</li><li>'DA1'</li><li>'DA2'</li><li>'DA3'</li><li>'Gaba1'</li><li>'Gaba2'</li><li>'Gaba3'</li><li>'Gaba4'</li><li>'Glu1'</li><li>'Glu2'</li><li>'Glu3'</li><li>'Glu4'</li><li>'Glu5'</li><li>'Glu6'</li><li>'Glu7'</li></ol>\n",
       "</details>"
      ],
      "text/latex": [
       "\\begin{enumerate*}\n",
       "\\item Glu1\n",
       "\\item CoEx1\n",
       "\\item Gaba1\n",
       "\\item DA1\n",
       "\\item DA2\n",
       "\\item Gaba2\n",
       "\\item Glu2\n",
       "\\item Glu3\n",
       "\\item Glu4\n",
       "\\item DA3\n",
       "\\item Glu5\n",
       "\\item Glu6\n",
       "\\item Glu7\n",
       "\\item CoEx2\n",
       "\\item CoEx3\n",
       "\\item Gaba3\n",
       "\\item Gaba4\n",
       "\\item Glu1\n",
       "\\item CoEx1\n",
       "\\item Gaba1\n",
       "\\item DA1\n",
       "\\item DA2\n",
       "\\item Gaba2\n",
       "\\item Glu2\n",
       "\\item Glu3\n",
       "\\item Glu4\n",
       "\\item DA3\n",
       "\\item Glu5\n",
       "\\item Glu6\n",
       "\\item Glu7\n",
       "\\item CoEx2\n",
       "\\item CoEx3\n",
       "\\item Gaba3\n",
       "\\item Gaba4\n",
       "\\item Glu1\n",
       "\\item CoEx1\n",
       "\\item Gaba1\n",
       "\\item DA1\n",
       "\\item DA2\n",
       "\\item Gaba2\n",
       "\\item Glu2\n",
       "\\item Glu3\n",
       "\\item Glu4\n",
       "\\item DA3\n",
       "\\item Glu5\n",
       "\\item Glu6\n",
       "\\item Glu7\n",
       "\\item CoEx2\n",
       "\\item CoEx3\n",
       "\\item Gaba3\n",
       "\\item Gaba4\n",
       "\\item Glu1\n",
       "\\item CoEx1\n",
       "\\item Gaba1\n",
       "\\item DA1\n",
       "\\item DA2\n",
       "\\item Gaba2\n",
       "\\item Glu2\n",
       "\\item Glu3\n",
       "\\item Glu4\n",
       "\\item DA3\n",
       "\\item Glu5\n",
       "\\item Glu6\n",
       "\\item Glu7\n",
       "\\item CoEx2\n",
       "\\item CoEx3\n",
       "\\item Gaba3\n",
       "\\item Gaba4\n",
       "\\end{enumerate*}\n",
       "\n",
       "\\emph{Levels}: \\begin{enumerate*}\n",
       "\\item 'CoEx1'\n",
       "\\item 'CoEx2'\n",
       "\\item 'CoEx3'\n",
       "\\item 'DA1'\n",
       "\\item 'DA2'\n",
       "\\item 'DA3'\n",
       "\\item 'Gaba1'\n",
       "\\item 'Gaba2'\n",
       "\\item 'Gaba3'\n",
       "\\item 'Gaba4'\n",
       "\\item 'Glu1'\n",
       "\\item 'Glu2'\n",
       "\\item 'Glu3'\n",
       "\\item 'Glu4'\n",
       "\\item 'Glu5'\n",
       "\\item 'Glu6'\n",
       "\\item 'Glu7'\n",
       "\\end{enumerate*}\n"
      ],
      "text/markdown": [
       "1. Glu1\n",
       "2. CoEx1\n",
       "3. Gaba1\n",
       "4. DA1\n",
       "5. DA2\n",
       "6. Gaba2\n",
       "7. Glu2\n",
       "8. Glu3\n",
       "9. Glu4\n",
       "10. DA3\n",
       "11. Glu5\n",
       "12. Glu6\n",
       "13. Glu7\n",
       "14. CoEx2\n",
       "15. CoEx3\n",
       "16. Gaba3\n",
       "17. Gaba4\n",
       "18. Glu1\n",
       "19. CoEx1\n",
       "20. Gaba1\n",
       "21. DA1\n",
       "22. DA2\n",
       "23. Gaba2\n",
       "24. Glu2\n",
       "25. Glu3\n",
       "26. Glu4\n",
       "27. DA3\n",
       "28. Glu5\n",
       "29. Glu6\n",
       "30. Glu7\n",
       "31. CoEx2\n",
       "32. CoEx3\n",
       "33. Gaba3\n",
       "34. Gaba4\n",
       "35. Glu1\n",
       "36. CoEx1\n",
       "37. Gaba1\n",
       "38. DA1\n",
       "39. DA2\n",
       "40. Gaba2\n",
       "41. Glu2\n",
       "42. Glu3\n",
       "43. Glu4\n",
       "44. DA3\n",
       "45. Glu5\n",
       "46. Glu6\n",
       "47. Glu7\n",
       "48. CoEx2\n",
       "49. CoEx3\n",
       "50. Gaba3\n",
       "51. Gaba4\n",
       "52. Glu1\n",
       "53. CoEx1\n",
       "54. Gaba1\n",
       "55. DA1\n",
       "56. DA2\n",
       "57. Gaba2\n",
       "58. Glu2\n",
       "59. Glu3\n",
       "60. Glu4\n",
       "61. DA3\n",
       "62. Glu5\n",
       "63. Glu6\n",
       "64. Glu7\n",
       "65. CoEx2\n",
       "66. CoEx3\n",
       "67. Gaba3\n",
       "68. Gaba4\n",
       "\n",
       "\n",
       "\n",
       "**Levels**: 1. 'CoEx1'\n",
       "2. 'CoEx2'\n",
       "3. 'CoEx3'\n",
       "4. 'DA1'\n",
       "5. 'DA2'\n",
       "6. 'DA3'\n",
       "7. 'Gaba1'\n",
       "8. 'Gaba2'\n",
       "9. 'Gaba3'\n",
       "10. 'Gaba4'\n",
       "11. 'Glu1'\n",
       "12. 'Glu2'\n",
       "13. 'Glu3'\n",
       "14. 'Glu4'\n",
       "15. 'Glu5'\n",
       "16. 'Glu6'\n",
       "17. 'Glu7'\n",
       "\n",
       "\n"
      ],
      "text/plain": [
       " [1] Glu1  CoEx1 Gaba1 DA1   DA2   Gaba2 Glu2  Glu3  Glu4  DA3   Glu5  Glu6 \n",
       "[13] Glu7  CoEx2 CoEx3 Gaba3 Gaba4 Glu1  CoEx1 Gaba1 DA1   DA2   Gaba2 Glu2 \n",
       "[25] Glu3  Glu4  DA3   Glu5  Glu6  Glu7  CoEx2 CoEx3 Gaba3 Gaba4 Glu1  CoEx1\n",
       "[37] Gaba1 DA1   DA2   Gaba2 Glu2  Glu3  Glu4  DA3   Glu5  Glu6  Glu7  CoEx2\n",
       "[49] CoEx3 Gaba3 Gaba4 Glu1  CoEx1 Gaba1 DA1   DA2   Gaba2 Glu2  Glu3  Glu4 \n",
       "[61] DA3   Glu5  Glu6  Glu7  CoEx2 CoEx3 Gaba3 Gaba4\n",
       "17 Levels: CoEx1 CoEx2 CoEx3 DA1 DA2 DA3 Gaba1 Gaba2 Gaba3 Gaba4 Glu1 ... Glu7"
      ]
     },
     "metadata": {},
     "output_type": "display_data"
    },
    {
     "data": {
      "text/html": [
       "<style>\n",
       ".list-inline {list-style: none; margin:0; padding: 0}\n",
       ".list-inline>li {display: inline-block}\n",
       ".list-inline>li:not(:last-child)::after {content: \"\\00b7\"; padding: 0 .5ex}\n",
       "</style>\n",
       "<ol class=list-inline><li>VTA_YFP</li><li>VTA_YFP</li><li>VTA_YFP</li><li>VTA_YFP</li><li>VTA_YFP</li><li>VTA_YFP</li><li>VTA_YFP</li><li>VTA_YFP</li><li>VTA_YFP</li><li>VTA_YFP</li><li>VTA_YFP</li><li>VTA_YFP</li><li>VTA_YFP</li><li>VTA_YFP</li><li>VTA_YFP</li><li>VTA_YFP</li><li>VTA_YFP</li><li>VTA_LH</li><li>VTA_LH</li><li>VTA_LH</li><li>VTA_LH</li><li>VTA_LH</li><li>VTA_LH</li><li>VTA_LH</li><li>VTA_LH</li><li>VTA_LH</li><li>VTA_LH</li><li>VTA_LH</li><li>VTA_LH</li><li>VTA_LH</li><li>VTA_LH</li><li>VTA_LH</li><li>VTA_LH</li><li>VTA_LH</li><li>VTA_PFC</li><li>VTA_PFC</li><li>VTA_PFC</li><li>VTA_PFC</li><li>VTA_PFC</li><li>VTA_PFC</li><li>VTA_PFC</li><li>VTA_PFC</li><li>VTA_PFC</li><li>VTA_PFC</li><li>VTA_PFC</li><li>VTA_PFC</li><li>VTA_PFC</li><li>VTA_PFC</li><li>VTA_PFC</li><li>VTA_PFC</li><li>VTA_PFC</li><li>VTA_NAc</li><li>VTA_NAc</li><li>VTA_NAc</li><li>VTA_NAc</li><li>VTA_NAc</li><li>VTA_NAc</li><li>VTA_NAc</li><li>VTA_NAc</li><li>VTA_NAc</li><li>VTA_NAc</li><li>VTA_NAc</li><li>VTA_NAc</li><li>VTA_NAc</li><li>VTA_NAc</li><li>VTA_NAc</li><li>VTA_NAc</li><li>VTA_NAc</li></ol>\n",
       "\n",
       "<details>\n",
       "\t<summary style=display:list-item;cursor:pointer>\n",
       "\t\t<strong>Levels</strong>:\n",
       "\t</summary>\n",
       "\t<style>\n",
       "\t.list-inline {list-style: none; margin:0; padding: 0}\n",
       "\t.list-inline>li {display: inline-block}\n",
       "\t.list-inline>li:not(:last-child)::after {content: \"\\00b7\"; padding: 0 .5ex}\n",
       "\t</style>\n",
       "\t<ol class=list-inline><li>'VTA_LH'</li><li>'VTA_NAc'</li><li>'VTA_PFC'</li><li>'VTA_YFP'</li></ol>\n",
       "</details>"
      ],
      "text/latex": [
       "\\begin{enumerate*}\n",
       "\\item VTA\\_YFP\n",
       "\\item VTA\\_YFP\n",
       "\\item VTA\\_YFP\n",
       "\\item VTA\\_YFP\n",
       "\\item VTA\\_YFP\n",
       "\\item VTA\\_YFP\n",
       "\\item VTA\\_YFP\n",
       "\\item VTA\\_YFP\n",
       "\\item VTA\\_YFP\n",
       "\\item VTA\\_YFP\n",
       "\\item VTA\\_YFP\n",
       "\\item VTA\\_YFP\n",
       "\\item VTA\\_YFP\n",
       "\\item VTA\\_YFP\n",
       "\\item VTA\\_YFP\n",
       "\\item VTA\\_YFP\n",
       "\\item VTA\\_YFP\n",
       "\\item VTA\\_LH\n",
       "\\item VTA\\_LH\n",
       "\\item VTA\\_LH\n",
       "\\item VTA\\_LH\n",
       "\\item VTA\\_LH\n",
       "\\item VTA\\_LH\n",
       "\\item VTA\\_LH\n",
       "\\item VTA\\_LH\n",
       "\\item VTA\\_LH\n",
       "\\item VTA\\_LH\n",
       "\\item VTA\\_LH\n",
       "\\item VTA\\_LH\n",
       "\\item VTA\\_LH\n",
       "\\item VTA\\_LH\n",
       "\\item VTA\\_LH\n",
       "\\item VTA\\_LH\n",
       "\\item VTA\\_LH\n",
       "\\item VTA\\_PFC\n",
       "\\item VTA\\_PFC\n",
       "\\item VTA\\_PFC\n",
       "\\item VTA\\_PFC\n",
       "\\item VTA\\_PFC\n",
       "\\item VTA\\_PFC\n",
       "\\item VTA\\_PFC\n",
       "\\item VTA\\_PFC\n",
       "\\item VTA\\_PFC\n",
       "\\item VTA\\_PFC\n",
       "\\item VTA\\_PFC\n",
       "\\item VTA\\_PFC\n",
       "\\item VTA\\_PFC\n",
       "\\item VTA\\_PFC\n",
       "\\item VTA\\_PFC\n",
       "\\item VTA\\_PFC\n",
       "\\item VTA\\_PFC\n",
       "\\item VTA\\_NAc\n",
       "\\item VTA\\_NAc\n",
       "\\item VTA\\_NAc\n",
       "\\item VTA\\_NAc\n",
       "\\item VTA\\_NAc\n",
       "\\item VTA\\_NAc\n",
       "\\item VTA\\_NAc\n",
       "\\item VTA\\_NAc\n",
       "\\item VTA\\_NAc\n",
       "\\item VTA\\_NAc\n",
       "\\item VTA\\_NAc\n",
       "\\item VTA\\_NAc\n",
       "\\item VTA\\_NAc\n",
       "\\item VTA\\_NAc\n",
       "\\item VTA\\_NAc\n",
       "\\item VTA\\_NAc\n",
       "\\item VTA\\_NAc\n",
       "\\end{enumerate*}\n",
       "\n",
       "\\emph{Levels}: \\begin{enumerate*}\n",
       "\\item 'VTA\\_LH'\n",
       "\\item 'VTA\\_NAc'\n",
       "\\item 'VTA\\_PFC'\n",
       "\\item 'VTA\\_YFP'\n",
       "\\end{enumerate*}\n"
      ],
      "text/markdown": [
       "1. VTA_YFP\n",
       "2. VTA_YFP\n",
       "3. VTA_YFP\n",
       "4. VTA_YFP\n",
       "5. VTA_YFP\n",
       "6. VTA_YFP\n",
       "7. VTA_YFP\n",
       "8. VTA_YFP\n",
       "9. VTA_YFP\n",
       "10. VTA_YFP\n",
       "11. VTA_YFP\n",
       "12. VTA_YFP\n",
       "13. VTA_YFP\n",
       "14. VTA_YFP\n",
       "15. VTA_YFP\n",
       "16. VTA_YFP\n",
       "17. VTA_YFP\n",
       "18. VTA_LH\n",
       "19. VTA_LH\n",
       "20. VTA_LH\n",
       "21. VTA_LH\n",
       "22. VTA_LH\n",
       "23. VTA_LH\n",
       "24. VTA_LH\n",
       "25. VTA_LH\n",
       "26. VTA_LH\n",
       "27. VTA_LH\n",
       "28. VTA_LH\n",
       "29. VTA_LH\n",
       "30. VTA_LH\n",
       "31. VTA_LH\n",
       "32. VTA_LH\n",
       "33. VTA_LH\n",
       "34. VTA_LH\n",
       "35. VTA_PFC\n",
       "36. VTA_PFC\n",
       "37. VTA_PFC\n",
       "38. VTA_PFC\n",
       "39. VTA_PFC\n",
       "40. VTA_PFC\n",
       "41. VTA_PFC\n",
       "42. VTA_PFC\n",
       "43. VTA_PFC\n",
       "44. VTA_PFC\n",
       "45. VTA_PFC\n",
       "46. VTA_PFC\n",
       "47. VTA_PFC\n",
       "48. VTA_PFC\n",
       "49. VTA_PFC\n",
       "50. VTA_PFC\n",
       "51. VTA_PFC\n",
       "52. VTA_NAc\n",
       "53. VTA_NAc\n",
       "54. VTA_NAc\n",
       "55. VTA_NAc\n",
       "56. VTA_NAc\n",
       "57. VTA_NAc\n",
       "58. VTA_NAc\n",
       "59. VTA_NAc\n",
       "60. VTA_NAc\n",
       "61. VTA_NAc\n",
       "62. VTA_NAc\n",
       "63. VTA_NAc\n",
       "64. VTA_NAc\n",
       "65. VTA_NAc\n",
       "66. VTA_NAc\n",
       "67. VTA_NAc\n",
       "68. VTA_NAc\n",
       "\n",
       "\n",
       "\n",
       "**Levels**: 1. 'VTA_LH'\n",
       "2. 'VTA_NAc'\n",
       "3. 'VTA_PFC'\n",
       "4. 'VTA_YFP'\n",
       "\n",
       "\n"
      ],
      "text/plain": [
       " [1] VTA_YFP VTA_YFP VTA_YFP VTA_YFP VTA_YFP VTA_YFP VTA_YFP VTA_YFP VTA_YFP\n",
       "[10] VTA_YFP VTA_YFP VTA_YFP VTA_YFP VTA_YFP VTA_YFP VTA_YFP VTA_YFP VTA_LH \n",
       "[19] VTA_LH  VTA_LH  VTA_LH  VTA_LH  VTA_LH  VTA_LH  VTA_LH  VTA_LH  VTA_LH \n",
       "[28] VTA_LH  VTA_LH  VTA_LH  VTA_LH  VTA_LH  VTA_LH  VTA_LH  VTA_PFC VTA_PFC\n",
       "[37] VTA_PFC VTA_PFC VTA_PFC VTA_PFC VTA_PFC VTA_PFC VTA_PFC VTA_PFC VTA_PFC\n",
       "[46] VTA_PFC VTA_PFC VTA_PFC VTA_PFC VTA_PFC VTA_PFC VTA_NAc VTA_NAc VTA_NAc\n",
       "[55] VTA_NAc VTA_NAc VTA_NAc VTA_NAc VTA_NAc VTA_NAc VTA_NAc VTA_NAc VTA_NAc\n",
       "[64] VTA_NAc VTA_NAc VTA_NAc VTA_NAc VTA_NAc\n",
       "Levels: VTA_LH VTA_NAc VTA_PFC VTA_YFP"
      ]
     },
     "metadata": {},
     "output_type": "display_data"
    }
   ],
   "source": [
    "Cell_type<-c(\"Glu1\",\"CoEx1\",\"Gaba1\",\"DA1\",\"DA2\",\"Gaba2\",\"Glu2\",\"Glu3\",\"Glu4\",\"DA3\",\"Glu5\",\"Glu6\",\"Glu7\",\"CoEx2\",\"CoEx3\",\"Gaba3\",\"Gaba4\")\n",
    "\n",
    "# make a data frame for cell number (this data frame is a simple version giving single value for each cluster) \n",
    "Cell_number<- data.frame(\"type\" =c(Cell_type,Cell_type,Cell_type,Cell_type), \"Cond\" = c(rep(\"VTA_YFP\",length(Cell_type)),rep(\"VTA_LH\",length(Cell_type)),rep(\"VTA_PFC\",length(Cell_type)),rep(\"VTA_NAc\",length(Cell_type))))\n",
    "# be careful with how you define factor and levels\n",
    "as.factor(Cell_number$type)\n",
    "as.factor(Cell_number$Cond)\n",
    "levels(Cell_number$type)<-c(\"Glu1\",\"CoEx1\",\"Gaba1\",\"DA1\",\"DA2\",\"Gaba2\",\"Glu2\",\"Glu3\",\"Glu4\",\"DA3\",\"Glu5\",\"Glu6\",\"Glu7\",\"CoEx2\",\"CoEx3\",\"Gaba3\",\"Gaba4\")\n",
    "\n",
    "Numberofcells<-vector(mode=\"numeric\", length=0)\n",
    "proportion<-vector(mode=\"numeric\", length=0)\n",
    "\n",
    "for (i in 1:dim(Cell_number)[1]){Numberofcells[i]<-length(eval(parse(text = paste(Cell_number$type[i],\"_barcode\",\"_\",Cell_number$Cond[i],sep=\"\"))))}\n",
    "Cell_number$len<-Numberofcells\n",
    "\n",
    "for (i in 1:dim(Cell_number)[1]){if (Cell_number$Cond[i]==\"VTA_YFP\"){proportion[i]<-100*length(eval(parse(text = paste(Cell_number$type[i],\"_barcode\",\"_\",Cell_number$Cond[i],sep=\"\"))))/sum(Cell_number$len[grep(\"VTA_YFP\",Cell_number$Cond)])} \n",
    " else if(Cell_number$Cond[i]==\"VTA_LH\") {proportion[i]<-100*length(eval(parse(text = paste(Cell_number$type[i],\"_barcode\",\"_\",Cell_number$Cond[i],sep=\"\"))))/sum(Cell_number$len[grep(\"VTA_LH\",Cell_number$Cond)])}\n",
    "   else if(Cell_number$Cond[i]==\"VTA_PFC\") {proportion[i]<-100*length(eval(parse(text = paste(Cell_number$type[i],\"_barcode\",\"_\",Cell_number$Cond[i],sep=\"\"))))/sum(Cell_number$len[grep(\"VTA_PFC\",Cell_number$Cond)])}\n",
    "        else if(Cell_number$Cond[i]==\"VTA_NAc\") {proportion[i]<-100*length(eval(parse(text = paste(Cell_number$type[i],\"_barcode\",\"_\",Cell_number$Cond[i],sep=\"\"))))/sum(Cell_number$len[grep(\"VTA_NAc\",Cell_number$Cond)])}\n",
    "       }\n",
    "Cell_number$prop<-proportion"
   ]
  },
  {
   "cell_type": "code",
   "execution_count": 13,
   "metadata": {},
   "outputs": [],
   "source": [
    "#Generating data frame that contains the percent of cells that express a given IEG across all cell types\n",
    "temp <- vector(length=length(Cell_number)[1]) \n",
    "\n",
    "for (j in 1:length(IEG)){\n",
    "IEG_raw<-vector(mode=\"numeric\",length=length(IEG))\n",
    "\n",
    "    for (i in 1:length(Cell_number$type)){\n",
    "    IEG_raw[i]<-100*sum(VTA.integrated@assays$RNA@data[IEG[j],eval(parse(text = paste(Cell_number$type[i],\"_barcode_\",Cell_number$Cond[i],sep=\"\")))]>0)/Cell_number$len[i]\n",
    "    temp[i] <- IEG_raw[i]\n",
    "    \n",
    "    }\n",
    "\n",
    "    Cell_number <- cbind(Cell_number, temp)\n",
    "    names(Cell_number)[names(Cell_number) == \"temp\"] <- paste(IEG[j], \"\", sep=\"\")\n",
    "\n",
    "}\n",
    "\n",
    "Cell_number_prop <- Cell_number"
   ]
  },
  {
   "cell_type": "code",
   "execution_count": null,
   "metadata": {},
   "outputs": [],
   "source": []
  },
  {
   "cell_type": "markdown",
   "metadata": {},
   "source": [
    "#### making volcano plots"
   ]
  },
  {
   "cell_type": "code",
   "execution_count": 14,
   "metadata": {},
   "outputs": [],
   "source": [
    "YFP.ct <- colSums(Cell_number_counts[Cell_number_counts$Cond == \"VTA_YFP\",][,c(5:278)])\n",
    "LH.ct <- colSums(Cell_number_counts[Cell_number_counts$Cond == \"VTA_LH\",][,c(5:278)])\n",
    "PFC.ct <- colSums(Cell_number_counts[Cell_number_counts$Cond == \"VTA_PFC\",][,c(5:278)])\n",
    "NAc.ct <- colSums(Cell_number_counts[Cell_number_counts$Cond == \"VTA_NAc\",][,c(5:278)])"
   ]
  },
  {
   "cell_type": "code",
   "execution_count": 15,
   "metadata": {},
   "outputs": [],
   "source": [
    "ct.df <- data.frame(\"YFP\" = YFP.ct,\n",
    "                   \"LH\" = LH.ct,\n",
    "                   \"PFC\" = PFC.ct,\n",
    "                   \"NAc\" = NAc.ct)\n",
    "colnames(ct.df) <- c(\"YFP\",\"LH\",\"PFC\",\"NAc\")"
   ]
  },
  {
   "cell_type": "code",
   "execution_count": 16,
   "metadata": {
    "scrolled": false
   },
   "outputs": [
    {
     "name": "stderr",
     "output_type": "stream",
     "text": [
      "Warning message:\n",
      "\"Scaling data with a low number of groups may produce misleading results\"\n"
     ]
    }
   ],
   "source": [
    "VTA.pseudo <- DotPlot(VTA.integrated, feature=IEG, group.by='stim')$data\n",
    "#VTA.pseudo"
   ]
  },
  {
   "cell_type": "code",
   "execution_count": 17,
   "metadata": {},
   "outputs": [],
   "source": [
    "YFP.prop <- as.data.frame(VTA.pseudo[VTA.pseudo$id == \"VTA_YFP\",]$pct.exp)\n",
    "LH.prop <- as.data.frame(VTA.pseudo[VTA.pseudo$id == \"VTA_LH\",]$pct.exp)\n",
    "PFC.prop <- as.data.frame(VTA.pseudo[VTA.pseudo$id == \"VTA_PFC\",]$pct.exp)\n",
    "NAc.prop <- as.data.frame(VTA.pseudo[VTA.pseudo$id == \"VTA_NAc\",]$pct.exp)"
   ]
  },
  {
   "cell_type": "code",
   "execution_count": 18,
   "metadata": {},
   "outputs": [],
   "source": [
    "prop.df <- data.frame(\"YFP\" = YFP.prop,\n",
    "                   \"LH\" = LH.prop,\n",
    "                   \"PFC\" = PFC.prop,\n",
    "                   \"NAc\" = NAc.prop)\n",
    "colnames(prop.df) <- c(\"YFP\",\"LH\",\"PFC\",\"NAc\")"
   ]
  },
  {
   "cell_type": "code",
   "execution_count": null,
   "metadata": {},
   "outputs": [],
   "source": []
  },
  {
   "cell_type": "code",
   "execution_count": 19,
   "metadata": {},
   "outputs": [],
   "source": [
    "#Benjamini-Hochberg\n",
    "Fisher_p_IEG<-vector(mode=\"numeric\",length=0)\n",
    "p_IEG<-vector(mode=\"numeric\", length=0)\n",
    "\n",
    "for (i in 1:length(IEG)){\n",
    "        \n",
    "        temp_con <- subset(ct.df[\"YFP\"])\n",
    "        temp_stim <- subset(ct.df[\"PFC\"])\n",
    "        \n",
    "        test = matrix(c(temp_con[paste(IEG[i],\"_count\",sep=\"\"),], \n",
    "                        temp_con[paste(IEG[i],\"_count_neg\",sep=\"\"),],\n",
    "                        temp_stim[paste(IEG[i],\"_count\",sep=\"\"),],\n",
    "                        temp_stim[paste(IEG[i],\"_count_neg\",sep=\"\"),]), ncol=2)\n",
    "        \n",
    "        test <- matrix(unlist(test), 2)\n",
    "        temp_fisher <- fisher.test(test)\n",
    "        Fisher_p_IEG[i] <- -log2(p.adjust(temp_fisher$p.value, method=c(\"BH\"),n=137))\n",
    "        p_IEG[i] <- c(paste(IEG[i]))\n",
    "    }\n",
    "    \n",
    "Fisher.p.IEG.PFC <- data.frame(\"gene\" = p_IEG,\n",
    "                             \"p.value\" = Fisher_p_IEG)"
   ]
  },
  {
   "cell_type": "code",
   "execution_count": 20,
   "metadata": {},
   "outputs": [],
   "source": [
    "#Benjamini-Hochberg\n",
    "Fisher_p_IEG<-vector(mode=\"numeric\",length=0)\n",
    "p_IEG<-vector(mode=\"numeric\", length=0)\n",
    "\n",
    "for (i in 1:length(IEG)){\n",
    "        \n",
    "        temp_con <- subset(ct.df[\"YFP\"])\n",
    "        temp_stim <- subset(ct.df[\"NAc\"])\n",
    "        \n",
    "        test = matrix(c(temp_con[paste(IEG[i],\"_count\",sep=\"\"),], \n",
    "                        temp_con[paste(IEG[i],\"_count_neg\",sep=\"\"),],\n",
    "                        temp_stim[paste(IEG[i],\"_count\",sep=\"\"),],\n",
    "                        temp_stim[paste(IEG[i],\"_count_neg\",sep=\"\"),]), ncol=2)\n",
    "        \n",
    "        test <- matrix(unlist(test), 2)\n",
    "        temp_fisher <- fisher.test(test)\n",
    "        Fisher_p_IEG[i] <- -log2(p.adjust(temp_fisher$p.value, method=c(\"BH\"),n=137))\n",
    "        p_IEG[i] <- c(paste(IEG[i]))\n",
    "    }\n",
    "    \n",
    "Fisher.p.IEG.NAc <- data.frame(\"gene\" = p_IEG,\n",
    "                             \"p.value\" = Fisher_p_IEG)"
   ]
  },
  {
   "cell_type": "code",
   "execution_count": 21,
   "metadata": {},
   "outputs": [],
   "source": [
    "#Benjamini-Hochberg\n",
    "Fisher_p_IEG<-vector(mode=\"numeric\",length=0)\n",
    "p_IEG<-vector(mode=\"numeric\", length=0)\n",
    "\n",
    "for (i in 1:length(IEG)){\n",
    "        \n",
    "        temp_con <- subset(ct.df[\"YFP\"])\n",
    "        temp_stim <- subset(ct.df[\"LH\"])\n",
    "        \n",
    "        test = matrix(c(temp_con[paste(IEG[i],\"_count\",sep=\"\"),], \n",
    "                        temp_con[paste(IEG[i],\"_count_neg\",sep=\"\"),],\n",
    "                        temp_stim[paste(IEG[i],\"_count\",sep=\"\"),],\n",
    "                        temp_stim[paste(IEG[i],\"_count_neg\",sep=\"\"),]), ncol=2)\n",
    "        \n",
    "        test <- matrix(unlist(test), 2)\n",
    "        temp_fisher <- fisher.test(test)\n",
    "        Fisher_p_IEG[i] <- -log2(p.adjust(temp_fisher$p.value, method=c(\"BH\"),n=137))\n",
    "        p_IEG[i] <- c(paste(IEG[i]))\n",
    "    }\n",
    "    \n",
    "Fisher.p.IEG.LH <- data.frame(\"gene\" = p_IEG,\n",
    "                             \"p.value\" = Fisher_p_IEG)"
   ]
  },
  {
   "cell_type": "code",
   "execution_count": 22,
   "metadata": {},
   "outputs": [],
   "source": [
    "prop.df.PFC <- prop.df[\"PFC\"] - prop.df[\"YFP\"]\n",
    "prop.df.NAc <- prop.df[\"NAc\"] - prop.df[\"YFP\"]\n",
    "prop.df.LH <- prop.df[\"LH\"] - prop.df[\"YFP\"]"
   ]
  },
  {
   "cell_type": "code",
   "execution_count": 23,
   "metadata": {},
   "outputs": [],
   "source": [
    "PFC.pseudo.data <- cbind(Fisher.p.IEG.PFC,prop.df.PFC)\n",
    "NAc.pseudo.data <- cbind(Fisher.p.IEG.NAc,prop.df.NAc)\n",
    "LH.pseudo.data <- cbind(Fisher.p.IEG.LH,prop.df.LH)"
   ]
  },
  {
   "cell_type": "code",
   "execution_count": 24,
   "metadata": {},
   "outputs": [],
   "source": [
    "dir <-vector(mode=\"numeric\", length=0)\n",
    "for (i in 1:length(PFC.pseudo.data$p.value)){\n",
    "    if (PFC.pseudo.data$p.value[i] > 4.31 & PFC.pseudo.data$PFC[i] > 1) {dir[i] <- \"Up\"}\n",
    "    else if (PFC.pseudo.data$p.value[i] > 4.31 & PFC.pseudo.data$PFC[i] < -1) {dir[i] <- \"Down\"}\n",
    "    else {dir[i] <- \"N\"}\n",
    "}\n",
    "\n",
    "PFC.pseudo.data <- cbind(PFC.pseudo.data, dir)"
   ]
  },
  {
   "cell_type": "code",
   "execution_count": 25,
   "metadata": {},
   "outputs": [],
   "source": [
    "dir <-vector(mode=\"numeric\", length=0)\n",
    "for (i in 1:length(NAc.pseudo.data$p.value)){\n",
    "    if (NAc.pseudo.data$p.value[i] > 4.31 & NAc.pseudo.data$NAc[i] > 1) {dir[i] <- \"Up\"}\n",
    "    else if (NAc.pseudo.data$p.value[i] > 4.31 & NAc.pseudo.data$NAc[i] < -1) {dir[i] <- \"Down\"}\n",
    "    else {dir[i] <- \"N\"}\n",
    "}\n",
    "\n",
    "NAc.pseudo.data <- cbind(NAc.pseudo.data, dir)"
   ]
  },
  {
   "cell_type": "code",
   "execution_count": 26,
   "metadata": {},
   "outputs": [],
   "source": [
    "dir <-vector(mode=\"numeric\", length=0)\n",
    "for (i in 1:length(LH.pseudo.data$p.value)){\n",
    "    if (LH.pseudo.data$p.value[i] > 4.31 & LH.pseudo.data$LH[i] > 1) {dir[i] <- \"Up\"}\n",
    "    else if (LH.pseudo.data$p.value[i] > 4.31 & LH.pseudo.data$LH[i] < -1) {dir[i] <- \"Down\"}\n",
    "    else {dir[i] <- \"N\"}\n",
    "}\n",
    "\n",
    "LH.pseudo.data <- cbind(LH.pseudo.data, dir)"
   ]
  },
  {
   "cell_type": "code",
   "execution_count": 27,
   "metadata": {},
   "outputs": [
    {
     "name": "stderr",
     "output_type": "stream",
     "text": [
      "Warning message:\n",
      "\"\u001b[1m\u001b[22mThe `size` argument of `element_line()` is deprecated as of ggplot2 3.4.0.\n",
      "\u001b[36mi\u001b[39m Please use the `linewidth` argument instead.\"\n",
      "Warning message:\n",
      "\"\u001b[1m\u001b[22mUsing `size` aesthetic for lines was deprecated in ggplot2 3.4.0.\n",
      "\u001b[36mi\u001b[39m Please use `linewidth` instead.\"\n",
      "Warning message:\n",
      "\"ggrepel: 74 unlabeled data points (too many overlaps). Consider increasing max.overlaps\"\n"
     ]
    },
    {
     "data": {
      "image/png": "[encoded data removed]",
      "text/plain": [
       "plot without title"
      ]
     },
     "metadata": {
      "image/png": {
       "height": 420,
       "width": 420
      }
     },
     "output_type": "display_data"
    }
   ],
   "source": [
    "ggplot(PFC.pseudo.data, aes(x=PFC, y=p.value, label=gene, color=dir)) +\n",
    "geom_text_repel(size=1.5) +\n",
    "geom_point(size=0.3) +\n",
    "theme_classic() +\n",
    "    theme(axis.line = element_line(size=0.25), \n",
    "         plot.title=element_text(size=7),\n",
    "         axis.text = element_text(size=6),\n",
    "         axis.title = element_text(size=6),\n",
    "         axis.ticks = element_line(size=0.25)) +\n",
    "geom_vline(xintercept=c(-1, 1), col=\"black\", linetype=\"dashed\", size=0.1) +\n",
    "geom_hline(yintercept=4.32, col=\"black\",linetype=\"dashed\", size=0.1) +\n",
    "scale_color_manual(values=c(\"Down\"=\"Blue\",\"N\"=\"Black\",\"Up\"=\"Red\")) +\n",
    "ylab('-log2(p.value)') +\n",
    "xlab('percent.change') +\n",
    "NoLegend()\n",
    "\n"
   ]
  },
  {
   "cell_type": "code",
   "execution_count": 28,
   "metadata": {},
   "outputs": [
    {
     "name": "stderr",
     "output_type": "stream",
     "text": [
      "Warning message:\n",
      "\"ggrepel: 68 unlabeled data points (too many overlaps). Consider increasing max.overlaps\"\n"
     ]
    },
    {
     "data": {
      "image/png": "[encoded data removed]",
      "text/plain": [
       "plot without title"
      ]
     },
     "metadata": {
      "image/png": {
       "height": 420,
       "width": 420
      }
     },
     "output_type": "display_data"
    }
   ],
   "source": [
    "ggplot(NAc.pseudo.data, aes(x=NAc, y=p.value, label=gene, color=dir)) +\n",
    "geom_text_repel(size=1.5) +\n",
    "geom_point(size=0.3) +\n",
    "theme_classic() +\n",
    "    theme(axis.line = element_line(size=0.25), \n",
    "         plot.title=element_text(size=7),\n",
    "         axis.text = element_text(size=6),\n",
    "         axis.title = element_text(size=6),\n",
    "         axis.ticks = element_line(size=0.25)) +\n",
    "geom_vline(xintercept=c(-1, 1), col=\"black\", linetype=\"dashed\", size=0.1) +\n",
    "geom_hline(yintercept=4.32, col=\"black\",linetype=\"dashed\", size=0.1) +\n",
    "scale_color_manual(values=c(\"Down\"=\"Blue\",\"N\"=\"Black\",\"Up\"=\"Red\")) +\n",
    "ylab('-log2(p.value)') +\n",
    "xlab('percent.change') +\n",
    "NoLegend()\n",
    "\n"
   ]
  },
  {
   "cell_type": "code",
   "execution_count": 29,
   "metadata": {},
   "outputs": [
    {
     "name": "stderr",
     "output_type": "stream",
     "text": [
      "Warning message:\n",
      "\"ggrepel: 81 unlabeled data points (too many overlaps). Consider increasing max.overlaps\"\n"
     ]
    },
    {
     "data": {
      "image/png": "[encoded data removed]",
      "text/plain": [
       "plot without title"
      ]
     },
     "metadata": {
      "image/png": {
       "height": 420,
       "width": 420
      }
     },
     "output_type": "display_data"
    }
   ],
   "source": [
    "ggplot(LH.pseudo.data, aes(x=LH, y=p.value, label=gene, color=dir)) +\n",
    "geom_text_repel(size=1.5) +\n",
    "geom_point(size=0.3) +\n",
    "theme_classic() +\n",
    "    theme(axis.line = element_line(size=0.25), \n",
    "         plot.title=element_text(size=7),\n",
    "         axis.text = element_text(size=6),\n",
    "         axis.title = element_text(size=6),\n",
    "         axis.ticks = element_line(size=0.25)) +\n",
    "geom_vline(xintercept=c(-1, 1), col=\"black\", linetype=\"dashed\", size=0.1) +\n",
    "geom_hline(yintercept=4.32, col=\"black\",linetype=\"dashed\", size=0.1) +\n",
    "scale_color_manual(values=c(\"Down\"=\"Blue\",\"N\"=\"Black\",\"Up\"=\"Red\")) +\n",
    "ylab('-log2(p.value)') +\n",
    "xlab('percent.change') +\n",
    "NoLegend()\n",
    "\n"
   ]
  },
  {
   "cell_type": "code",
   "execution_count": null,
   "metadata": {},
   "outputs": [],
   "source": []
  },
  {
   "cell_type": "code",
   "execution_count": null,
   "metadata": {},
   "outputs": [],
   "source": []
  },
  {
   "cell_type": "markdown",
   "metadata": {},
   "source": [
    "### 1. Identifying IEGs that are variable across celltypes and across conditions"
   ]
  },
  {
   "cell_type": "code",
   "execution_count": 30,
   "metadata": {},
   "outputs": [],
   "source": [
    "#manual shortlist of IEGs:\n",
    "IEGs<-c(\"Fos\", \"Fosb\", \"Fosl1\",\"Fosl2\", \"Jun\", \"Junb\", \"Jund\", \"Egr1\", \"Homer1\", \"Bdnf\", \"Crem\", \"Arc\", \"Myc\")"
   ]
  },
  {
   "cell_type": "markdown",
   "metadata": {},
   "source": [
    "We're going to focus on identifying variable IEGs based on the proportion of cells they're expressed in. This is because some IEGs may be too sparse to detect expression differences, so proprtion of cells may be a more sensitive measurement."
   ]
  },
  {
   "cell_type": "code",
   "execution_count": 31,
   "metadata": {},
   "outputs": [],
   "source": [
    "#predefined list of celltypes\n",
    "Cell_type <- c(\"Glu1\",\"CoEx1\",\"Gaba1\",\"DA1\",\"DA2\",\"Gaba2\",\"Glu2\",\"Glu3\",\"Glu4\",\"DA3\",\"Glu5\",\"Glu6\",\"Glu7\",\"CoEx2\",\"CoEx3\",\"Gaba3\",\"Gaba4\")"
   ]
  },
  {
   "cell_type": "code",
   "execution_count": 32,
   "metadata": {},
   "outputs": [],
   "source": [
    "#splitting seurat object based on groups\n",
    "VTA.YFP.sub <- subset(VTA.integrated, cells=colnames(VTA_YFP))\n",
    "VTA.LH.sub <- subset(VTA.integrated, cells=colnames(VTA_LH))\n",
    "VTA.NAc.sub <- subset(VTA.integrated, cells=colnames(VTA_NAc))\n",
    "VTA.PFC.sub <- subset(VTA.integrated, cells=colnames(VTA_PFC))"
   ]
  },
  {
   "cell_type": "code",
   "execution_count": 33,
   "metadata": {},
   "outputs": [],
   "source": [
    "#Pulling dfs of percent expressed across celltypes and conditions\n",
    "YFP.df <- DotPlot(VTA.YFP.sub, features=IEGs, scale=FALSE)$data[c('features.plot','id','pct.exp')]\n",
    "YFP.df <- reshape(YFP.df, idvar = \"id\", timevar='features.plot', direction = \"wide\")[2:14]\n",
    "colnames(YFP.df) <- IEGs\n",
    "rownames(YFP.df) <- Cell_type\n",
    "\n",
    "LH.df <- DotPlot(VTA.LH.sub, features=IEGs, scale=FALSE)$data[c('features.plot','id','pct.exp')]\n",
    "LH.df <- reshape(LH.df, idvar = \"id\", timevar='features.plot', direction = \"wide\")[2:14]\n",
    "colnames(LH.df) <- IEGs\n",
    "rownames(LH.df) <- Cell_type\n",
    "\n",
    "NAc.df <- DotPlot(VTA.NAc.sub, features=IEGs, scale=FALSE)$data[c('features.plot','id','pct.exp')]\n",
    "NAc.df <- reshape(NAc.df, idvar = \"id\", timevar='features.plot', direction = \"wide\")[2:14]\n",
    "colnames(NAc.df) <- IEGs\n",
    "rownames(NAc.df) <- Cell_type\n",
    "\n",
    "PFC.df <- DotPlot(VTA.PFC.sub, features=IEGs, scale=FALSE)$data[c('features.plot','id','pct.exp')]\n",
    "PFC.df <- reshape(PFC.df, idvar = \"id\", timevar='features.plot', direction = \"wide\")[2:14]\n",
    "colnames(PFC.df) <- IEGs\n",
    "rownames(PFC.df) <- Cell_type"
   ]
  },
  {
   "cell_type": "code",
   "execution_count": 34,
   "metadata": {},
   "outputs": [],
   "source": [
    "filepath<-'./'\n",
    "\n",
    "write.xlsx2(YFP.df,file=paste0(filepath, 'YFP_IEGpct.xlsx'))\n",
    "write.xlsx2(PFC.df,file=paste0(filepath, 'PFC_IEGpct.xlsx'))\n",
    "write.xlsx2(NAc.df,file=paste0(filepath, 'NAc_IEGpct.xlsx'))\n",
    "write.xlsx2(LH.df,file=paste0(filepath, 'LH_IEGpct.xlsx'))"
   ]
  },
  {
   "cell_type": "markdown",
   "metadata": {},
   "source": [
    "We will first take a measure of variance of each IEG across all celltypes to get a sense of genes expressed in a cell-type-specific manner"
   ]
  },
  {
   "cell_type": "code",
   "execution_count": 35,
   "metadata": {
    "scrolled": true
   },
   "outputs": [],
   "source": [
    "#Taking the SD of IEG expression among celltypes. Scaling for easier comparison across groups\n",
    "YFP.var <- data.frame(apply(YFP.df, FUN=sd, MARGIN=2))\n",
    "YFP.var<-scale(YFP.var)\n",
    "\n",
    "LH.var <- data.frame(apply(LH.df, FUN=sd, MARGIN=2))\n",
    "LH.var<-scale(LH.var)\n",
    "\n",
    "PFC.var <- data.frame(apply(PFC.df, FUN=sd, MARGIN=2))\n",
    "PFC.var<-scale(PFC.var)\n",
    "\n",
    "NAc.var <- data.frame(apply(NAc.df, FUN=sd, MARGIN=2))\n",
    "NAc.var<-scale(NAc.var)"
   ]
  },
  {
   "cell_type": "code",
   "execution_count": 36,
   "metadata": {},
   "outputs": [],
   "source": [
    "#Now the means\n",
    "YFP.mean <- data.frame(apply(YFP.df, FUN=mean, MARGIN=2))\n",
    "\n",
    "LH.mean <- data.frame(apply(LH.df, FUN=mean, MARGIN=2))\n",
    "\n",
    "PFC.mean <- data.frame(apply(PFC.df, FUN=mean, MARGIN=2))\n",
    "\n",
    "NAc.mean <- data.frame(apply(NAc.df, FUN=mean, MARGIN=2))"
   ]
  },
  {
   "cell_type": "code",
   "execution_count": 37,
   "metadata": {},
   "outputs": [],
   "source": [
    "#creating df celltype variances\n",
    "celltype.var<-data.frame(cbind(YFP.mean, YFP.var))\n",
    "colnames(celltype.var) <- c('mean','var')"
   ]
  },
  {
   "cell_type": "code",
   "execution_count": 38,
   "metadata": {
    "collapsed": true
   },
   "outputs": [
    {
     "data": {
      "image/png": "[encoded data removed]",
      "text/plain": [
       "plot without title"
      ]
     },
     "metadata": {
      "image/png": {
       "height": 420,
       "width": 420
      }
     },
     "output_type": "display_data"
    }
   ],
   "source": [
    "#plotting\n",
    "ggplot(celltype.var, aes(x=mean, y=var, label=rownames(celltype.var)) ) +\n",
    "    geom_point(size=2) +\n",
    "    geom_text_repel(size=6) +\n",
    "    theme_classic() +\n",
    "    theme(axis.line = element_line(size=0.25), \n",
    "         plot.title=element_text(size=10),\n",
    "         axis.text = element_text(size=10),\n",
    "         axis.title = element_text(size=10),\n",
    "         axis.ticks = element_line(size=0.25)) +\n",
    "#ylim(c(NA,2))+\n",
    "xlab('% Cells expressing at basal') +\n",
    "ylab('Z scored variance across celltypes')"
   ]
  },
  {
   "cell_type": "markdown",
   "metadata": {},
   "source": [
    "Now we will take the variance of each IEG across conditions so we can get an idea of genes that are induced by optogenetic stimulation"
   ]
  },
  {
   "cell_type": "code",
   "execution_count": 39,
   "metadata": {},
   "outputs": [],
   "source": [
    "stim.var <- data.frame('YFP' = (apply(YFP.df, FUN=mean, MARGIN=2)),\n",
    "           'LH' = (apply(LH.df, FUN=mean, MARGIN=2)),\n",
    "           'PFC' = (apply(PFC.df, FUN=mean, MARGIN=2)),\n",
    "           'NAc' = (apply(NAc.df, FUN=mean, MARGIN=2)))\n",
    "stim.var <- data.frame(scale(apply(stim.var, FUN=sd, MARGIN=1)))\n",
    "#stim.var"
   ]
  },
  {
   "cell_type": "code",
   "execution_count": 40,
   "metadata": {},
   "outputs": [],
   "source": [
    "#df of the variance across conditions\n",
    "condition.var <- cbind(YFP.mean, stim.var)\n",
    "colnames(condition.var) <- c('mean','var')"
   ]
  },
  {
   "cell_type": "code",
   "execution_count": 41,
   "metadata": {
    "collapsed": true
   },
   "outputs": [
    {
     "data": {
      "image/png": "[encoded data removed]",
      "text/plain": [
       "plot without title"
      ]
     },
     "metadata": {
      "image/png": {
       "height": 420,
       "width": 420
      }
     },
     "output_type": "display_data"
    }
   ],
   "source": [
    "ggplot(condition.var, aes(x=mean, y=var, label=rownames(celltype.var)) ) +\n",
    "    geom_point(size=2) +\n",
    "    geom_text_repel(size=6) +\n",
    "    theme_classic() +\n",
    "    theme(axis.line = element_line(size=0.25), \n",
    "         plot.title=element_text(size=10),\n",
    "         axis.text = element_text(size=10),\n",
    "         axis.title = element_text(size=10),\n",
    "         axis.ticks = element_line(size=0.25)) +\n",
    "xlab('% Cells expressing at basal') +\n",
    "ylab('Z scored variance across groups')"
   ]
  },
  {
   "cell_type": "code",
   "execution_count": 42,
   "metadata": {},
   "outputs": [],
   "source": [
    "#plot celltype variability vs stim condition variability\n",
    "bothvar<-cbind(celltype.var, condition.var)\n",
    "colnames(bothvar)<-c('mean','celltype_var','mean2','condition_var')"
   ]
  },
  {
   "cell_type": "code",
   "execution_count": 43,
   "metadata": {},
   "outputs": [
    {
     "data": {
      "image/png": "[encoded data removed]",
      "text/plain": [
       "plot without title"
      ]
     },
     "metadata": {
      "image/png": {
       "height": 420,
       "width": 420
      }
     },
     "output_type": "display_data"
    }
   ],
   "source": [
    "ggplot(bothvar, aes(x=celltype_var, y=condition_var, label=rownames(bothvar)) ) +\n",
    "    geom_point(size=2) +\n",
    "    geom_text_repel(size=6) +\n",
    "    theme_classic() +\n",
    "    theme(axis.line = element_line(size=0.25), \n",
    "         plot.title=element_text(size=10),\n",
    "         axis.text = element_text(size=10),\n",
    "         axis.title = element_text(size=10),\n",
    "         axis.ticks = element_line(size=0.25)) +\n",
    "xlab('Z scored variance across celltypes') +\n",
    "ylab('Z scored variance across groups')"
   ]
  },
  {
   "cell_type": "code",
   "execution_count": null,
   "metadata": {},
   "outputs": [],
   "source": []
  },
  {
   "cell_type": "markdown",
   "metadata": {},
   "source": [
    "### 2. Identifying celltypes that are activated in each condition "
   ]
  },
  {
   "cell_type": "code",
   "execution_count": 44,
   "metadata": {},
   "outputs": [],
   "source": [
    "#Generating a df that contains only the shortlist of IEGs. We are going to use it to calculate the proportion of cells expressing each gene, then take the difference between conditions\n",
    "\n",
    "VTA_LFG_sub <- subset(VTA.integrated, Fos > 0 | Fosb > 0 | Fosl1 > 0 | Fosl2 > 0 | Jun > 0 | Junb > 0 | Jund > 0 | Egr1 > 0 | Homer1 > 0 | Bdnf > 0 | Crem > 0 | Arc > 0 | Myc > 0)\n",
    "VTA.LFG.table <- data.frame(table(Idents(VTA_LFG_sub), VTA_LFG_sub$stim))\n",
    "VTA.integrated.table <- data.frame(table(Idents(VTA.integrated), VTA.integrated$stim))\n",
    "VTA.LFG.table$Freq <- VTA.LFG.table$Freq/VTA.integrated.table$Freq"
   ]
  },
  {
   "cell_type": "code",
   "execution_count": 45,
   "metadata": {},
   "outputs": [],
   "source": [
    "VTA.pct.YFP <- VTA.LFG.table[VTA.LFG.table$Var2 == 'VTA_YFP',]\n",
    "VTA.pct.LH <- VTA.LFG.table[VTA.LFG.table$Var2 == 'VTA_LH',]\n",
    "VTA.pct.NAc <- VTA.LFG.table[VTA.LFG.table$Var2 == 'VTA_NAc',]\n",
    "VTA.pct.PFC <- VTA.LFG.table[VTA.LFG.table$Var2 == 'VTA_PFC',]"
   ]
  },
  {
   "cell_type": "code",
   "execution_count": 46,
   "metadata": {},
   "outputs": [],
   "source": [
    "#Subtracting stim conditions from the control\n",
    "LH.plot <- data.frame((VTA.pct.LH$Freq-VTA.pct.YFP$Freq))\n",
    "LH.plot$id <- VTA.pct.LH$Var1\n",
    "colnames(LH.plot) <- c(\"plot.change\",\"id\")\n",
    "\n",
    "NAc.plot <- data.frame((VTA.pct.NAc$Freq-VTA.pct.YFP$Freq))\n",
    "NAc.plot$id <- VTA.pct.NAc$Var1\n",
    "colnames(NAc.plot) <- c(\"plot.change\",\"id\")\n",
    "\n",
    "PFC.plot <- data.frame((VTA.pct.PFC$Freq-VTA.pct.YFP$Freq))\n",
    "PFC.plot$id <- VTA.pct.PFC$Var1\n",
    "colnames(PFC.plot) <- c(\"plot.change\",\"id\")"
   ]
  },
  {
   "cell_type": "markdown",
   "metadata": {},
   "source": [
    "Now that we've calculated the proportion of neurons expressing each given gene, we can test for significance using the Fisher P Test"
   ]
  },
  {
   "cell_type": "code",
   "execution_count": 47,
   "metadata": {
    "scrolled": true
   },
   "outputs": [],
   "source": [
    "all <- data.frame(table(Idents(VTA.integrated), VTA.integrated$stim))\n",
    "subset <- data.frame(table(Idents(VTA_LFG_sub), VTA_LFG_sub$stim))\n",
    "obs <- cbind(subset, all$Freq)\n",
    "colnames(obs) <- c(\"id\",'stim','pos','all')\n",
    "obs$neg <- obs$all - obs$pos"
   ]
  },
  {
   "cell_type": "code",
   "execution_count": 48,
   "metadata": {
    "scrolled": true
   },
   "outputs": [],
   "source": [
    "#creating test matrices\n",
    "Fisher_p_IEG_LH <- vector()\n",
    "\n",
    "for (i in 1:length(Cell_type)){\n",
    "    \n",
    "    con <- subset(obs, stim == 'VTA_YFP' & id == obs$id[i])\n",
    "    stim <- subset(obs, stim == 'VTA_LH' & id == obs$id[i])\n",
    "\n",
    "    test = matrix(c(con$pos, \n",
    "                    con$neg,\n",
    "                    stim$pos,\n",
    "                    stim$neg), ncol=2)\n",
    "        \n",
    "    test <- matrix(unlist(test), 2)\n",
    "    temp_fisher <- fisher.test(test)\n",
    "    Fisher_p_IEG_LH[i] <- -log2(temp_fisher$p.value )\n",
    "    \n",
    "}"
   ]
  },
  {
   "cell_type": "code",
   "execution_count": 49,
   "metadata": {
    "scrolled": true
   },
   "outputs": [],
   "source": [
    "Fisher_p_IEG_NAc <- vector()\n",
    "\n",
    "for (i in 1:length(Cell_type)){\n",
    "    \n",
    "    con <- subset(obs, stim == 'VTA_YFP' & id == obs$id[i])\n",
    "    stim <- subset(obs, stim == 'VTA_NAc' & id == obs$id[i])\n",
    "\n",
    "    test = matrix(c(con$pos, \n",
    "                    con$neg,\n",
    "                    stim$pos,\n",
    "                    stim$neg), ncol=2)\n",
    "        \n",
    "    test <- matrix(unlist(test), 2)\n",
    "    temp_fisher <- fisher.test(test)\n",
    "    Fisher_p_IEG_NAc[i] <- -log2(temp_fisher$p.value )\n",
    "    \n",
    "}"
   ]
  },
  {
   "cell_type": "code",
   "execution_count": 50,
   "metadata": {
    "scrolled": true
   },
   "outputs": [],
   "source": [
    "Fisher_p_IEG_PFC <- vector()\n",
    "\n",
    "for (i in 1:length(Cell_type)){\n",
    "    \n",
    "    con <- subset(obs, stim == 'VTA_YFP' & id == obs$id[i])\n",
    "    stim <- subset(obs, stim == 'VTA_PFC' & id == obs$id[i])\n",
    "\n",
    "    test = matrix(c(con$pos, \n",
    "                    con$neg,\n",
    "                    stim$pos,\n",
    "                    stim$neg), ncol=2)\n",
    "        \n",
    "    test <- matrix(unlist(test), 2)\n",
    "    temp_fisher <- fisher.test(test)\n",
    "    Fisher_p_IEG_PFC[i] <- -log2(temp_fisher$p.value) \n",
    "    \n",
    "}"
   ]
  },
  {
   "cell_type": "code",
   "execution_count": 51,
   "metadata": {},
   "outputs": [],
   "source": [
    "NAc.plot <- cbind(NAc.plot, Fisher_p_IEG_NAc)\n",
    "NAc.plot$sig <- ifelse(NAc.plot$Fisher_p_IEG_NAc > -log2(0.05), \"red\", \"black\")\n",
    "LH.plot <- cbind(LH.plot, Fisher_p_IEG_LH)\n",
    "LH.plot$sig <- ifelse(LH.plot$Fisher_p_IEG_LH > -log2(0.05), \"red\", \"black\")\n",
    "PFC.plot <- cbind(PFC.plot, Fisher_p_IEG_PFC)\n",
    "PFC.plot$sig <- ifelse(PFC.plot$Fisher_p_IEG_PFC > -log2(0.05), \"red\", \"black\")"
   ]
  },
  {
   "cell_type": "code",
   "execution_count": 52,
   "metadata": {
    "scrolled": true
   },
   "outputs": [
    {
     "name": "stderr",
     "output_type": "stream",
     "text": [
      "Warning message:\n",
      "\"\u001b[1m\u001b[22mThe `size` argument of `element_rect()` is deprecated as of ggplot2 3.4.0.\n",
      "\u001b[36mi\u001b[39m Please use the `linewidth` argument instead.\"\n"
     ]
    },
    {
     "data": {
      "image/png": "[encoded data removed]",
      "text/plain": [
       "plot without title"
      ]
     },
     "metadata": {
      "image/png": {
       "height": 420,
       "width": 420
      }
     },
     "output_type": "display_data"
    }
   ],
   "source": [
    "ggplot(NAc.plot, aes(x=plot.change*100, y=Fisher_p_IEG_NAc, label=id)) +\n",
    "    ggtitle(\"NAc vs YFP\") +\n",
    "    geom_point(size=2, color=NAc.plot$sig) + \n",
    "    scale_color_manual(values = c(\"TRUE\" = \"red\", \"FALSE\" = \"black\")) +\n",
    "    geom_text_repel(size=6) +\n",
    "    theme_classic() + \n",
    "    theme(axis.line = element_blank(), \n",
    "         plot.title=element_text(size=6),\n",
    "         panel.background = element_rect(colour = \"black\", size=.25, fill=NA),\n",
    "         axis.text = element_text(size=6),\n",
    "         axis.title = element_text(size=6),\n",
    "         axis.ticks = element_line(size=0.25))+\n",
    "    xlab(\"Percent change\") + \n",
    "    ylab(\"-log2(p-value)\") #+\n",
    "    #geom_vline(xintercept = 0, linetype='dashed', size=.25)\n"
   ]
  },
  {
   "cell_type": "code",
   "execution_count": 53,
   "metadata": {
    "scrolled": true
   },
   "outputs": [
    {
     "data": {
      "image/png": "[encoded data removed]",
      "text/plain": [
       "plot without title"
      ]
     },
     "metadata": {
      "image/png": {
       "height": 420,
       "width": 420
      }
     },
     "output_type": "display_data"
    }
   ],
   "source": [
    "ggplot(LH.plot, aes(x=plot.change*100, y=Fisher_p_IEG_LH, label=id)) +\n",
    "    ggtitle(\"LH vs YFP\") +\n",
    "    geom_point(size=2, color=LH.plot$sig) + \n",
    "    scale_color_manual(values = c(\"TRUE\" = \"red\", \"FALSE\" = \"black\")) +\n",
    "    geom_text_repel(size=6) +\n",
    "    theme_classic() + \n",
    "    theme(axis.line = element_blank(), \n",
    "         plot.title=element_text(size=6),\n",
    "         panel.background = element_rect(colour = \"black\", size=.25, fill=NA),\n",
    "         axis.text = element_text(size=6),\n",
    "         axis.title = element_text(size=6),\n",
    "         axis.ticks = element_line(size=0.25))+\n",
    "    xlab(\"Percent change\") + \n",
    "    ylab(\"-log2(p-value)\") #+\n",
    "    #geom_vline(xintercept = 0, linetype='dashed', size=.25)\n"
   ]
  },
  {
   "cell_type": "code",
   "execution_count": 54,
   "metadata": {
    "scrolled": true
   },
   "outputs": [
    {
     "data": {
      "image/png": "[encoded data removed]",
      "text/plain": [
       "plot without title"
      ]
     },
     "metadata": {
      "image/png": {
       "height": 420,
       "width": 420
      }
     },
     "output_type": "display_data"
    }
   ],
   "source": [
    "ggplot(PFC.plot, aes(x=plot.change*100, y=Fisher_p_IEG_PFC, label=id)) +\n",
    "    ggtitle(\"PFC vs YFP\") +\n",
    "    geom_point(size=2, color=PFC.plot$sig) + \n",
    "    scale_color_manual(values = c(\"TRUE\" = \"red\", \"FALSE\" = \"black\")) +\n",
    "    geom_text_repel(size=6) +\n",
    "    theme_classic() + \n",
    "    theme(axis.line = element_blank(), \n",
    "         plot.title=element_text(size=6),\n",
    "         panel.background = element_rect(colour = \"black\", size=.25, fill=NA),\n",
    "         axis.text = element_text(size=6),\n",
    "         axis.title = element_text(size=6),\n",
    "         axis.ticks = element_line(size=0.25))+\n",
    "    xlab(\"Percent change\") + \n",
    "    ylab(\"-log2(p-value)\") #+\n",
    "    #geom_vline(xintercept = 0, linetype='dashed', size=.25)\n"
   ]
  },
  {
   "cell_type": "code",
   "execution_count": null,
   "metadata": {},
   "outputs": [],
   "source": []
  },
  {
   "cell_type": "markdown",
   "metadata": {},
   "source": [
    "## Correlation heatmaps"
   ]
  },
  {
   "cell_type": "code",
   "execution_count": 55,
   "metadata": {},
   "outputs": [],
   "source": [
    "AllIEGs <- read.xlsx(\"./IEG list.xlsx\",sheetIndex=1,header=FALSE)\n",
    "  \n",
    "AllIEGlist<-AllIEGs$X1 \n",
    "\n",
    "#Or use short list\n",
    "#AllIEGlist<-c(\"Fos\", \"Fosb\", \"Fosl1\",\"Fosl2\", \"Jun\", \"Junb\", \"Jund\", \"Egr1\", \"Homer1\", \"Bdnf\", \"Crem\", \"Arc\", \"Myc\")"
   ]
  },
  {
   "cell_type": "code",
   "execution_count": 56,
   "metadata": {},
   "outputs": [],
   "source": [
    "#Renaming clusters to condense into DA, Glu, GABA, CoEx\n",
    "\n",
    "new.ident <- c(\"Glu\",\"CoEx\",\"Gaba\",\"DA\",\"DA\",\"Gaba\",\"Glu\",\"Glu\",\"Glu\",\"DA\",\"Glu\",\"Glu\",\"Glu\",\"CoEx\",\"CoEx\",\"Gaba\",\"Gaba\")\n",
    "names(x = new.ident) <- levels(x =VTA.integrated)\n",
    "VTA.integrated<- RenameIdents(object =VTA.integrated, new.ident)"
   ]
  },
  {
   "cell_type": "code",
   "execution_count": 57,
   "metadata": {},
   "outputs": [
    {
     "data": {
      "text/plain": [
       "\n",
       " Glu CoEx Gaba   DA \n",
       "4243 1373 1714 2006 "
      ]
     },
     "metadata": {},
     "output_type": "display_data"
    }
   ],
   "source": [
    "#Checking number of cells in each new cluster. Make sure this matches sum of original clusters.\n",
    "table(Idents(VTA.integrated))"
   ]
  },
  {
   "cell_type": "code",
   "execution_count": 58,
   "metadata": {},
   "outputs": [],
   "source": [
    "#Get expression data for YFP and for stim of your choice. Calc log2FC for each gene.\n",
    "#removing genes not expressed in all groups in all conditions\n",
    "\n",
    "con <- (data.frame(AverageExpression(subset(VTA.integrated, cells=colnames(VTA_YFP)), features=AllIEGlist, assay='RNA')[1]))\n",
    "stim_PFC <- (data.frame(AverageExpression(subset(VTA.integrated, cells=colnames(VTA_PFC)), features=AllIEGlist, assay='RNA')[1]))\n",
    "stim_LH <- (data.frame(AverageExpression(subset(VTA.integrated, cells=colnames(VTA_LH)), features=AllIEGlist, assay='RNA')[1]))\n",
    "stim_NAc <- (data.frame(AverageExpression(subset(VTA.integrated, cells=colnames(VTA_NAc)), features=AllIEGlist, assay='RNA')[1]))\n",
    "\n",
    "#eliminate rows from each dataframe containing zeroes\n",
    "row_sub = apply(con, 1, function(row) all(row !=0 ))\n",
    "con<-con[row_sub,]\n",
    "                \n",
    "row_sub = apply(stim_PFC, 1, function(row) all(row !=0 ))\n",
    "stim_PFC<-stim_PFC[row_sub,]\n",
    "                \n",
    "row_sub = apply(stim_NAc, 1, function(row) all(row !=0 ))\n",
    "stim_NAc<-stim_NAc[row_sub,]\n",
    "                \n",
    "row_sub = apply(stim_LH, 1, function(row) all(row !=0 ))\n",
    "stim_LH<-stim_LH[row_sub,]\n",
    "\n",
    "#get list of rownames from each dataframe and find intersecting list\n",
    "keeperscon<-rownames(con)\n",
    "keepersPFC<-rownames(stim_PFC)\n",
    "keepersNAc<-rownames(stim_NAc)\n",
    "keepersLH<-rownames(stim_LH)\n",
    "\n",
    "keepers<-Reduce(intersect, list(keeperscon, keepersPFC, keepersNAc, keepersLH))\n",
    "\n",
    "#keeping only rows with no zeroes anywhere\n",
    "con<-con[keepers,]\n",
    "stim_PFC<-stim_PFC[keepers,]\n",
    "stim_NAc<-stim_NAc[keepers,]\n",
    "stim_LH<-stim_LH[keepers,]\n",
    "\n",
    "deltaPFC<-log2(stim_PFC) - log2(con)\n",
    "deltaLH<-log2(stim_LH) - log2(con)\n",
    "deltaNAc<-log2(stim_NAc) - log2(con)"
   ]
  },
  {
   "cell_type": "code",
   "execution_count": 59,
   "metadata": {},
   "outputs": [],
   "source": [
    "#Define columns of subtracted dataframe\n",
    "Cell_type_2 <- c('Glu','CoEx','Gaba','DA')\n",
    "\n",
    "colnames(deltaPFC) <- Cell_type_2\n",
    "colnames(deltaLH) <- Cell_type_2\n",
    "colnames(deltaNAc) <- Cell_type_2\n",
    "\n",
    "#for raw data, not log2FC\n",
    "colnames(stim_PFC)<-Cell_type_2\n",
    "colnames(stim_NAc)<-Cell_type_2\n",
    "colnames(stim_LH)<-Cell_type_2"
   ]
  },
  {
   "cell_type": "code",
   "execution_count": 60,
   "metadata": {},
   "outputs": [],
   "source": [
    "deltaPFC$id <- rownames(deltaPFC)\n",
    "deltaNAc$id <- rownames(deltaNAc)\n",
    "deltaLH$id <- rownames(deltaLH)"
   ]
  },
  {
   "cell_type": "code",
   "execution_count": 61,
   "metadata": {},
   "outputs": [],
   "source": [
    "#generating dataframes that will be used for correlation\n",
    "\n",
    "NAc_expr<-deltaNAc[1:4]\n",
    "PFC_expr<-deltaPFC[1:4]\n",
    "LH_expr<-deltaLH[1:4]\n",
    "\n",
    "colnames(NAc_expr)<-c('NAc.Glu','NAc.CoEx','NAc.GABA','NAc.DA')\n",
    "colnames(PFC_expr)<-c('PFC.Glu','PFC.CoEx','PFC.GABA','PFC.DA')\n",
    "colnames(LH_expr)<-c('LH.Glu','LH.CoEx','LH.GABA','LH.DA')\n"
   ]
  },
  {
   "cell_type": "code",
   "execution_count": 62,
   "metadata": {},
   "outputs": [],
   "source": [
    "#combine expression data\n",
    "allinputs<-cbind(PFC_expr, NAc_expr, LH_expr)\n",
    "#write.xlsx2(allinputs, './alliegs_allinputs.xlsx')"
   ]
  },
  {
   "cell_type": "code",
   "execution_count": 63,
   "metadata": {},
   "outputs": [],
   "source": [
    "#run correlation analysis\n",
    "\n",
    "allinputs.cor<-cor(allinputs, use = \"complete.obs\", method = 'pearson')\n",
    "#write.xlsx2(allinputs.cor, './correlation.xlsx')"
   ]
  },
  {
   "cell_type": "code",
   "execution_count": 64,
   "metadata": {},
   "outputs": [
    {
     "data": {
      "image/png": "[encoded data removed]",
      "text/plain": [
       "Plot with title \"Color Key\""
      ]
     },
     "metadata": {
      "image/png": {
       "height": 420,
       "width": 420
      }
     },
     "output_type": "display_data"
    }
   ],
   "source": [
    "mybreaks<-c(seq(0,1, length.out=101))\n",
    "palette <- colorRampPalette(rev(brewer.pal(10, \"RdYlBu\")))(100)\n",
    "\n",
    "heatmap.2(x=allinputs.cor, symm=TRUE, col=palette, key=TRUE, trace='none', revC=TRUE, density.info='none' \n",
    "\n",
    "       )"
   ]
  },
  {
   "cell_type": "markdown",
   "metadata": {},
   "source": [
    "### Normalized expression of shortlist IEGs"
   ]
  },
  {
   "cell_type": "code",
   "execution_count": 65,
   "metadata": {},
   "outputs": [],
   "source": [
    "#list of IEGs\n",
    "IEGs<-c('Fos', 'Fosb', 'Fosl1', 'Fosl2', 'Jun', 'Junb', 'Jund', 'Egr1', 'Homer1', 'Bdnf', 'Crem', 'Arc', 'Myc')"
   ]
  },
  {
   "cell_type": "code",
   "execution_count": 66,
   "metadata": {
    "collapsed": true
   },
   "outputs": [
    {
     "name": "stderr",
     "output_type": "stream",
     "text": [
      "Warning message:\n",
      "\"Cannot find identity NA\"\n",
      "Warning message:\n",
      "\"Cannot find identity NA\"\n",
      "Warning message:\n",
      "\"Cannot find identity NA\"\n",
      "Warning message:\n",
      "\"Cannot find identity NA\"\n",
      "Warning message:\n",
      "\"Cannot find identity NA\"\n",
      "Warning message:\n",
      "\"Cannot find identity NA\"\n",
      "Warning message:\n",
      "\"Cannot find identity NA\"\n",
      "Warning message:\n",
      "\"Cannot find identity NA\"\n",
      "Warning message:\n",
      "\"Cannot find identity NA\"\n",
      "Warning message:\n",
      "\"Cannot find identity NA\"\n",
      "Warning message:\n",
      "\"Cannot find identity NA\"\n",
      "Warning message:\n",
      "\"Cannot find identity NA\"\n",
      "Warning message:\n",
      "\"Cannot find identity NA\"\n"
     ]
    }
   ],
   "source": [
    "#Renaming clusters to condense into DA, Glu, GABA, CoEx (if you didn't run this already above)\n",
    "new.ident <- c(\"Glu\",\"CoEx\",\"Gaba\",\"DA\",\"DA\",\"Gaba\",\"Glu\",\"Glu\",\"Glu\",\"DA\",\"Glu\",\"Glu\",\"Glu\",\"CoEx\",\"CoEx\",\"Gaba\",\"Gaba\")\n",
    "names(x = new.ident) <- levels(x =VTA.integrated)\n",
    "VTA.integrated<- RenameIdents(object =VTA.integrated, new.ident)"
   ]
  },
  {
   "cell_type": "code",
   "execution_count": 67,
   "metadata": {},
   "outputs": [
    {
     "data": {
      "text/plain": [
       "\n",
       " Glu CoEx Gaba   DA \n",
       "4243 1373 1714 2006 "
      ]
     },
     "metadata": {},
     "output_type": "display_data"
    }
   ],
   "source": [
    "#Checking number of cells in each new cluster. Make sure this matches sum of original clusters.\n",
    "table(Idents(VTA.integrated))"
   ]
  },
  {
   "cell_type": "code",
   "execution_count": 68,
   "metadata": {},
   "outputs": [],
   "source": [
    "#Get expression data for YFP and for stims. Calc log2FC from YFP.\n",
    "\n",
    "con <- (data.frame(AverageExpression(subset(VTA.integrated, cells=colnames(VTA_YFP)), features=IEGs, assay='RNA')[1]))\n",
    "stim_PFC <- (data.frame(AverageExpression(subset(VTA.integrated, cells=colnames(VTA_PFC)), features=IEGs, assay='RNA')[1]))\n",
    "stim_LH <- (data.frame(AverageExpression(subset(VTA.integrated, cells=colnames(VTA_LH)), features=IEGs, assay='RNA')[1]))\n",
    "stim_NAc <- (data.frame(AverageExpression(subset(VTA.integrated, cells=colnames(VTA_NAc)), features=IEGs, assay='RNA')[1]))\n",
    "\n",
    "deltaPFC13<-log2(stim_PFC) - log2(con)\n",
    "deltaLH13<-log2(stim_LH) - log2(con)\n",
    "deltaNAc13<-log2(stim_NAc) - log2(con)"
   ]
  },
  {
   "cell_type": "code",
   "execution_count": 69,
   "metadata": {},
   "outputs": [],
   "source": [
    "#Define columns of subtracted dataframe\n",
    "Cell_type_2 <- c('Glu','CoEx','GABA','DA')\n",
    "\n",
    "colnames(deltaPFC13) <- Cell_type_2\n",
    "colnames(deltaLH13) <- Cell_type_2\n",
    "colnames(deltaNAc13) <- Cell_type_2"
   ]
  },
  {
   "cell_type": "code",
   "execution_count": 70,
   "metadata": {},
   "outputs": [],
   "source": [
    "#normalizing\n",
    "\n",
    "deltaPFC13<-as.data.frame(apply(deltaPFC13,2,function(x){x/max(x)}))\n",
    "deltaNAc13<-as.data.frame(apply(deltaNAc13,2,function(x){x/max(x)}))\n",
    "deltaLH13<-as.data.frame(apply(deltaLH13,2,function(x){x/max(x)}))"
   ]
  },
  {
   "cell_type": "code",
   "execution_count": 71,
   "metadata": {
    "collapsed": true
   },
   "outputs": [
    {
     "name": "stderr",
     "output_type": "stream",
     "text": [
      "Using id as id variables\n",
      "\n",
      "Using id as id variables\n",
      "\n",
      "Using id as id variables\n",
      "\n"
     ]
    }
   ],
   "source": [
    "deltaPFC13$id <- rownames(deltaPFC13)\n",
    "deltaNAc13$id <- rownames(deltaNAc13)\n",
    "deltaLH13$id <- rownames(deltaLH13)\n",
    "\n",
    "deltaPFC13 <- melt(deltaPFC13)\n",
    "deltaNAc13 <- melt(deltaNAc13)\n",
    "deltaLH13 <- melt(deltaLH13)\n",
    "\n",
    "deltaPFC13$variable <- factor(deltaPFC13$variable, levels=c('DA','Glu','GABA','CoEx'))\n",
    "deltaNAc13$variable <- factor(deltaNAc13$variable, levels=c('DA','Glu','GABA','CoEx'))\n",
    "deltaLH13$variable <- factor(deltaLH13$variable, levels=c('DA','Glu','GABA','CoEx'))"
   ]
  },
  {
   "cell_type": "code",
   "execution_count": 72,
   "metadata": {
    "scrolled": true
   },
   "outputs": [
    {
     "data": {
      "image/png": "[encoded data removed]",
      "text/plain": [
       "plot without title"
      ]
     },
     "metadata": {
      "image/png": {
       "height": 420,
       "width": 420
      }
     },
     "output_type": "display_data"
    }
   ],
   "source": [
    "#Make heatplot\n",
    "\n",
    "ggplot(deltaPFC13, aes(x=variable, y=id, fill=value)) +\n",
    "theme_classic()+\n",
    "theme(axis.text.x=element_text( size=6, angle=90, hjust=1),\n",
    "            plot.title = element_text(size=6),\n",
    "            panel.background = element_rect(colour = \"black\", size=.25, fill=NA),\n",
    "            axis.line.y = element_blank(),\n",
    "            axis.line.x=element_blank(),\n",
    "            axis.title.y = element_blank(),\n",
    "            axis.ticks.x = element_line(size=0.25),\n",
    "            axis.title.x = element_blank(),\n",
    "            legend.key.height= unit(0.2, 'cm'), \n",
    "            legend.key.width = unit(1.0, 'cm'),\n",
    "            legend.position = \"bottom\",\n",
    "            legend.text = element_text(size=6),\n",
    "            legend.title = element_blank())+\n",
    "    geom_tile() +\n",
    "    scale_fill_gradient2(limits=c(-0.5, 1), breaks=seq(-0.5,1,by=10),low = \"darkblue\",mid=\"white\",midpoint=0,high = \"red\",oob=squish) #\n",
    "#ggsave('./PFC all clusters expression heatmap norm to column.pdf',width=5, height=10)"
   ]
  },
  {
   "cell_type": "code",
   "execution_count": 73,
   "metadata": {
    "scrolled": true
   },
   "outputs": [
    {
     "data": {
      "image/png": "[encoded data removed]",
      "text/plain": [
       "plot without title"
      ]
     },
     "metadata": {
      "image/png": {
       "height": 420,
       "width": 420
      }
     },
     "output_type": "display_data"
    }
   ],
   "source": [
    "#Make heatplot\n",
    "\n",
    "ggplot(deltaNAc13, aes(x=variable, y=id, fill=value)) +\n",
    "theme_classic()+\n",
    "theme(axis.text.x=element_text( size=6, angle=90, hjust=1),\n",
    "            plot.title = element_text(size=6),\n",
    "            panel.background = element_rect(colour = \"black\", size=.25, fill=NA),\n",
    "            axis.line.y = element_blank(),\n",
    "            axis.line.x=element_blank(),\n",
    "            axis.title.y = element_blank(),\n",
    "            axis.ticks.x = element_line(size=0.25),\n",
    "            axis.title.x = element_blank(),\n",
    "            legend.key.height= unit(0.2, 'cm'), \n",
    "            legend.key.width = unit(1.0, 'cm'),\n",
    "            legend.position = \"bottom\",\n",
    "            legend.text = element_text(size=6),\n",
    "            legend.title = element_blank())+\n",
    "    geom_tile() +\n",
    "    scale_fill_gradient2(limits=c(-0.5, 1), breaks=seq(-0.5,1,by=10),low = \"darkblue\",mid=\"white\",midpoint=0,high = \"red\",oob=squish) #\n",
    "#ggsave('./NAc all clusters expression heatmap norm to column.pdf',width=5, height=10)"
   ]
  },
  {
   "cell_type": "code",
   "execution_count": 74,
   "metadata": {
    "scrolled": true
   },
   "outputs": [
    {
     "data": {
      "image/png": "[encoded data removed]",
      "text/plain": [
       "plot without title"
      ]
     },
     "metadata": {
      "image/png": {
       "height": 420,
       "width": 420
      }
     },
     "output_type": "display_data"
    }
   ],
   "source": [
    "#Make heatplot\n",
    "\n",
    "ggplot(deltaLH13, aes(x=variable, y=id, fill=value)) +\n",
    "theme_classic()+\n",
    "theme(axis.text.x=element_text( size=6, angle=90, hjust=1),\n",
    "            plot.title = element_text(size=6),\n",
    "            panel.background = element_rect(colour = \"black\", size=.25, fill=NA),\n",
    "            axis.line.y = element_blank(),\n",
    "            axis.line.x=element_blank(),\n",
    "            axis.title.y = element_blank(),\n",
    "            axis.ticks.x = element_line(size=0.25),\n",
    "            axis.title.x = element_blank(),\n",
    "            legend.key.height= unit(0.2, 'cm'), \n",
    "            legend.key.width = unit(1.0, 'cm'),\n",
    "            legend.position = \"bottom\",\n",
    "            legend.text = element_text(size=6),\n",
    "            legend.title = element_blank())+\n",
    "    geom_tile() +\n",
    "    scale_fill_gradient2(limits=c(-0.5, 1), breaks=seq(-0.5,1,by=10),low = \"darkblue\",mid=\"white\",midpoint=0,high = \"red\",oob=squish) #\n",
    "#ggsave('./LH all clusters expression heatmap norm to column.pdf',width=5, height=10)"
   ]
  },
  {
   "cell_type": "code",
   "execution_count": null,
   "metadata": {},
   "outputs": [],
   "source": []
  }
 ],
 "metadata": {
  "kernelspec": {
   "display_name": "R",
   "language": "R",
   "name": "ir"
  },
  "language_info": {
   "codemirror_mode": "r",
   "file_extension": ".r",
   "mimetype": "text/x-r-source",
   "name": "R",
   "pygments_lexer": "r",
   "version": "4.1.2"
  }
 },
 "nbformat": 4,
 "nbformat_minor": 2
}
