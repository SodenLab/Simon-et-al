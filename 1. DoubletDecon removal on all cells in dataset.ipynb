{
 "cells": [
  {
   "cell_type": "markdown",
   "metadata": {},
   "source": [
    "## Estimating doublets on preprocessed data"
   ]
  },
  {
   "cell_type": "markdown",
   "metadata": {},
   "source": [
    "Import necessary libraries"
   ]
  },
  {
   "cell_type": "code",
   "execution_count": 2,
   "metadata": {
    "collapsed": true
   },
   "outputs": [
    {
     "name": "stderr",
     "output_type": "stream",
     "text": [
      "Warning message:\n",
      "\"package 'Seurat' was built under R version 3.6.3\"Warning message:\n",
      "\"package 'dplyr' was built under R version 3.6.3\"\n",
      "Attaching package: 'dplyr'\n",
      "\n",
      "The following objects are masked from 'package:stats':\n",
      "\n",
      "    filter, lag\n",
      "\n",
      "The following objects are masked from 'package:base':\n",
      "\n",
      "    intersect, setdiff, setequal, union\n",
      "\n",
      "Warning message:\n",
      "\"package 'magrittr' was built under R version 3.6.3\""
     ]
    },
    {
     "data": {
      "text/html": [
       "<style> .container { width:95% !important; } </style>"
      ]
     },
     "metadata": {},
     "output_type": "display_data"
    },
    {
     "name": "stderr",
     "output_type": "stream",
     "text": [
      "Warning message:\n",
      "\"package 'xlsx' was built under R version 3.6.3\""
     ]
    }
   ],
   "source": [
    "library(Seurat)\n",
    "library(dplyr)\n",
    "library(magrittr)\n",
    "IRdisplay::display_html(\"<style> .container { width:95% !important; } </style>\")\n",
    "library(\"xlsx\")"
   ]
  },
  {
   "cell_type": "markdown",
   "metadata": {},
   "source": [
    "## Quick data quality check on each sample"
   ]
  },
  {
   "cell_type": "markdown",
   "metadata": {},
   "source": [
    "### Control (eYFP)"
   ]
  },
  {
   "cell_type": "code",
   "execution_count": null,
   "metadata": {},
   "outputs": [],
   "source": [
    "VTA_YFP.data <-Read10X(data.dir = \"D:/scRNAseq/30-453842648/01_analysis/cellranger_count/YFP/raw_feature_bc_matrix\")\n",
    "colnames(VTA_YFP.data) = paste0(colnames(VTA_YFP.data),\"VTA_YFP\")\n",
    "VTA_YFP<- CreateSeuratObject(counts = VTA_YFP.data, min.cells = 3, min.features = 200, project = \"10X_VTA_stim\")\n",
    "new_barcodes <- gsub(\"-1\",\"\",colnames(VTA_YFP))\n",
    "VTA_YFP <- RenameCells(VTA_YFP, new.names = new_barcodes)\n",
    "VTA_YFP@meta.data$stim <- \"VTA_YFP\"\n",
    "\n",
    "mito.features <- grep(pattern = \"^mt-\", x = rownames(x =VTA_YFP), value = TRUE)\n",
    "percent.mito <- Matrix::colSums(x = GetAssayData(object = VTA_YFP, slot = 'counts')[mito.features, ]) / Matrix::colSums(x = GetAssayData(object = VTA_YFP, slot = 'counts'))\n",
    "VTA_YFP[['percent.mito']] <- percent.mito"
   ]
  },
  {
   "cell_type": "code",
   "execution_count": null,
   "metadata": {},
   "outputs": [],
   "source": [
    "head(VTA_YFP@meta.data)"
   ]
  },
  {
   "cell_type": "code",
   "execution_count": null,
   "metadata": {
    "scrolled": true
   },
   "outputs": [],
   "source": [
    "FeatureScatter(object = VTA_YFP, feature1 = \"nCount_RNA\", feature2 = \"percent.mito\",pt.size=0.1) \n",
    "hist(VTA_YFP@meta.data$percent.mito,breaks=seq(0,0.7,0.01))\n",
    "hist(VTA_YFP@meta.data$nCount_RNA,breaks=seq(0,1000000,300),xlim = c(0,8000))"
   ]
  },
  {
   "cell_type": "markdown",
   "metadata": {},
   "source": [
    "### LH stim"
   ]
  },
  {
   "cell_type": "code",
   "execution_count": null,
   "metadata": {},
   "outputs": [],
   "source": [
    "VTA_LH.data <-Read10X(data.dir = \"D:/scRNAseq/30-573274809/01_analysis/cellranger_count/LH/raw_feature_bc_matrix\")\n",
    "colnames(VTA_LH.data) = paste0(colnames(VTA_LH.data),\"VTA_LH\")\n",
    "VTA_LH<- CreateSeuratObject(counts = VTA_LH.data, min.cells = 3, min.features = 200, project = \"10X_VTA_stim\")\n",
    "new_barcodes <- gsub(\"-1\",\"\",colnames(VTA_LH))\n",
    "VTA_LH <- RenameCells(VTA_LH, new.names = new_barcodes)\n",
    "VTA_LH@meta.data$stim <- \"VTA_LH\"\n",
    "\n",
    "mito.features <- grep(pattern = \"^mt-\", x = rownames(x =VTA_LH), value = TRUE)\n",
    "percent.mito <- Matrix::colSums(x = GetAssayData(object = VTA_LH, slot = 'counts')[mito.features, ]) / Matrix::colSums(x = GetAssayData(object =VTA_LH, slot = 'counts'))\n",
    "VTA_LH[['percent.mito']] <- percent.mito"
   ]
  },
  {
   "cell_type": "code",
   "execution_count": null,
   "metadata": {},
   "outputs": [],
   "source": [
    "FeatureScatter(object = VTA_LH , feature1 = \"nCount_RNA\", feature2 = \"percent.mito\",pt.size=0.1)\n",
    "hist(VTA_LH@meta.data$percent.mito,breaks=seq(0,0.7,0.01))\n",
    "hist(VTA_LH@meta.data$nCount_RNA,breaks=seq(0,1000000,300),xlim = c(0,8000))"
   ]
  },
  {
   "cell_type": "markdown",
   "metadata": {},
   "source": [
    "### NAc stim"
   ]
  },
  {
   "cell_type": "code",
   "execution_count": null,
   "metadata": {},
   "outputs": [],
   "source": [
    "VTA_NAc.data <-Read10X(data.dir = \"D:/scRNAseq/30-573274809/01_analysis/cellranger_count/NAc/raw_feature_bc_matrix\")\n",
    "colnames(VTA_NAc.data) = paste0(colnames(VTA_NAc.data),\"VTA_NAc\")\n",
    "VTA_NAc<- CreateSeuratObject(counts = VTA_NAc.data, min.cells = 3, min.features = 200, project = \"10X_VTA_stim\")\n",
    "new_barcodes <- gsub(\"-1\",\"\",colnames(VTA_NAc))\n",
    "VTA_NAc <- RenameCells(VTA_NAc, new.names = new_barcodes)\n",
    "VTA_NAc@meta.data$stim <- \"VTA_NAc\"\n",
    "\n",
    "mito.features <- grep(pattern = \"^mt-\", x = rownames(x =VTA_NAc), value = TRUE)\n",
    "percent.mito <- Matrix::colSums(x = GetAssayData(object = VTA_NAc, slot = 'counts')[mito.features, ]) / Matrix::colSums(x = GetAssayData(object = VTA_NAc, slot = 'counts'))\n",
    "VTA_NAc[['percent.mito']] <- percent.mito"
   ]
  },
  {
   "cell_type": "code",
   "execution_count": null,
   "metadata": {},
   "outputs": [],
   "source": [
    "FeatureScatter(object = VTA_NAc , feature1 = \"nCount_RNA\", feature2 = \"percent.mito\",pt.size=0.1)\n",
    "hist(VTA_NAc@meta.data$percent.mito,breaks=seq(0,0.7,0.01))\n",
    "hist(VTA_NAc@meta.data$nCount_RNA,breaks=seq(0,1000000,300),xlim = c(0,8000))"
   ]
  },
  {
   "cell_type": "markdown",
   "metadata": {},
   "source": [
    "### PFC stim"
   ]
  },
  {
   "cell_type": "code",
   "execution_count": null,
   "metadata": {},
   "outputs": [],
   "source": [
    "VTA_PFC.data <-Read10X(data.dir = \"D:/scRNAseq/30-573274809/01_analysis/cellranger_count/PFC/raw_feature_bc_matrix\")\n",
    "colnames(VTA_PFC.data) = paste0(colnames(VTA_PFC.data),\"VTA_PFC\")\n",
    "VTA_PFC<- CreateSeuratObject(counts = VTA_PFC.data, min.cells = 3, min.features = 200, project = \"10X_VTA_stim\")\n",
    "new_barcodes <- gsub(\"-1\",\"\",colnames(VTA_PFC))\n",
    "VTA_PFC <- RenameCells(VTA_PFC, new.names = new_barcodes)\n",
    "VTA_PFC@meta.data$stim <- \"VTA_PFC\"\n",
    "\n",
    "mito.features <- grep(pattern = \"^mt-\", x = rownames(x =VTA_PFC), value = TRUE)\n",
    "percent.mito <- Matrix::colSums(x = GetAssayData(object = VTA_PFC, slot = 'counts')[mito.features, ]) / Matrix::colSums(x = GetAssayData(object = VTA_PFC, slot = 'counts'))\n",
    "VTA_PFC[['percent.mito']] <- percent.mito"
   ]
  },
  {
   "cell_type": "code",
   "execution_count": null,
   "metadata": {},
   "outputs": [],
   "source": [
    "FeatureScatter(object = VTA_PFC , feature1 = \"nCount_RNA\", feature2 = \"percent.mito\",pt.size=0.1)\n",
    "hist(VTA_PFC@meta.data$percent.mito,breaks=seq(0,0.7,0.01))\n",
    "hist(VTA_PFC@meta.data$nCount_RNA,breaks=seq(0,1000000,300),xlim = c(0,8000))"
   ]
  },
  {
   "cell_type": "markdown",
   "metadata": {},
   "source": [
    "# Doublet simulation"
   ]
  },
  {
   "cell_type": "markdown",
   "metadata": {},
   "source": [
    "Data normalization, scaling, and dimensionality reduction"
   ]
  },
  {
   "cell_type": "code",
   "execution_count": null,
   "metadata": {},
   "outputs": [],
   "source": [
    "sample<-c(\"VTA_YFP\",\"VTA_LH\",\"VTA_NAc\",\"VTA_PFC\")"
   ]
  },
  {
   "cell_type": "code",
   "execution_count": null,
   "metadata": {},
   "outputs": [],
   "source": [
    "VTA_YFP <- subset(x = VTA_YFP, subset = nCount_RNA > 700 & nCount_RNA < 25000 & percent.mito < 0.01) # you may change percent.mito from 0.2 to 0.3 "
   ]
  },
  {
   "cell_type": "code",
   "execution_count": null,
   "metadata": {},
   "outputs": [],
   "source": [
    "#VTA_YFP <- subset(x = VTA_YFP, subset = nCount_RNA > 500 & nCount_RNA < 25000 & percent.mito < 0.05) # you may change percent.mito from 0.2 to 0.3 \n",
    "\n",
    "VTA_YFP<- NormalizeData(object = VTA_YFP,verbose = FALSE) \n",
    "\n",
    "VTA_YFP<- FindVariableFeatures(object =VTA_YFP,selection.method = \"vst\", nfeatures = 2000, verbose = FALSE)\n",
    "\n",
    "VTA_YFP<- ScaleData(object = VTA_YFP, features = rownames(x =VTA_YFP), vars.to.regress = c(\"nCount_RNA\", \"percent.mito\"))\n",
    "\n",
    "VTA_YFP<- RunPCA(object = VTA_YFP, features = VariableFeatures(object =VTA_YFP), verbose = FALSE)\n",
    "\n",
    "VTA_YFP<- FindNeighbors(object =VTA_YFP, dims = 1:30)\n",
    "VTA_YFP<- FindClusters(object = VTA_YFP, resolution = 0.8)\n",
    "\n",
    "saveRDS(VTA_YFP,file = \"/Users/stuberadmin/Documents/scRNAseq/Marta_VTA/Doublet_processing/VTA_YFP\")"
   ]
  },
  {
   "cell_type": "code",
   "execution_count": null,
   "metadata": {},
   "outputs": [],
   "source": [
    "my_data <- read.delim(\"/Users/stuberadmin/Documents/scRNAseq/Marta_VTA/Doublet_processing/YFP/counts.txt\")"
   ]
  },
  {
   "cell_type": "code",
   "execution_count": null,
   "metadata": {},
   "outputs": [],
   "source": [
    "VTA_YFP <- readRDS(file = \"/Users/stuberadmin/Documents/scRNAseq/Marta_VTA/Doublet_processing/VTA_YFP\")"
   ]
  },
  {
   "cell_type": "code",
   "execution_count": null,
   "metadata": {},
   "outputs": [],
   "source": [
    "VTA_LH <- subset(x = VTA_LH, subset = nCount_RNA > 800 & nCount_RNA < 25000 & percent.mito < 0.01) \n",
    "\n",
    "VTA_LH<- NormalizeData(object = VTA_LH,verbose = FALSE) \n",
    "\n",
    "VTA_LH<- FindVariableFeatures(object =VTA_LH,selection.method = \"vst\", nfeatures = 2000, verbose = FALSE)\n",
    "\n",
    "VTA_LH<- ScaleData(object = VTA_LH, features = rownames(x =VTA_LH), vars.to.regress = c(\"nCount_RNA\", \"percent.mito\"))\n",
    "\n",
    "VTA_LH<- RunPCA(object = VTA_LH, features = VariableFeatures(object =VTA_LH), verbose = FALSE)\n",
    "\n",
    "VTA_LH<- FindNeighbors(object =VTA_LH, dims = 1:30)\n",
    "VTA_LH<- FindClusters(object = VTA_LH, resolution = 0.8)\n",
    "\n",
    "saveRDS(VTA_LH,file = \"/Users/stuberadmin/Documents/scRNAseq/Marta_VTA/Doublet_processing/VTA_LH\")"
   ]
  },
  {
   "cell_type": "code",
   "execution_count": null,
   "metadata": {},
   "outputs": [],
   "source": [
    "VTA_LH <- readRDS(file = \"/Users/stuberadmin/Documents/scRNAseq/Marta_VTA/Doublet_processing/VTA_LH\")"
   ]
  },
  {
   "cell_type": "code",
   "execution_count": null,
   "metadata": {},
   "outputs": [],
   "source": [
    "VTA_NAc <- subset(x = VTA_NAc, subset = nCount_RNA > 800 & nCount_RNA < 25000 & percent.mito < 0.01)\n",
    "\n",
    "VTA_NAc<- NormalizeData(object = VTA_NAc,verbose = FALSE) \n",
    "\n",
    "VTA_NAc<- FindVariableFeatures(object =VTA_NAc,selection.method = \"vst\", nfeatures = 2000, verbose = FALSE)\n",
    "\n",
    "VTA_NAc<- ScaleData(object = VTA_NAc, features = rownames(x =VTA_NAc), vars.to.regress = c(\"nCount_RNA\", \"percent.mito\"))\n",
    "\n",
    "VTA_NAc<- RunPCA(object = VTA_NAc, features = VariableFeatures(object =VTA_NAc), verbose = FALSE)\n",
    "\n",
    "VTA_NAc<- FindNeighbors(object =VTA_NAc, dims = 1:30)\n",
    "VTA_NAc<- FindClusters(object = VTA_NAc, resolution = 0.8)\n",
    "\n",
    "saveRDS(VTA_NAc,file = \"/Users/stuberadmin/Documents/scRNAseq/Marta_VTA/Doublet_processing/VTA_NAc\")"
   ]
  },
  {
   "cell_type": "code",
   "execution_count": null,
   "metadata": {},
   "outputs": [],
   "source": [
    "VTA_NAc <- readRDS(file = \"/Users/stuberadmin/Documents/scRNAseq/Marta_VTA/Doublet_processing/VTA_NAc\")"
   ]
  },
  {
   "cell_type": "code",
   "execution_count": null,
   "metadata": {},
   "outputs": [],
   "source": [
    "VTA_PFC <- subset(x = VTA_PFC, subset = nCount_RNA > 900 & nCount_RNA < 25000 & percent.mito < 0.01) # you may change percent.mito from 0.2 to 0.3 \n",
    "str(VTA_PFC)"
   ]
  },
  {
   "cell_type": "code",
   "execution_count": null,
   "metadata": {},
   "outputs": [],
   "source": [
    "VTA_PFC<- NormalizeData(object = VTA_PFC,verbose = FALSE) \n",
    "\n",
    "VTA_PFC<- FindVariableFeatures(object =VTA_PFC,selection.method = \"vst\", nfeatures = 2000, verbose = FALSE)\n",
    "\n",
    "VTA_PFC<- ScaleData(object = VTA_PFC, features = rownames(x =VTA_PFC), vars.to.regress = c(\"nCount_RNA\", \"percent.mito\"))\n",
    "\n",
    "VTA_PFC<- RunPCA(object = VTA_PFC, features = VariableFeatures(object =VTA_PFC), verbose = FALSE)\n",
    "\n",
    "VTA_PFC<- FindNeighbors(object =VTA_PFC, dims = 1:30)\n",
    "VTA_PFC<- FindClusters(object = VTA_PFC, resolution = 0.8)\n",
    "\n",
    "saveRDS(VTA_PFC,file = \"/Users/stuberadmin/Documents/scRNAseq/Marta_VTA/Doublet_processing/VTA_PFC\")"
   ]
  },
  {
   "cell_type": "code",
   "execution_count": null,
   "metadata": {},
   "outputs": [],
   "source": [
    "VTA_PFC <- readRDS(file = \"/Users/stuberadmin/Documents/scRNAseq/Marta_VTA/Doublet_processing/VTA_PFC\")"
   ]
  },
  {
   "cell_type": "markdown",
   "metadata": {},
   "source": [
    "Run UMAP on each sample separately"
   ]
  },
  {
   "cell_type": "code",
   "execution_count": null,
   "metadata": {},
   "outputs": [],
   "source": [
    "VTA_YFP <- RunUMAP(VTA_YFP, reduction='pca', dims=1:30)"
   ]
  },
  {
   "cell_type": "code",
   "execution_count": null,
   "metadata": {},
   "outputs": [],
   "source": [
    "VTA_LH <- RunUMAP(VTA_LH, reduction='pca', dims=1:30)"
   ]
  },
  {
   "cell_type": "code",
   "execution_count": null,
   "metadata": {},
   "outputs": [],
   "source": [
    "VTA_PFC <- RunUMAP(VTA_PFC, reduction='pca', dims=1:30)"
   ]
  },
  {
   "cell_type": "code",
   "execution_count": null,
   "metadata": {},
   "outputs": [],
   "source": [
    "VTA_NAc <- RunUMAP(VTA_NAc, reduction='pca', dims=1:30)"
   ]
  },
  {
   "cell_type": "code",
   "execution_count": null,
   "metadata": {},
   "outputs": [],
   "source": [
    "str(VTA_PFC)"
   ]
  },
  {
   "cell_type": "markdown",
   "metadata": {},
   "source": [
    "Re-import files if necessary"
   ]
  },
  {
   "cell_type": "code",
   "execution_count": null,
   "metadata": {},
   "outputs": [],
   "source": [
    "VTA_YFP<-readRDS(file = \"/Users/stuberadmin/Documents/scRNAseq/Marta_VTA/Doublet_processing/VTA_YFP\")\n",
    "VTA_LH<-readRDS(file = \"/Users/stuberadmin/Documents/scRNAseq/Marta_VTA/Doublet_processing/VTA_LH\")\n",
    "VTA_NAc<-readRDS(file = \"/Users/stuberadmin/Documents/scRNAseq/Marta_VTA/Doublet_processing/VTA_NAc\")\n",
    "VTA_PFC<-readRDS(file = \"/Users/stuberadmin/Documents/scRNAseq/Marta_VTA/Doublet_processing/VTA_PFC\")"
   ]
  },
  {
   "cell_type": "code",
   "execution_count": null,
   "metadata": {},
   "outputs": [],
   "source": [
    "counts<-as.matrix(VTA_YFP@assays$RNA@data)\n",
    "write.table(data.frame(\"GENE\"=rownames(counts),counts),file=\"/Users/stuberadmin/Documents/scRNAseq/Marta_VTA/Doublet_processing/YFP/counts.txt\",row.names=FALSE,sep=\"\\t\")\n",
    "markers <- FindAllMarkers(object = VTA_YFP, only.pos = TRUE, min.pct = 0.25)\n",
    "top_50<-markers %>% group_by(cluster) %>% top_n(50)\n",
    "write.table(data.frame(\"test\"=as.character(rownames(top_50)),top_50),file=\"/Users/stuberadmin/Documents/scRNAseq/Marta_VTA/Doublet_processing/YFP/Top50Genes.txt\",row.names=FALSE,col.names=c(\"\",colnames(top_50)),sep=\"\\t\",eol=\"\\n\")\n",
    "cluster<-Idents(object=VTA_YFP)\n",
    "cluster<-as.matrix(cluster)\n",
    "cluster[,1]<-as.character(cluster[,1])\n",
    "cluster[,0]<-as.character(cluster[,0])\n",
    "cluster<-data.frame(\"x\"=rownames(cluster),cluster)\n",
    "write.table(cluster,file=\"/Users/stuberadmin/Documents/scRNAseq/Marta_VTA/Doublet_processing/YFP/Cluster.txt\",row.names=FALSE,col.names=c(\"\",\"x\"),sep=\"\\t\",eol=\"\\n\")"
   ]
  },
  {
   "cell_type": "code",
   "execution_count": null,
   "metadata": {},
   "outputs": [],
   "source": [
    "library(\"DoubletDecon\")\n",
    "location=\"/Users/stuberadmin/Documents/scRNAseq/Marta_VTA/Doublet_processing/YFP/\" #Update as needed \n",
    "expressionFile=paste0(location, \"counts.txt\")\n",
    "genesFile=paste0(location, \"Top50Genes.txt\")\n",
    "clustersFile=paste0(location, \"Cluster.txt\")\n",
    "\n",
    "newFiles=Seurat_Pre_Process(expressionFile, genesFile, clustersFile)\n",
    "\n",
    "results=Main_Doublet_Decon(rawDataFile=newFiles$newExpressionFile, \n",
    "                           groupsFile=newFiles$newGroupsFile, \n",
    "                           filename=\"cntl\", \n",
    "                           location=location,\n",
    "                           fullDataFile=NULL, \n",
    "                           removeCC=FALSE, \n",
    "                           species=\"mmu\", \n",
    "                           rhop=1.1, \n",
    "                           write=TRUE, \n",
    "                           PMF=TRUE, \n",
    "                           useFull=FALSE, \n",
    "                           heatmap=FALSE,\n",
    "                           centroids=TRUE,\n",
    "                           num_doubs=100, \n",
    "                           only50=TRUE,\n",
    "                           min_uniq=4)"
   ]
  },
  {
   "cell_type": "code",
   "execution_count": null,
   "metadata": {},
   "outputs": [],
   "source": []
  },
  {
   "cell_type": "code",
   "execution_count": null,
   "metadata": {},
   "outputs": [],
   "source": [
    "counts<-as.matrix(VTA_LH@assays$RNA@data)\n",
    "write.table(data.frame(\"GENE\"=rownames(counts),counts),file=\"/Users/stuberadmin/Documents/scRNAseq/Marta_VTA/Doublet_processing/LH/counts.txt\",row.names=FALSE,sep=\"\\t\")\n",
    "markers <- FindAllMarkers(object = VTA_LH, only.pos = TRUE, min.pct = 0.25)\n",
    "top_50<-markers %>% group_by(cluster) %>% top_n(50)\n",
    "write.table(data.frame(\"test\"=as.character(rownames(top_50)),top_50),file=\"/Users/stuberadmin/Documents/scRNAseq/Marta_VTA/Doublet_processing/LH/Top50Genes.txt\",row.names=FALSE,col.names=c(\"\",colnames(top_50)),sep=\"\\t\",eol=\"\\n\")\n",
    "cluster<-Idents(object=VTA_LH)\n",
    "cluster<-as.matrix(cluster)\n",
    "cluster[,1]<-as.character(cluster[,1])\n",
    "cluster[,0]<-as.character(cluster[,0])\n",
    "cluster<-data.frame(\"x\"=rownames(cluster),cluster)\n",
    "write.table(cluster,file=\"/Users/stuberadmin/Documents/scRNAseq/Marta_VTA/Doublet_processing/LH/Cluster.txt\",row.names=FALSE,col.names=c(\"\",\"x\"),sep=\"\\t\",eol=\"\\n\")"
   ]
  },
  {
   "cell_type": "code",
   "execution_count": null,
   "metadata": {},
   "outputs": [],
   "source": [
    "library(\"DoubletDecon\")\n",
    "location=\"/Users/stuberadmin/Documents/scRNAseq/Marta_VTA/Doublet_processing/LH/\" #Update as needed \n",
    "expressionFile=paste0(location, \"counts.txt\")\n",
    "genesFile=paste0(location, \"Top50Genes.txt\")\n",
    "clustersFile=paste0(location, \"Cluster.txt\")\n",
    "\n",
    "newFiles=Seurat_Pre_Process(expressionFile, genesFile, clustersFile)\n",
    "\n",
    "results=Main_Doublet_Decon(rawDataFile=newFiles$newExpressionFile, \n",
    "                           groupsFile=newFiles$newGroupsFile, \n",
    "                           filename=\"cntl\", \n",
    "                           location=location,\n",
    "                           fullDataFile=NULL, \n",
    "                           removeCC=FALSE, \n",
    "                           species=\"mmu\", \n",
    "                           rhop=1.1, \n",
    "                           write=TRUE, \n",
    "                           PMF=TRUE, \n",
    "                           useFull=FALSE, \n",
    "                           heatmap=FALSE,\n",
    "                           centroids=TRUE,\n",
    "                           num_doubs=100, \n",
    "                           only50=TRUE,\n",
    "                           min_uniq=4)"
   ]
  },
  {
   "cell_type": "code",
   "execution_count": null,
   "metadata": {},
   "outputs": [],
   "source": []
  },
  {
   "cell_type": "code",
   "execution_count": null,
   "metadata": {},
   "outputs": [],
   "source": [
    "counts<-as.matrix(VTA_NAc@assays$RNA@data)\n",
    "write.table(data.frame(\"GENE\"=rownames(counts),counts),file=\"/Users/stuberadmin/Documents/scRNAseq/Marta_VTA/Doublet_processing/NAc/counts.txt\",row.names=FALSE,sep=\"\\t\")\n",
    "markers <- FindAllMarkers(object = VTA_NAc, only.pos = TRUE, min.pct = 0.25)\n",
    "top_50<-markers %>% group_by(cluster) %>% top_n(50)\n",
    "write.table(data.frame(\"test\"=as.character(rownames(top_50)),top_50),file=\"/Users/stuberadmin/Documents/scRNAseq/Marta_VTA/Doublet_processing/NAc/Top50Genes.txt\",row.names=FALSE,col.names=c(\"\",colnames(top_50)),sep=\"\\t\",eol=\"\\n\")\n",
    "cluster<-Idents(object=VTA_NAc)\n",
    "cluster<-as.matrix(cluster)\n",
    "cluster[,1]<-as.character(cluster[,1])\n",
    "cluster[,0]<-as.character(cluster[,0])\n",
    "cluster<-data.frame(\"x\"=rownames(cluster),cluster)\n",
    "write.table(cluster,file=\"/Users/stuberadmin/Documents/scRNAseq/Marta_VTA/Doublet_processing/NAc/Cluster.txt\",row.names=FALSE,col.names=c(\"\",\"x\"),sep=\"\\t\",eol=\"\\n\")"
   ]
  },
  {
   "cell_type": "code",
   "execution_count": null,
   "metadata": {},
   "outputs": [],
   "source": [
    "library(\"DoubletDecon\")\n",
    "location=\"/Users/stuberadmin/Documents/scRNAseq/Marta_VTA/Doublet_processing/NAc/\" #Update as needed \n",
    "expressionFile=paste0(location, \"counts.txt\")\n",
    "genesFile=paste0(location, \"Top50Genes.txt\")\n",
    "clustersFile=paste0(location, \"Cluster.txt\")\n",
    "\n",
    "newFiles=Seurat_Pre_Process(expressionFile, genesFile, clustersFile)\n",
    "\n",
    "results=Main_Doublet_Decon(rawDataFile=newFiles$newExpressionFile, \n",
    "                           groupsFile=newFiles$newGroupsFile, \n",
    "                           filename=\"cntl\", \n",
    "                           location=location,\n",
    "                           fullDataFile=NULL, \n",
    "                           removeCC=FALSE, \n",
    "                           species=\"mmu\", \n",
    "                           rhop=1.5, \n",
    "                           write=TRUE, \n",
    "                           PMF=TRUE, \n",
    "                           useFull=FALSE, \n",
    "                           heatmap=FALSE,\n",
    "                           centroids=TRUE,\n",
    "                           num_doubs=100, \n",
    "                           only50=TRUE,\n",
    "                           min_uniq=4)"
   ]
  },
  {
   "cell_type": "code",
   "execution_count": null,
   "metadata": {},
   "outputs": [],
   "source": []
  },
  {
   "cell_type": "code",
   "execution_count": null,
   "metadata": {},
   "outputs": [],
   "source": []
  },
  {
   "cell_type": "code",
   "execution_count": null,
   "metadata": {},
   "outputs": [],
   "source": [
    "counts<-as.matrix(VTA_PFC@assays$RNA@data)\n",
    "write.table(data.frame(\"GENE\"=rownames(counts),counts),file=\"/Users/stuberadmin/Documents/scRNAseq/Marta_VTA/Doublet_processing/PFC/counts.txt\",row.names=FALSE,sep=\"\\t\")\n",
    "markers <- FindAllMarkers(object = VTA_PFC, only.pos = TRUE, min.pct = 0.25)\n",
    "top_50<-markers %>% group_by(cluster) %>% top_n(50)\n",
    "write.table(data.frame(\"test\"=as.character(rownames(top_50)),top_50),file=\"/Users/stuberadmin/Documents/scRNAseq/Marta_VTA/Doublet_processing/PFC/Top50Genes.txt\",row.names=FALSE,col.names=c(\"\",colnames(top_50)),sep=\"\\t\",eol=\"\\n\")\n",
    "cluster<-Idents(object=VTA_PFC)\n",
    "cluster<-as.matrix(cluster)\n",
    "cluster[,1]<-as.character(cluster[,1])\n",
    "cluster[,0]<-as.character(cluster[,0])\n",
    "cluster<-data.frame(\"x\"=rownames(cluster),cluster)\n",
    "write.table(cluster,file=\"/Users/stuberadmin/Documents/scRNAseq/Marta_VTA/Doublet_processing/PFC/Cluster.txt\",row.names=FALSE,col.names=c(\"\",\"x\"),sep=\"\\t\",eol=\"\\n\")"
   ]
  },
  {
   "cell_type": "code",
   "execution_count": null,
   "metadata": {},
   "outputs": [],
   "source": [
    "library(\"DoubletDecon\")\n",
    "location=\"/Users/stuberadmin/Documents/scRNAseq/Marta_VTA/Doublet_processing/PFC/\" #Update as needed \n",
    "expressionFile=paste0(location, \"counts.txt\")\n",
    "genesFile=paste0(location, \"Top50Genes.txt\")\n",
    "clustersFile=paste0(location, \"Cluster.txt\")\n",
    "\n",
    "newFiles=Seurat_Pre_Process(expressionFile, genesFile, clustersFile)\n",
    "\n",
    "results=Main_Doublet_Decon(rawDataFile=newFiles$newExpressionFile, \n",
    "                           groupsFile=newFiles$newGroupsFile, \n",
    "                           filename=\"cntl\", \n",
    "                           location=location,\n",
    "                           fullDataFile=NULL, \n",
    "                           removeCC=FALSE, \n",
    "                           species=\"mmu\", \n",
    "                           rhop=1.1, \n",
    "                           write=TRUE, \n",
    "                           PMF=TRUE, \n",
    "                           useFull=FALSE, \n",
    "                           heatmap=FALSE,\n",
    "                           centroids=TRUE,\n",
    "                           num_doubs=100, \n",
    "                           only50=TRUE,\n",
    "                           min_uniq=4)"
   ]
  },
  {
   "cell_type": "code",
   "execution_count": null,
   "metadata": {},
   "outputs": [],
   "source": []
  },
  {
   "cell_type": "markdown",
   "metadata": {},
   "source": [
    "## Checking estimated doublet rates"
   ]
  },
  {
   "cell_type": "code",
   "execution_count": 3,
   "metadata": {
    "scrolled": true
   },
   "outputs": [
    {
     "data": {
      "text/html": [
       "2.49015194147439"
      ],
      "text/latex": [
       "2.49015194147439"
      ],
      "text/markdown": [
       "2.49015194147439"
      ],
      "text/plain": [
       "[1] 2.490152"
      ]
     },
     "metadata": {},
     "output_type": "display_data"
    }
   ],
   "source": [
    "VTA_YFP.data <-Read10X(data.dir = \"D:/scRNAseq/30-453842648/01_analysis/cellranger_count/YFP/raw_feature_bc_matrix\")\n",
    "colnames(VTA_YFP.data) = paste0(colnames(VTA_YFP.data),\"VTA_YFP\")\n",
    "VTA_YFP<- CreateSeuratObject(counts = VTA_YFP.data, min.cells = 3, min.features = 200, project = \"VTA_seq\")\n",
    "new_barcodes <- gsub(\"-1\",\"\",colnames(VTA_YFP))\n",
    "VTA_YFP <- RenameCells(VTA_YFP, new.names = new_barcodes)\n",
    "VTA_YFP@meta.data$stim <- \"VTA_YFP\"\n",
    "\n",
    "VTA_YFP_clean<-rownames(read.table(file=\"/Users/stuberadmin/Documents/scRNAseq/Marta_VTA/Doublet_processing_iter1/YFP/Final_nondoublets_groups_cntl.txt\"))\n",
    "VTA_YFP_doublet<-rownames(read.table(file=\"/Users/stuberadmin/Documents/scRNAseq/Marta_VTA/Doublet_processing_iter1/YFP/Final_doublets_groups_cntl.txt\"))\n",
    "doubletrate_VTA_YFP<-100*length(VTA_YFP_doublet)/(length(VTA_YFP_clean)+length(VTA_YFP_doublet))\n",
    "doubletrate_VTA_YFP\n",
    "#AH_clean<-gsub(\"\\\\.\",\"-\",AH_clean) # for a reason, something weird change occured in the cellbarcode after running double decon and we need to replace comma back to -\n",
    "VTA_YFP<-subset(x=VTA_YFP,cells=VTA_YFP_clean)"
   ]
  },
  {
   "cell_type": "code",
   "execution_count": 5,
   "metadata": {
    "scrolled": true
   },
   "outputs": [
    {
     "data": {
      "text/html": [
       "4.84816196057539"
      ],
      "text/latex": [
       "4.84816196057539"
      ],
      "text/markdown": [
       "4.84816196057539"
      ],
      "text/plain": [
       "[1] 4.848162"
      ]
     },
     "metadata": {},
     "output_type": "display_data"
    }
   ],
   "source": [
    "VTA_LH.data <-Read10X(data.dir = \"D:/scRNAseq/30-573274809/01_analysis/cellranger_count/LH/raw_feature_bc_matrix\")\n",
    "colnames(VTA_LH.data) = paste0(colnames(VTA_LH.data),\"VTA_LH\")\n",
    "VTA_LH<- CreateSeuratObject(counts = VTA_LH.data, min.cells = 3, min.features = 200, project = \"VTA_seq\")\n",
    "new_barcodes <- gsub(\"-1\",\"\",colnames(VTA_LH))\n",
    "VTA_LH <- RenameCells(VTA_LH, new.names = new_barcodes)\n",
    "VTA_LH@meta.data$stim <- \"VTA_LH\"\n",
    "\n",
    "VTA_LH_clean<-rownames(read.table(file=\"/Users/stuberadmin/Documents/scRNAseq/Marta_VTA/Doublet_processing_iter1/LH/Final_nondoublets_groups_cntl.txt\"))\n",
    "VTA_LH_doublet<-rownames(read.table(file=\"/Users/stuberadmin/Documents/scRNAseq/Marta_VTA/Doublet_processing_iter1/LH/Final_doublets_groups_cntl.txt\"))\n",
    "doubletrate_VTA_LH<-100*length(VTA_LH_doublet)/(length(VTA_LH_clean)+length(VTA_LH_doublet))\n",
    "doubletrate_VTA_LH\n",
    "#AH_clean<-gsub(\"\\\\.\",\"-\",AH_clean) # for a reason, something weird change occured in the cellbarcode after running double decon and we need to replace comma back to -\n",
    "VTA_LH<-subset(x=VTA_LH,cells=VTA_LH_clean)"
   ]
  },
  {
   "cell_type": "code",
   "execution_count": 7,
   "metadata": {
    "scrolled": true
   },
   "outputs": [
    {
     "data": {
      "text/html": [
       "5.24053224155578"
      ],
      "text/latex": [
       "5.24053224155578"
      ],
      "text/markdown": [
       "5.24053224155578"
      ],
      "text/plain": [
       "[1] 5.240532"
      ]
     },
     "metadata": {},
     "output_type": "display_data"
    }
   ],
   "source": [
    "VTA_NAc.data <-Read10X(data.dir = \"D:/scRNAseq/30-573274809/01_analysis/cellranger_count/NAc/raw_feature_bc_matrix\")\n",
    "colnames(VTA_NAc.data) = paste0(colnames(VTA_NAc.data),\"VTA_NAc\")\n",
    "VTA_NAc<- CreateSeuratObject(counts = VTA_NAc.data, min.cells = 3, min.features = 200, project = \"VTA_seq\")\n",
    "new_barcodes <- gsub(\"-1\",\"\",colnames(VTA_NAc))\n",
    "VTA_NAc <- RenameCells(VTA_NAc, new.names = new_barcodes)\n",
    "VTA_NAc@meta.data$stim <- \"VTA_NAc\"\n",
    "\n",
    "VTA_NAc_clean<-rownames(read.table(file=\"/Users/stuberadmin/Documents/scRNAseq/Marta_VTA/Doublet_processing_iter1/NAc/Final_nondoublets_groups_cntl.txt\"))\n",
    "VTA_NAc_doublet<-rownames(read.table(file=\"/Users/stuberadmin/Documents/scRNAseq/Marta_VTA/Doublet_processing_iter1/NAc/Final_doublets_groups_cntl.txt\"))\n",
    "doubletrate_VTA_NAc<-100*length(VTA_NAc_doublet)/(length(VTA_NAc_clean)+length(VTA_NAc_doublet))\n",
    "doubletrate_VTA_NAc\n",
    "#AH_clean<-gsub(\"\\\\.\",\"-\",AH_clean) # for a reason, something weird change occured in the cellbarcode after running double decon and we need to replace comma back to -\n",
    "VTA_NAc<-subset(x=VTA_NAc,cells=VTA_NAc_clean)"
   ]
  },
  {
   "cell_type": "code",
   "execution_count": 9,
   "metadata": {
    "scrolled": true
   },
   "outputs": [
    {
     "data": {
      "text/html": [
       "5.33543912655359"
      ],
      "text/latex": [
       "5.33543912655359"
      ],
      "text/markdown": [
       "5.33543912655359"
      ],
      "text/plain": [
       "[1] 5.335439"
      ]
     },
     "metadata": {},
     "output_type": "display_data"
    }
   ],
   "source": [
    "VTA_PFC.data <-Read10X(data.dir = \"D:/scRNAseq/30-573274809/01_analysis/cellranger_count/PFC/raw_feature_bc_matrix\")\n",
    "colnames(VTA_PFC.data) = paste0(colnames(VTA_PFC.data),\"VTA_PFC\")\n",
    "VTA_PFC<- CreateSeuratObject(counts = VTA_PFC.data, min.cells = 3, min.features = 200, project = \"VTA_seq\")\n",
    "new_barcodes <- gsub(\"-1\",\"\",colnames(VTA_PFC))\n",
    "VTA_PFC <- RenameCells(VTA_PFC, new.names = new_barcodes)\n",
    "VTA_PFC@meta.data$stim <- \"VTA_PFC\"\n",
    "\n",
    "VTA_PFC_clean<-rownames(read.table(file=\"/Users/stuberadmin/Documents/scRNAseq/Marta_VTA/Doublet_processing_iter1/PFC/Final_nondoublets_groups_cntl.txt\"))\n",
    "VTA_PFC_doublet<-rownames(read.table(file=\"/Users/stuberadmin/Documents/scRNAseq/Marta_VTA/Doublet_processing_iter1/PFC/Final_doublets_groups_cntl.txt\"))\n",
    "doubletrate_VTA_PFC<-100*length(VTA_PFC_doublet)/(length(VTA_PFC_clean)+length(VTA_PFC_doublet))\n",
    "doubletrate_VTA_PFC\n",
    "VTA_PFC<-subset(x=VTA_PFC,cells=VTA_PFC_clean)"
   ]
  },
  {
   "cell_type": "code",
   "execution_count": null,
   "metadata": {},
   "outputs": [],
   "source": []
  }
 ],
 "metadata": {
  "kernelspec": {
   "display_name": "R",
   "language": "R",
   "name": "ir"
  },
  "language_info": {
   "codemirror_mode": "r",
   "file_extension": ".r",
   "mimetype": "text/x-r-source",
   "name": "R",
   "pygments_lexer": "r",
   "version": "4.1.2"
  }
 },
 "nbformat": 4,
 "nbformat_minor": 2
}
